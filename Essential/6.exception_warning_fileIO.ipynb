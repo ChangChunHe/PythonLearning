{
 "cells": [
  {
   "cell_type": "markdown",
   "metadata": {
    "collapsed": true
   },
   "source": [
    "# 异常"
   ]
  },
  {
   "cell_type": "markdown",
   "metadata": {},
   "source": [
    "程序出现bug是很正常的事情, 所以为了程序即使在有bug的情况下也可以顺利运行, 并给出相对应的错误信息就很重要"
   ]
  },
  {
   "cell_type": "code",
   "execution_count": 1,
   "metadata": {
    "collapsed": true
   },
   "outputs": [],
   "source": [
    "import math\n",
    "def print_log10(x):\n",
    "    while True:\n",
    "        if x == 'q':\n",
    "            break\n",
    "        elif isinstance(x, str):\n",
    "            pass\n",
    "        elif isinstance(x, (int, float)):\n",
    "            return math.log10(x)"
   ]
  },
  {
   "cell_type": "code",
   "execution_count": 2,
   "metadata": {},
   "outputs": [
    {
     "data": {
      "text/plain": [
       "1.0"
      ]
     },
     "execution_count": 2,
     "metadata": {},
     "output_type": "execute_result"
    }
   ],
   "source": [
    "print_log10(10)"
   ]
  },
  {
   "cell_type": "markdown",
   "metadata": {},
   "source": [
    "这个函数可以实现输出以10为底数的对数, 直到输如q停止退出, 但是如果你输入一个负数或者0就会报错. 所以我们可以设置一个try-except结构来捕捉异常结果"
   ]
  },
  {
   "cell_type": "markdown",
   "metadata": {},
   "source": [
    "# try-except 结构"
   ]
  },
  {
   "cell_type": "code",
   "execution_count": 3,
   "metadata": {
    "collapsed": true
   },
   "outputs": [],
   "source": [
    "import math\n",
    "def print_log10(x):\n",
    "    while True:\n",
    "        try:\n",
    "            if isinstance(x, str) and x[0]=='q':\n",
    "                break\n",
    "            elif isinstance(x, (int, float)):\n",
    "                a = math.log10(x)\n",
    "                return a\n",
    "        except ValueError:\n",
    "            print('Value must be a positive number')\n",
    "            break"
   ]
  },
  {
   "cell_type": "code",
   "execution_count": 4,
   "metadata": {},
   "outputs": [
    {
     "name": "stdout",
     "output_type": "stream",
     "text": [
      "Value must be a positive number\n"
     ]
    }
   ],
   "source": [
    "print_log10(-10)"
   ]
  },
  {
   "cell_type": "markdown",
   "metadata": {},
   "source": [
    "# 捕捉不同的异常类型"
   ]
  },
  {
   "cell_type": "markdown",
   "metadata": {},
   "source": [
    "如果出现不同种类型的异常, 我们可以分两种不同的方式来实现try-except结构.\n",
    "\n",
    "第一种是偷懒型的, 捕捉所有类型的异常"
   ]
  },
  {
   "cell_type": "code",
   "execution_count": 5,
   "metadata": {
    "collapsed": true
   },
   "outputs": [],
   "source": [
    "import math\n",
    "def print_log10(x):\n",
    "    while True:\n",
    "        try:\n",
    "            if isinstance(x, str) and x[0]=='q':\n",
    "                break\n",
    "            elif isinstance(x, (int, float)):\n",
    "                a = 1/math.log10(x)\n",
    "                return a\n",
    "        except Exception:\n",
    "            print('Value invalid')\n",
    "            break"
   ]
  },
  {
   "cell_type": "code",
   "execution_count": 6,
   "metadata": {},
   "outputs": [
    {
     "name": "stdout",
     "output_type": "stream",
     "text": [
      "Value invalid\n"
     ]
    }
   ],
   "source": [
    "# 这里实际上是分母不能为零的异常, 安理应当我们写清楚分母不能为零, 但是我们可以偷懒写成value invalid\n",
    "print_log10(1)"
   ]
  },
  {
   "cell_type": "markdown",
   "metadata": {},
   "source": [
    "第二种就是分清楚各种异常, 依次列举好"
   ]
  },
  {
   "cell_type": "code",
   "execution_count": 7,
   "metadata": {
    "collapsed": true
   },
   "outputs": [],
   "source": [
    "def print_log10(x):\n",
    "    while True:\n",
    "        try:\n",
    "            if isinstance(x, str) and x[0]=='q':\n",
    "                break\n",
    "            elif isinstance(x, (int, float)):\n",
    "                a = 1/math.log10(x)\n",
    "                return a\n",
    "        except ValueError:\n",
    "            print('Value must be a positive number')\n",
    "            break\n",
    "        except ZeroDivisionError:\n",
    "            print('Must not division by zero, here value must not be 1')\n",
    "            break"
   ]
  },
  {
   "cell_type": "code",
   "execution_count": 8,
   "metadata": {},
   "outputs": [
    {
     "name": "stdout",
     "output_type": "stream",
     "text": [
      "Must not division by zero, here value must not be 1\n"
     ]
    }
   ],
   "source": [
    "print_log10(1)"
   ]
  },
  {
   "cell_type": "code",
   "execution_count": 9,
   "metadata": {},
   "outputs": [
    {
     "ename": "NameError",
     "evalue": "name '我们还可以将二者结合起来' is not defined",
     "output_type": "error",
     "traceback": [
      "\u001b[0;31m---------------------------------------------------------------------------\u001b[0m",
      "\u001b[0;31mNameError\u001b[0m                                 Traceback (most recent call last)",
      "\u001b[0;32m<ipython-input-9-9d84ebc5833c>\u001b[0m in \u001b[0;36m<module>\u001b[0;34m()\u001b[0m\n\u001b[0;32m----> 1\u001b[0;31m \u001b[0m我们还可以将二者结合起来\u001b[0m\u001b[0;34m,\u001b[0m \u001b[0m捕捉所有的异常\u001b[0m\u001b[0;34m\u001b[0m\u001b[0m\n\u001b[0m",
      "\u001b[0;31mNameError\u001b[0m: name '我们还可以将二者结合起来' is not defined"
     ]
    }
   ],
   "source": [
    "我们还可以将二者结合起来, 捕捉所有的异常"
   ]
  },
  {
   "cell_type": "code",
   "execution_count": 10,
   "metadata": {
    "collapsed": true
   },
   "outputs": [],
   "source": [
    "def print_log10(x):\n",
    "    while True:\n",
    "        try:\n",
    "            if isinstance(x, str) and x[0]=='q':\n",
    "                break\n",
    "            elif isinstance(x, (int, float)):\n",
    "                a = 1/math.log10(x)\n",
    "                return a\n",
    "        except ValueError:\n",
    "            print('Value must be a positive number')\n",
    "            break\n",
    "        except ZeroDivisionError:\n",
    "            print('Must not division by zero, here value must not be 1')\n",
    "            break\n",
    "        except Exception:\n",
    "            print('Unexcepted error')"
   ]
  },
  {
   "cell_type": "markdown",
   "metadata": {},
   "source": [
    "# 使用raise抛出异常"
   ]
  },
  {
   "cell_type": "markdown",
   "metadata": {},
   "source": [
    "异常是Python标准库中的类, 所以我们可以继承该类, 自定义一个异常库"
   ]
  },
  {
   "cell_type": "code",
   "execution_count": 11,
   "metadata": {
    "collapsed": true
   },
   "outputs": [],
   "source": [
    "class ComandError(ValueError):\n",
    "    pass\n",
    "\n",
    "comand = ['start', 'pause', 'stop', 'end']\n",
    "def check_comand(x):\n",
    "    if x.lower() in comand:\n",
    "        print('Good comand')\n",
    "    else:\n",
    "        raise ComandError('Bad comand: %s is not a invalid comand'%x)"
   ]
  },
  {
   "cell_type": "code",
   "execution_count": 12,
   "metadata": {},
   "outputs": [
    {
     "name": "stdout",
     "output_type": "stream",
     "text": [
      "Good comand\n"
     ]
    }
   ],
   "source": [
    "check_comand('Stop')"
   ]
  },
  {
   "cell_type": "code",
   "execution_count": 13,
   "metadata": {},
   "outputs": [
    {
     "ename": "ComandError",
     "evalue": "Bad comand: Sstop is not a invalid comand",
     "output_type": "error",
     "traceback": [
      "\u001b[0;31m---------------------------------------------------------------------------\u001b[0m",
      "\u001b[0;31mComandError\u001b[0m                               Traceback (most recent call last)",
      "\u001b[0;32m<ipython-input-13-a775699a330b>\u001b[0m in \u001b[0;36m<module>\u001b[0;34m()\u001b[0m\n\u001b[0;32m----> 1\u001b[0;31m \u001b[0mcheck_comand\u001b[0m\u001b[0;34m(\u001b[0m\u001b[0;34m'Sstop'\u001b[0m\u001b[0;34m)\u001b[0m\u001b[0;34m\u001b[0m\u001b[0m\n\u001b[0m",
      "\u001b[0;32m<ipython-input-11-4ba7268fd167>\u001b[0m in \u001b[0;36mcheck_comand\u001b[0;34m(x)\u001b[0m\n\u001b[1;32m      7\u001b[0m         \u001b[0mprint\u001b[0m\u001b[0;34m(\u001b[0m\u001b[0;34m'Good comand'\u001b[0m\u001b[0;34m)\u001b[0m\u001b[0;34m\u001b[0m\u001b[0m\n\u001b[1;32m      8\u001b[0m     \u001b[0;32melse\u001b[0m\u001b[0;34m:\u001b[0m\u001b[0;34m\u001b[0m\u001b[0m\n\u001b[0;32m----> 9\u001b[0;31m         \u001b[0;32mraise\u001b[0m \u001b[0mComandError\u001b[0m\u001b[0;34m(\u001b[0m\u001b[0;34m'Bad comand: %s is not a invalid comand'\u001b[0m\u001b[0;34m%\u001b[0m\u001b[0mx\u001b[0m\u001b[0;34m)\u001b[0m\u001b[0;34m\u001b[0m\u001b[0m\n\u001b[0m",
      "\u001b[0;31mComandError\u001b[0m: Bad comand: Sstop is not a invalid comand"
     ]
    }
   ],
   "source": [
    "check_comand('Sstop')"
   ]
  },
  {
   "cell_type": "markdown",
   "metadata": {},
   "source": [
    "# finally"
   ]
  },
  {
   "cell_type": "markdown",
   "metadata": {},
   "source": [
    "try/excpet 块还有一个可选的关键词 finally。\n",
    "\n",
    "不管 try 块有没有异常， finally 块的内容总是会被执行，而且会在抛出异常前执行，因此可以用来作为安全保证，比如确保打开的文件被关闭。。"
   ]
  },
  {
   "cell_type": "code",
   "execution_count": 14,
   "metadata": {},
   "outputs": [
    {
     "name": "stdout",
     "output_type": "stream",
     "text": [
      "Hello, world\n",
      "Called finally\n"
     ]
    }
   ],
   "source": [
    "try:\n",
    "    print('Hello, world')\n",
    "finally:\n",
    "    print('Called finally')"
   ]
  },
  {
   "cell_type": "code",
   "execution_count": 15,
   "metadata": {},
   "outputs": [
    {
     "name": "stdout",
     "output_type": "stream",
     "text": [
      "Can not be divided by zero\n",
      "Called finally\n"
     ]
    }
   ],
   "source": [
    "try:\n",
    "    print(1/0)\n",
    "except ZeroDivisionError:\n",
    "    print('Can not be divided by zero')\n",
    "finally:\n",
    "    print('Called finally')"
   ]
  },
  {
   "cell_type": "markdown",
   "metadata": {},
   "source": [
    "# 警告"
   ]
  },
  {
   "cell_type": "markdown",
   "metadata": {},
   "source": [
    "出现了一些需要让用户知道的问题，但又不想停止程序，这时候我们可以使用警告：\n",
    "\n",
    "首先导入警告模块："
   ]
  },
  {
   "cell_type": "code",
   "execution_count": 16,
   "metadata": {
    "collapsed": true
   },
   "outputs": [],
   "source": [
    "import warnings"
   ]
  },
  {
   "cell_type": "markdown",
   "metadata": {},
   "source": [
    "在需要的地方，我们使用 `warnings` 中的 `warn` 函数：\n",
    "\n",
    "    warn(msg, WarningType = UserWarning)"
   ]
  },
  {
   "cell_type": "code",
   "execution_count": 17,
   "metadata": {},
   "outputs": [
    {
     "name": "stderr",
     "output_type": "stream",
     "text": [
      "/home/hecc/anaconda3/lib/python3.6/site-packages/ipykernel_launcher.py:4: RuntimeWarning: month (13) is not between 1 and 12\n",
      "  after removing the cwd from sys.path.\n"
     ]
    }
   ],
   "source": [
    "def month_warning(m):\n",
    "    if not 1<= m <= 12:\n",
    "        msg = \"month (%d) is not between 1 and 12\" % m\n",
    "        warnings.warn(msg, RuntimeWarning)\n",
    "\n",
    "month_warning(13)"
   ]
  },
  {
   "cell_type": "markdown",
   "metadata": {},
   "source": [
    "有时候我们想要忽略特定类型的警告，可以使用 `warnings` 的 `filterwarnings` 函数：\n",
    "\n",
    "    filterwarnings(action, category)\n",
    "\n",
    "将 `action` 设置为 `'ignore'` 便可以忽略特定类型的警告："
   ]
  },
  {
   "cell_type": "code",
   "execution_count": 18,
   "metadata": {
    "collapsed": true
   },
   "outputs": [],
   "source": [
    "warnings.filterwarnings(action = 'ignore', category = RuntimeWarning)\n",
    "\n",
    "month_warning(13)"
   ]
  },
  {
   "cell_type": "markdown",
   "metadata": {},
   "source": [
    "# 文件读取与写入(IO操作)"
   ]
  },
  {
   "cell_type": "code",
   "execution_count": 19,
   "metadata": {},
   "outputs": [
    {
     "name": "stdout",
     "output_type": "stream",
     "text": [
      "Writing test.txt\n"
     ]
    }
   ],
   "source": [
    "%%writefile test.txt\n",
    "this is a test file.\n",
    "hello world!\n",
    "python is good!\n",
    "today is a good day."
   ]
  },
  {
   "cell_type": "markdown",
   "metadata": {},
   "source": [
    "读取文件, 使用open来读取文件"
   ]
  },
  {
   "cell_type": "code",
   "execution_count": 20,
   "metadata": {
    "collapsed": true
   },
   "outputs": [],
   "source": [
    "f1 = open('test.txt')"
   ]
  },
  {
   "cell_type": "code",
   "execution_count": 21,
   "metadata": {},
   "outputs": [
    {
     "name": "stdout",
     "output_type": "stream",
     "text": [
      "this is a test file.\n",
      "hello world!\n",
      "python is good!\n",
      "today is a good day.\n"
     ]
    }
   ],
   "source": [
    "test = f1.read() # 使用read方法读取所有的内容\n",
    "print(test)"
   ]
  },
  {
   "cell_type": "markdown",
   "metadata": {},
   "source": [
    "也可以按照行读入内容，`readlines` 方法返回一个列表，每个元素代表文件中每一行的内容："
   ]
  },
  {
   "cell_type": "code",
   "execution_count": 22,
   "metadata": {},
   "outputs": [
    {
     "name": "stdout",
     "output_type": "stream",
     "text": [
      "['this is a test file.', 'hello world!', 'python is good!', 'today is a good day.']\n"
     ]
    }
   ],
   "source": [
    "f = open('test.txt')\n",
    "test = f.readlines()\n",
    "f.close()\n",
    "l = []\n",
    "for i in test:\n",
    "    l.append(i.rstrip()) # 去除换行符\n",
    "print(l)"
   ]
  },
  {
   "cell_type": "code",
   "execution_count": 23,
   "metadata": {},
   "outputs": [
    {
     "name": "stdout",
     "output_type": "stream",
     "text": [
      "this is a test file.\n",
      "\n",
      "hello world!\n",
      "\n",
      "python is good!\n",
      "\n",
      "today is a good day.\n"
     ]
    }
   ],
   "source": [
    "f = open('test.txt')\n",
    "for line in f:\n",
    "    print(line)"
   ]
  },
  {
   "cell_type": "markdown",
   "metadata": {},
   "source": [
    "写入文件"
   ]
  },
  {
   "cell_type": "markdown",
   "metadata": {},
   "source": [
    "我们使用 `open` 函数的写入模式来写文件：\n",
    "\n",
    "使用 w 模式时，如果文件不存在会被创建，如果已经存在会被重新写入, 也就是会覆盖原有内容"
   ]
  },
  {
   "cell_type": "code",
   "execution_count": 24,
   "metadata": {
    "collapsed": true
   },
   "outputs": [],
   "source": [
    "f = open('myfile.txt', 'w')\n",
    "f.write('hello world!')\n",
    "f.close()"
   ]
  },
  {
   "cell_type": "code",
   "execution_count": 25,
   "metadata": {},
   "outputs": [
    {
     "data": {
      "text/plain": [
       "'hello world!'"
      ]
     },
     "execution_count": 25,
     "metadata": {},
     "output_type": "execute_result"
    }
   ],
   "source": [
    "open('myfile.txt').read() #表明写入成功"
   ]
  },
  {
   "cell_type": "code",
   "execution_count": 26,
   "metadata": {},
   "outputs": [
    {
     "data": {
      "text/plain": [
       "'another hello world!'"
      ]
     },
     "execution_count": 26,
     "metadata": {},
     "output_type": "execute_result"
    }
   ],
   "source": [
    "f = open('myfile.txt', 'w')\n",
    "f.write('another hello world!')\n",
    "f.close()\n",
    "open('myfile.txt').read()"
   ]
  },
  {
   "cell_type": "markdown",
   "metadata": {},
   "source": [
    "除了写入模式，还有追加模式 `a` ，追加模式不会覆盖之前已经写入的内容，而是在之后继续写入, 注意写入以后一定需要关闭文件, 否则Python可能还没有将你要入的内容添加到文件中."
   ]
  },
  {
   "cell_type": "code",
   "execution_count": 27,
   "metadata": {},
   "outputs": [
    {
     "data": {
      "text/plain": [
       "'another hello world!hahahahahhhhaaa'"
      ]
     },
     "execution_count": 27,
     "metadata": {},
     "output_type": "execute_result"
    }
   ],
   "source": [
    "f = open('myfile.txt','a')\n",
    "f.write('hahahahahhhhaaa')\n",
    "f.close()\n",
    "open('myfile.txt').read()"
   ]
  },
  {
   "cell_type": "code",
   "execution_count": 28,
   "metadata": {},
   "outputs": [
    {
     "name": "stdout",
     "output_type": "stream",
     "text": [
      "Hello world: 0\n",
      "\n",
      "Hello world: 1\n",
      "\n",
      "Hello world: 2\n",
      "\n",
      "Hello world: 3\n",
      "\n",
      "Hello world: 4\n",
      "\n",
      "Hello world: 5\n",
      "\n",
      "Hello world: 6\n",
      "\n",
      "Hello world: 7\n",
      "\n",
      "Hello world: 8\n",
      "\n",
      "Hello world: 9\n",
      "\n"
     ]
    }
   ],
   "source": [
    "f = open('myfile.txt', 'w')\n",
    "for i in range(10):\n",
    "    f.write('Hello world: %d'%i + '\\n')\n",
    "f.close()\n",
    "f = open('myfile.txt','r')\n",
    "for line in f:\n",
    "    print(line)\n",
    "f.close()"
   ]
  },
  {
   "cell_type": "markdown",
   "metadata": {},
   "source": [
    "出现异常时候的写入文件"
   ]
  },
  {
   "cell_type": "code",
   "execution_count": 29,
   "metadata": {},
   "outputs": [
    {
     "ename": "ZeroDivisionError",
     "evalue": "float division by zero",
     "output_type": "error",
     "traceback": [
      "\u001b[0;31m---------------------------------------------------------------------------\u001b[0m",
      "\u001b[0;31mZeroDivisionError\u001b[0m                         Traceback (most recent call last)",
      "\u001b[0;32m<ipython-input-29-67ce32972a46>\u001b[0m in \u001b[0;36m<module>\u001b[0;34m()\u001b[0m\n\u001b[1;32m      1\u001b[0m \u001b[0mf\u001b[0m \u001b[0;34m=\u001b[0m \u001b[0mopen\u001b[0m\u001b[0;34m(\u001b[0m\u001b[0;34m'newfile.txt'\u001b[0m\u001b[0;34m,\u001b[0m\u001b[0;34m'w'\u001b[0m\u001b[0;34m)\u001b[0m\u001b[0;34m\u001b[0m\u001b[0m\n\u001b[1;32m      2\u001b[0m \u001b[0;32mfor\u001b[0m \u001b[0mi\u001b[0m \u001b[0;32min\u001b[0m \u001b[0mrange\u001b[0m\u001b[0;34m(\u001b[0m\u001b[0;36m3000\u001b[0m\u001b[0;34m)\u001b[0m\u001b[0;34m:\u001b[0m\u001b[0;34m\u001b[0m\u001b[0m\n\u001b[0;32m----> 3\u001b[0;31m     \u001b[0mx\u001b[0m \u001b[0;34m=\u001b[0m \u001b[0;36m1.0\u001b[0m \u001b[0;34m/\u001b[0m \u001b[0;34m(\u001b[0m\u001b[0mi\u001b[0m \u001b[0;34m-\u001b[0m \u001b[0;36m1000\u001b[0m\u001b[0;34m)\u001b[0m\u001b[0;34m\u001b[0m\u001b[0m\n\u001b[0m\u001b[1;32m      4\u001b[0m     \u001b[0mf\u001b[0m\u001b[0;34m.\u001b[0m\u001b[0mwrite\u001b[0m\u001b[0;34m(\u001b[0m\u001b[0;34m'hello world: '\u001b[0m \u001b[0;34m+\u001b[0m \u001b[0mstr\u001b[0m\u001b[0;34m(\u001b[0m\u001b[0mi\u001b[0m\u001b[0;34m)\u001b[0m \u001b[0;34m+\u001b[0m \u001b[0;34m'\\n'\u001b[0m\u001b[0;34m)\u001b[0m\u001b[0;34m\u001b[0m\u001b[0m\n\u001b[1;32m      5\u001b[0m \u001b[0mf\u001b[0m\u001b[0;34m.\u001b[0m\u001b[0mclose\u001b[0m\u001b[0;34m(\u001b[0m\u001b[0;34m)\u001b[0m\u001b[0;34m\u001b[0m\u001b[0m\n",
      "\u001b[0;31mZeroDivisionError\u001b[0m: float division by zero"
     ]
    }
   ],
   "source": [
    "f = open('newfile.txt','w')\n",
    "for i in range(3000):\n",
    "    x = 1.0 / (i - 1000)\n",
    "    f.write('hello world: ' + str(i) + '\\n')\n",
    "f.close()"
   ]
  },
  {
   "cell_type": "code",
   "execution_count": 30,
   "metadata": {},
   "outputs": [
    {
     "data": {
      "text/plain": [
       "'hello world: 0\\nhello world: 1\\nhello world: 2\\nhello world: 3\\nhello world: 4\\nhello world: 5\\nhello world: 6\\nhello world: 7\\nhello world: 8\\nhello world: 9\\nhello world: 10\\nhello world: 11\\nhello world: 12\\nhello world: 13\\nhello world: 14\\nhello world: 15\\nhello world: 16\\nhello world: 17\\nhello world: 18\\nhello world: 19\\nhello world: 20\\nhello world: 21\\nhello world: 22\\nhello world: 23\\nhello world: 24\\nhello world: 25\\nhello world: 26\\nhello world: 27\\nhello world: 28\\nhello world: 29\\nhello world: 30\\nhello world: 31\\nhello world: 32\\nhello world: 33\\nhello world: 34\\nhello world: 35\\nhello world: 36\\nhello world: 37\\nhello world: 38\\nhello world: 39\\nhello world: 40\\nhello world: 41\\nhello world: 42\\nhello world: 43\\nhello world: 44\\nhello world: 45\\nhello world: 46\\nhello world: 47\\nhello world: 48\\nhello world: 49\\nhello world: 50\\nhello world: 51\\nhello world: 52\\nhello world: 53\\nhello world: 54\\nhello world: 55\\nhello world: 56\\nhello world: 57\\nhello world: 58\\nhello world: 59\\nhello world: 60\\nhello world: 61\\nhello world: 62\\nhello world: 63\\nhello world: 64\\nhello world: 65\\nhello world: 66\\nhello world: 67\\nhello world: 68\\nhello world: 69\\nhello world: 70\\nhello world: 71\\nhello world: 72\\nhello world: 73\\nhello world: 74\\nhello world: 75\\nhello world: 76\\nhello world: 77\\nhello world: 78\\nhello world: 79\\nhello world: 80\\nhello world: 81\\nhello world: 82\\nhello world: 83\\nhello world: 84\\nhello world: 85\\nhello world: 86\\nhello world: 87\\nhello world: 88\\nhello world: 89\\nhello world: 90\\nhello world: 91\\nhello world: 92\\nhello world: 93\\nhello world: 94\\nhello world: 95\\nhello world: 96\\nhello world: 97\\nhello world: 98\\nhello world: 99\\nhello world: 100\\nhello world: 101\\nhello world: 102\\nhello world: 103\\nhello world: 104\\nhello world: 105\\nhello world: 106\\nhello world: 107\\nhello world: 108\\nhello world: 109\\nhello world: 110\\nhello world: 111\\nhello world: 112\\nhello world: 113\\nhello world: 114\\nhello world: 115\\nhello world: 116\\nhello world: 117\\nhello world: 118\\nhello world: 119\\nhello world: 120\\nhello world: 121\\nhello world: 122\\nhello world: 123\\nhello world: 124\\nhello world: 125\\nhello world: 126\\nhello world: 127\\nhello world: 128\\nhello world: 129\\nhello world: 130\\nhello world: 131\\nhello world: 132\\nhello world: 133\\nhello world: 134\\nhello world: 135\\nhello world: 136\\nhello world: 137\\nhello world: 138\\nhello world: 139\\nhello world: 140\\nhello world: 141\\nhello world: 142\\nhello world: 143\\nhello world: 144\\nhello world: 145\\nhello world: 146\\nhello world: 147\\nhello world: 148\\nhello world: 149\\nhello world: 150\\nhello world: 151\\nhello world: 152\\nhello world: 153\\nhello world: 154\\nhello world: 155\\nhello world: 156\\nhello world: 157\\nhello world: 158\\nhello world: 159\\nhello world: 160\\nhello world: 161\\nhello world: 162\\nhello world: 163\\nhello world: 164\\nhello world: 165\\nhello world: 166\\nhello world: 167\\nhello world: 168\\nhello world: 169\\nhello world: 170\\nhello world: 171\\nhello world: 172\\nhello world: 173\\nhello world: 174\\nhello world: 175\\nhello world: 176\\nhello world: 177\\nhello world: 178\\nhello world: 179\\nhello world: 180\\nhello world: 181\\nhello world: 182\\nhello world: 183\\nhello world: 184\\nhello world: 185\\nhello world: 186\\nhello world: 187\\nhello world: 188\\nhello world: 189\\nhello world: 190\\nhello world: 191\\nhello world: 192\\nhello world: 193\\nhello world: 194\\nhello world: 195\\nhello world: 196\\nhello world: 197\\nhello world: 198\\nhello world: 199\\nhello world: 200\\nhello world: 201\\nhello world: 202\\nhello world: 203\\nhello world: 204\\nhello world: 205\\nhello world: 206\\nhello world: 207\\nhello world: 208\\nhello world: 209\\nhello world: 210\\nhello world: 211\\nhello world: 212\\nhello world: 213\\nhello world: 214\\nhello world: 215\\nhello world: 216\\nhello world: 217\\nhello world: 218\\nhello world: 219\\nhello world: 220\\nhello world: 221\\nhello world: 222\\nhello world: 223\\nhello world: 224\\nhello world: 225\\nhello world: 226\\nhello world: 227\\nhello world: 228\\nhello world: 229\\nhello world: 230\\nhello world: 231\\nhello world: 232\\nhello world: 233\\nhello world: 234\\nhello world: 235\\nhello world: 236\\nhello world: 237\\nhello world: 238\\nhello world: 239\\nhello world: 240\\nhello world: 241\\nhello world: 242\\nhello world: 243\\nhello world: 244\\nhello world: 245\\nhello world: 246\\nhello world: 247\\nhello world: 248\\nhello world: 249\\nhello world: 250\\nhello world: 251\\nhello world: 252\\nhello world: 253\\nhello world: 254\\nhello world: 255\\nhello world: 256\\nhello world: 257\\nhello world: 258\\nhello world: 259\\nhello world: 260\\nhello world: 261\\nhello world: 262\\nhello world: 263\\nhello world: 264\\nhello world: 265\\nhello world: 266\\nhello world: 267\\nhello world: 268\\nhello world: 269\\nhello world: 270\\nhello world: 271\\nhello world: 272\\nhello world: 273\\nhello world: 274\\nhello world: 275\\nhello world: 276\\nhello world: 277\\nhello world: 278\\nhello world: 279\\nhello world: 280\\nhello world: 281\\nhello world: 282\\nhello world: 283\\nhello world: 284\\nhello world: 285\\nhello world: 286\\nhello world: 287\\nhello world: 288\\nhello world: 289\\nhello world: 290\\nhello world: 291\\nhello world: 292\\nhello world: 293\\nhello world: 294\\nhello world: 295\\nhello world: 296\\nhello world: 297\\nhello world: 298\\nhello world: 299\\nhello world: 300\\nhello world: 301\\nhello world: 302\\nhello world: 303\\nhello world: 304\\nhello world: 305\\nhello world: 306\\nhello world: 307\\nhello world: 308\\nhello world: 309\\nhello world: 310\\nhello world: 311\\nhello world: 312\\nhello world: 313\\nhello world: 314\\nhello world: 315\\nhello world: 316\\nhello world: 317\\nhello world: 318\\nhello world: 319\\nhello world: 320\\nhello world: 321\\nhello world: 322\\nhello world: 323\\nhello world: 324\\nhello world: 325\\nhello world: 326\\nhello world: 327\\nhello world: 328\\nhello world: 329\\nhello world: 330\\nhello world: 331\\nhello world: 332\\nhello world: 333\\nhello world: 334\\nhello world: 335\\nhello world: 336\\nhello world: 337\\nhello world: 338\\nhello world: 339\\nhello world: 340\\nhello world: 341\\nhello world: 342\\nhello world: 343\\nhello world: 344\\nhello world: 345\\nhello world: 346\\nhello world: 347\\nhello world: 348\\nhello world: 349\\nhello world: 350\\nhello world: 351\\nhello world: 352\\nhello world: 353\\nhello world: 354\\nhello world: 355\\nhello world: 356\\nhello world: 357\\nhello world: 358\\nhello world: 359\\nhello world: 360\\nhello world: 361\\nhello world: 362\\nhello world: 363\\nhello world: 364\\nhello world: 365\\nhello world: 366\\nhello world: 367\\nhello world: 368\\nhello world: 369\\nhello world: 370\\nhello world: 371\\nhello world: 372\\nhello world: 373\\nhello world: 374\\nhello world: 375\\nhello world: 376\\nhello world: 377\\nhello world: 378\\nhello world: 379\\nhello world: 380\\nhello world: 381\\nhello world: 382\\nhello world: 383\\nhello world: 384\\nhello world: 385\\nhello world: 386\\nhello world: 387\\nhello world: 388\\nhello world: 389\\nhello world: 390\\nhello world: 391\\nhello world: 392\\nhello world: 393\\nhello world: 394\\nhello world: 395\\nhello world: 396\\nhello world: 397\\nhello world: 398\\nhello world: 399\\nhello world: 400\\nhello world: 401\\nhello world: 402\\nhello world: 403\\nhello world: 404\\nhello world: 405\\nhello world: 406\\nhello world: 407\\nhello world: 408\\nhello world: 409\\nhello world: 410\\nhello world: 411\\nhello world: 412\\nhello world: 413\\nhello world: 414\\nhello world: 415\\nhello world: 416\\nhello world: 417\\nhello world: 418\\nhello world: 419\\nhello world: 420\\nhello world: 421\\nhello world: 422\\nhello world: 423\\nhello world: 424\\nhello world: 425\\nhello world: 426\\nhello world: 427\\nhello world: 428\\nhello world: 429\\nhello world: 430\\nhello world: 431\\nhello world: 432\\nhello world: 433\\nhello world: 434\\nhello world: 435\\nhello world: 436\\nhello world: 437\\nhello world: 438\\nhello world: 439\\nhello world: 440\\nhello world: 441\\nhello world: 442\\nhello world: 443\\nhello world: 444\\nhello world: 445\\nhello world: 446\\nhello world: 447\\nhello world: 448\\nhello world: 449\\nhello world: 450\\nhello world: 451\\nhello world: 452\\nhello world: 453\\nhello world: 454\\nhello world: 455\\nhello world: 456\\nhello world: 457\\nhello world: 458\\nhello world: 459\\nhello world: 460\\nhello world: 461\\nhello world: 462\\nhello world: 463\\nhello world: 464\\nhello world: 465\\nhello world: 466\\nhello world: 467\\nhello world: 468\\nhello world: 469\\nhello world: 470\\nhello world: 471\\nhello world: 472\\nhello world: 473\\nhello world: 474\\nhello world: 475\\nhello world: 476\\nhello world: 477\\nhello world: 478\\nhello world: 479\\nhello world: 480\\nhello world: 481\\nhello world: 482\\nhello world: 483\\nhello world: 484\\nhello world: 485\\nhello world: 486\\nhello world: 487\\nhello world: 488\\nhello world: 489\\nhello world: 490\\nhello world: 491\\nhello world: 492\\nhello world: 493\\nhello world: 494\\nhello world: 495\\nhello world: 496\\nhello world: 497\\nhello world: 498\\nhello world: 499\\nhello world: 500\\nhello world: 501\\nhello world: 502\\nhello world: 503\\nhello world: 504\\nhello world: 505\\nhello world: 506\\nhello world: 507\\nhello world: 508\\nhello world: 509\\nhello world: 510\\nhello world: 511\\nhello world: 512\\nhello world: 513\\nhello world: 514\\nhello world: 515\\nhello world: 516\\nhello world: 517\\nhello world: 518\\nhello world: 519\\nhello world: 520\\nhello world: 521\\nhello world: 522\\nhello world: 523\\nhello world: 524\\nhello world: 525\\nhello world: 526\\nhello world: 527\\nhello world: 528\\nhello world: 529\\nhello world: 530\\nhello world: 531\\nhello world: 532\\nhello world: 533\\nhello world: 534\\nhello world: 535\\nhello world: 536\\nhello world: 537\\nhello world: 538\\nhello world: 539\\nhello world: 540\\nhello world: 541\\nhello world: 542\\nhello world: 543\\nhello world: 544\\nhello world: 545\\nhello world: 546\\nhello world: 547\\nhello world: 548\\nhello world: 549\\nhello world: 550\\nhello world: 551\\nhello world: 552\\nhello world: 553\\nhello world: 554\\nhello world: 555\\nhello world: 556\\nhello world: 557\\nhello world: 558\\nhello world: 559\\nhello world: 560\\nhello world: 561\\nhello world: 562\\nhello world: 563\\nhello world: 564\\nhello world: 565\\nhello world: 566\\nhello world: 567\\nhello world: 568\\nhello world: 569\\nhello world: 570\\nhello world: 571\\nhello world: 572\\nhello world: 573\\nhello world: 574\\nhello world: 575\\nhello world: 576\\nhello world: 577\\nhello world: 578\\nhello world: 579\\nhello world: 580\\nhello world: 581\\nhello world: 582\\nhello world: 583\\nhello world: 584\\nhello world: 585\\nhello world: 586\\nhello world: 587\\nhello world: 588\\nhello world: 589\\nhello world: 590\\nhello world: 591\\nhello world: 592\\nhello world: 593\\nhello world: 594\\nhello world: 595\\nhello world: 596\\nhello world: 597\\nhello world: 598\\nhello world: 599\\nhello world: 600\\nhello world: 601\\nhello world: 602\\nhello world: 603\\nhello world: 604\\nhello world: 605\\nhello world: 606\\nhello world: 607\\nhello world: 608\\nhello world: 609\\nhello world: 610\\nhello world: 611\\nhello world: 612\\nhello world: 613\\nhello world: 614\\nhello world: 615\\nhello world: 616\\nhello world: 617\\nhello world: 618\\nhello world: 619\\nhello world: 620\\nhello world: 621\\nhello world: 622\\nhello world: 623\\nhello world: 624\\nhello world: 625\\nhello world: 626\\nhello world: 627\\nhello world: 628\\nhello world: 629\\nhello world: 630\\nhello world: 631\\nhello world: 632\\nhello world: 633\\nhello world: 634\\nhello world: 635\\nhello world: 636\\nhello world: 637\\nhello world: 638\\nhello world: 639\\nhello world: 640\\nhello world: 641\\nhello world: 642\\nhello world: 643\\nhello world: 644\\nhello world: 645\\nhello world: 646\\nhello world: 647\\nhello world: 648\\nhello world: 649\\nhello world: 650\\nhello world: 651\\nhello world: 652\\nhello world: 653\\nhello world: 654\\nhello world: 655\\nhello world: 656\\nhello world: 657\\nhello world: 658\\nhello world: 659\\nhello world: 660\\nhello world: 661\\nhello world: 662\\nhello world: 663\\nhello world: 664\\nhello world: 665\\nhello world: 666\\nhello world: 667\\nhello world: 668\\nhello world: 669\\nhello world: 670\\nhello world: 671\\nhello world: 672\\nhello world: 673\\nhello world: 674\\nhello world: 675\\nhello world: 676\\nhello world: 677\\nhello world: 678\\nhello world: 679\\nhello world: 680\\nhello world: 681\\nhello world: 682\\nhello world: 683\\nhello world: 684\\nhello world: 685\\nhello world: 686\\nhello world: 687\\nhello world: 688\\nhello world: 689\\nhello world: 690\\nhello world: 691\\nhello world: 692\\nhello world: 693\\nhello world: 694\\nhello world: 695\\nhello world: 696\\nhello world: 697\\nhello world: 698\\nhello world: 699\\nhello world: 700\\nhello world: 701\\nhello world: 702\\nhello world: 703\\nhello world: 704\\nhello world: 705\\nhello world: 706\\nhello world: 707\\nhello world: 708\\nhello world: 709\\nhello world: 710\\nhello world: 711\\nhello world: 712\\nhello world: 713\\nhello world: 714\\nhello world: 715\\nhello world: 716\\nhello world: 717\\nhello world: 718\\nhello world: 719\\nhello world: 720\\nhello world: 721\\nhello world: 722\\nhello world: 723\\nhello world: 724\\nhello world: 725\\nhello world: 726\\nhello world: 727\\nhello world: 728\\nhello world: 729\\nhello world: 730\\nhello world: 731\\nhello world: 732\\nhello world: 733\\nhello world: 734\\nhello world: 735\\nhello world: 736\\nhello world: 737\\nhello world: 738\\nhello world: 739\\nhello world: 740\\nhello world: 741\\nhello world: 742\\nhello world: 743\\nhello world: 744\\nhello world: 745\\nhello world: 746\\nhello world: 747\\nhello world: 748\\nhello world: 749\\nhello world: 750\\nhello world: 751\\nhello world: 752\\nhello world: 753\\nhello world: 754\\nhello world: 755\\nhello world: 756\\nhello world: 757\\nhello world: 758\\nhello world: 759\\nhello world: 760\\nhello world: 761\\nhello world: 762\\nhello world: 763\\nhello world: 764\\nhello world: 765\\nhello world: 766\\nhello world: 767\\nhello world: 768\\nhello world: 769\\nhello world: 770\\nhello world: 771\\nhello world: 772\\nhello world: 773\\nhello world: 774\\nhello world: 775\\nhello world: 776\\nhello world: 777\\nhello world: 778\\nhello world: 779\\nhello world: 780\\nhello world: 781\\nhello world: 782\\nhello world: 783\\nhello world: 784\\nhello world: 785\\nhello world: 786\\nhello world: 787\\nhello world: 788\\nhello world: 789\\nhello world: 790\\nhello world: 791\\nhello world: 792\\nhello world: 793\\nhello world: 794\\nhello world: 795\\nhello world: 796\\nhello world: 797\\nhello world: 798\\nhello world: 799\\nhello world: 800\\nhello world: 801\\nhello world: 802\\nhello world: 803\\nhello world: 804\\nhello world: 805\\nhello world: 806\\nhello world: 807\\nhello world: 808\\nhello world: 809\\nhello world: 810\\nhello world: 811\\nhello world: 812\\nhello world: 813\\nhello world: 814\\nhello world: 815\\nhello world: 816\\nhello world: 817\\nhello world: 818\\nhello world: 819\\nhello world: 820\\nhello world: 821\\nhello world: 822\\nhello world: 823\\nhello world: 824\\nhello world: 825\\nhello world: 826\\nhello world: 827\\nhello world: 828\\nhello world: 829\\nhello world: 830\\nhello world: 831\\nhello world: 832\\nhello world: 833\\nhello world: 834\\nhello world: 835\\nhello world: 836\\nhello world: 837\\nhello world: 838\\nhello world: 839\\nhello world: 840\\nhello world: 841\\nhello world: 842\\nhello world: 843\\nhello world: 844\\nhello world: 845\\nhello world: 846\\nhello world: 847\\nhello world: 848\\nhello world: 849\\nhello world: 850\\nhello world: 851\\nhello world: 852\\nhello world: 853\\nhello world: 854\\nhello world: 855\\nhello world: 856\\nhello world: 857\\nhello world: 858\\nhello world: 859\\nhello world: 860\\nhello world: 861\\nhello world: 862\\nhello world: 863\\nhello world: 864\\nhello world: 865\\nhello world: 866\\nhello world: 867\\nhello world: 868\\nhello world: 869\\nhello world: 870\\nhello world: 871\\nhello world: 872\\nhello world: 873\\nhello world: 874\\nhello world: 875\\nhello world: 876\\nhello world: 877\\nhello world: 878\\nhello world: 879\\nhello world: 880\\nhello world: 881\\nhello world: 882\\nhello world: 883\\nhello world: 884\\nhello world: 885\\nhello world: 886\\nhello world: 887\\nhello world: 888\\nhello world: 889\\nhello world: 890\\nhello world: 891\\nhello world: 892\\nhello world: 893\\nhello world: 894\\nhello world: 895\\nhello world: 896\\nhello world: 897\\nhello world: 898\\nhello world: 899\\nhello world: 900\\nhello world: 901\\nhello world: 902\\nhello world: 903\\nhello world: 904\\nhello world: 905\\nhello world: 906\\nhello world: 907\\nhello world: 908\\nhello world: 909\\nhello world: 910\\nhello world: 911\\nhello world: 912\\nhello world: 913\\nhello world: 914\\nhello world: 915\\nhello world: 916\\nhello world: 917\\nhello world: 918\\nhello world: 919\\nhello world: 920\\nhello world: 921\\nhello world: 922\\nhello world: 923\\nhello world: 924\\nhello world: 925\\nhello world: 926\\nhello world: 927\\nhello world: 928\\nhello world: 929\\nhello world: 930\\nhello world: 931\\nhello world: 932\\nhello world: 933\\nhello world: 934\\nhello world: 935\\nhello world: 936\\nhello world: 937\\nhello world: 938\\nhello world: 939\\nhello world: 940\\nhello world: 941\\nhello world: 942\\nhello world: 943\\nhello world: 944\\nhello world: 945\\nhello world: 946\\nhello world: 947\\nhello world: 948\\nhello world: 949\\nhello world: 950\\nhello world: 951\\nhello world: 952\\nhello world: 953\\nhello world: 954\\nhello world: 955\\nhello world: 956\\nhello world: 957\\nhello world: 958\\nhello world: 959\\nhello world: 960\\nhello world: 961\\nhello world: 962\\nhello world: 963\\nhello world: 964\\nhello world: 965\\nhello world: 966\\nhello world: 967\\nhello world: 968\\nhello world: 969\\nhello world: 970\\n'"
      ]
     },
     "execution_count": 30,
     "metadata": {},
     "output_type": "execute_result"
    }
   ],
   "source": [
    "open('newfile.txt').read()"
   ]
  },
  {
   "cell_type": "markdown",
   "metadata": {},
   "source": [
    "可以看到并没有到, 文件并没有写入到999就暂停了, 实际上Python的写入文件机制并不是实时的, 而是有时间再写入, 我们用try-except语句就可以避免这一情况"
   ]
  },
  {
   "cell_type": "code",
   "execution_count": 31,
   "metadata": {},
   "outputs": [
    {
     "name": "stdout",
     "output_type": "stream",
     "text": [
      "Bad value\n"
     ]
    }
   ],
   "source": [
    "f = open('newfile.txt','w')\n",
    "try:\n",
    "    for i in range(3000):\n",
    "        x = 1.0 / (i - 1000)\n",
    "        f.write('hello world: ' + str(i) + '\\n')\n",
    "except Exception:# 捕捉所有的异常\n",
    "    print('Bad value')\n",
    "finally:\n",
    "    f.close()"
   ]
  },
  {
   "cell_type": "code",
   "execution_count": 32,
   "metadata": {},
   "outputs": [
    {
     "data": {
      "text/plain": [
       "'hello world: 0\\nhello world: 1\\nhello world: 2\\nhello world: 3\\nhello world: 4\\nhello world: 5\\nhello world: 6\\nhello world: 7\\nhello world: 8\\nhello world: 9\\nhello world: 10\\nhello world: 11\\nhello world: 12\\nhello world: 13\\nhello world: 14\\nhello world: 15\\nhello world: 16\\nhello world: 17\\nhello world: 18\\nhello world: 19\\nhello world: 20\\nhello world: 21\\nhello world: 22\\nhello world: 23\\nhello world: 24\\nhello world: 25\\nhello world: 26\\nhello world: 27\\nhello world: 28\\nhello world: 29\\nhello world: 30\\nhello world: 31\\nhello world: 32\\nhello world: 33\\nhello world: 34\\nhello world: 35\\nhello world: 36\\nhello world: 37\\nhello world: 38\\nhello world: 39\\nhello world: 40\\nhello world: 41\\nhello world: 42\\nhello world: 43\\nhello world: 44\\nhello world: 45\\nhello world: 46\\nhello world: 47\\nhello world: 48\\nhello world: 49\\nhello world: 50\\nhello world: 51\\nhello world: 52\\nhello world: 53\\nhello world: 54\\nhello world: 55\\nhello world: 56\\nhello world: 57\\nhello world: 58\\nhello world: 59\\nhello world: 60\\nhello world: 61\\nhello world: 62\\nhello world: 63\\nhello world: 64\\nhello world: 65\\nhello world: 66\\nhello world: 67\\nhello world: 68\\nhello world: 69\\nhello world: 70\\nhello world: 71\\nhello world: 72\\nhello world: 73\\nhello world: 74\\nhello world: 75\\nhello world: 76\\nhello world: 77\\nhello world: 78\\nhello world: 79\\nhello world: 80\\nhello world: 81\\nhello world: 82\\nhello world: 83\\nhello world: 84\\nhello world: 85\\nhello world: 86\\nhello world: 87\\nhello world: 88\\nhello world: 89\\nhello world: 90\\nhello world: 91\\nhello world: 92\\nhello world: 93\\nhello world: 94\\nhello world: 95\\nhello world: 96\\nhello world: 97\\nhello world: 98\\nhello world: 99\\nhello world: 100\\nhello world: 101\\nhello world: 102\\nhello world: 103\\nhello world: 104\\nhello world: 105\\nhello world: 106\\nhello world: 107\\nhello world: 108\\nhello world: 109\\nhello world: 110\\nhello world: 111\\nhello world: 112\\nhello world: 113\\nhello world: 114\\nhello world: 115\\nhello world: 116\\nhello world: 117\\nhello world: 118\\nhello world: 119\\nhello world: 120\\nhello world: 121\\nhello world: 122\\nhello world: 123\\nhello world: 124\\nhello world: 125\\nhello world: 126\\nhello world: 127\\nhello world: 128\\nhello world: 129\\nhello world: 130\\nhello world: 131\\nhello world: 132\\nhello world: 133\\nhello world: 134\\nhello world: 135\\nhello world: 136\\nhello world: 137\\nhello world: 138\\nhello world: 139\\nhello world: 140\\nhello world: 141\\nhello world: 142\\nhello world: 143\\nhello world: 144\\nhello world: 145\\nhello world: 146\\nhello world: 147\\nhello world: 148\\nhello world: 149\\nhello world: 150\\nhello world: 151\\nhello world: 152\\nhello world: 153\\nhello world: 154\\nhello world: 155\\nhello world: 156\\nhello world: 157\\nhello world: 158\\nhello world: 159\\nhello world: 160\\nhello world: 161\\nhello world: 162\\nhello world: 163\\nhello world: 164\\nhello world: 165\\nhello world: 166\\nhello world: 167\\nhello world: 168\\nhello world: 169\\nhello world: 170\\nhello world: 171\\nhello world: 172\\nhello world: 173\\nhello world: 174\\nhello world: 175\\nhello world: 176\\nhello world: 177\\nhello world: 178\\nhello world: 179\\nhello world: 180\\nhello world: 181\\nhello world: 182\\nhello world: 183\\nhello world: 184\\nhello world: 185\\nhello world: 186\\nhello world: 187\\nhello world: 188\\nhello world: 189\\nhello world: 190\\nhello world: 191\\nhello world: 192\\nhello world: 193\\nhello world: 194\\nhello world: 195\\nhello world: 196\\nhello world: 197\\nhello world: 198\\nhello world: 199\\nhello world: 200\\nhello world: 201\\nhello world: 202\\nhello world: 203\\nhello world: 204\\nhello world: 205\\nhello world: 206\\nhello world: 207\\nhello world: 208\\nhello world: 209\\nhello world: 210\\nhello world: 211\\nhello world: 212\\nhello world: 213\\nhello world: 214\\nhello world: 215\\nhello world: 216\\nhello world: 217\\nhello world: 218\\nhello world: 219\\nhello world: 220\\nhello world: 221\\nhello world: 222\\nhello world: 223\\nhello world: 224\\nhello world: 225\\nhello world: 226\\nhello world: 227\\nhello world: 228\\nhello world: 229\\nhello world: 230\\nhello world: 231\\nhello world: 232\\nhello world: 233\\nhello world: 234\\nhello world: 235\\nhello world: 236\\nhello world: 237\\nhello world: 238\\nhello world: 239\\nhello world: 240\\nhello world: 241\\nhello world: 242\\nhello world: 243\\nhello world: 244\\nhello world: 245\\nhello world: 246\\nhello world: 247\\nhello world: 248\\nhello world: 249\\nhello world: 250\\nhello world: 251\\nhello world: 252\\nhello world: 253\\nhello world: 254\\nhello world: 255\\nhello world: 256\\nhello world: 257\\nhello world: 258\\nhello world: 259\\nhello world: 260\\nhello world: 261\\nhello world: 262\\nhello world: 263\\nhello world: 264\\nhello world: 265\\nhello world: 266\\nhello world: 267\\nhello world: 268\\nhello world: 269\\nhello world: 270\\nhello world: 271\\nhello world: 272\\nhello world: 273\\nhello world: 274\\nhello world: 275\\nhello world: 276\\nhello world: 277\\nhello world: 278\\nhello world: 279\\nhello world: 280\\nhello world: 281\\nhello world: 282\\nhello world: 283\\nhello world: 284\\nhello world: 285\\nhello world: 286\\nhello world: 287\\nhello world: 288\\nhello world: 289\\nhello world: 290\\nhello world: 291\\nhello world: 292\\nhello world: 293\\nhello world: 294\\nhello world: 295\\nhello world: 296\\nhello world: 297\\nhello world: 298\\nhello world: 299\\nhello world: 300\\nhello world: 301\\nhello world: 302\\nhello world: 303\\nhello world: 304\\nhello world: 305\\nhello world: 306\\nhello world: 307\\nhello world: 308\\nhello world: 309\\nhello world: 310\\nhello world: 311\\nhello world: 312\\nhello world: 313\\nhello world: 314\\nhello world: 315\\nhello world: 316\\nhello world: 317\\nhello world: 318\\nhello world: 319\\nhello world: 320\\nhello world: 321\\nhello world: 322\\nhello world: 323\\nhello world: 324\\nhello world: 325\\nhello world: 326\\nhello world: 327\\nhello world: 328\\nhello world: 329\\nhello world: 330\\nhello world: 331\\nhello world: 332\\nhello world: 333\\nhello world: 334\\nhello world: 335\\nhello world: 336\\nhello world: 337\\nhello world: 338\\nhello world: 339\\nhello world: 340\\nhello world: 341\\nhello world: 342\\nhello world: 343\\nhello world: 344\\nhello world: 345\\nhello world: 346\\nhello world: 347\\nhello world: 348\\nhello world: 349\\nhello world: 350\\nhello world: 351\\nhello world: 352\\nhello world: 353\\nhello world: 354\\nhello world: 355\\nhello world: 356\\nhello world: 357\\nhello world: 358\\nhello world: 359\\nhello world: 360\\nhello world: 361\\nhello world: 362\\nhello world: 363\\nhello world: 364\\nhello world: 365\\nhello world: 366\\nhello world: 367\\nhello world: 368\\nhello world: 369\\nhello world: 370\\nhello world: 371\\nhello world: 372\\nhello world: 373\\nhello world: 374\\nhello world: 375\\nhello world: 376\\nhello world: 377\\nhello world: 378\\nhello world: 379\\nhello world: 380\\nhello world: 381\\nhello world: 382\\nhello world: 383\\nhello world: 384\\nhello world: 385\\nhello world: 386\\nhello world: 387\\nhello world: 388\\nhello world: 389\\nhello world: 390\\nhello world: 391\\nhello world: 392\\nhello world: 393\\nhello world: 394\\nhello world: 395\\nhello world: 396\\nhello world: 397\\nhello world: 398\\nhello world: 399\\nhello world: 400\\nhello world: 401\\nhello world: 402\\nhello world: 403\\nhello world: 404\\nhello world: 405\\nhello world: 406\\nhello world: 407\\nhello world: 408\\nhello world: 409\\nhello world: 410\\nhello world: 411\\nhello world: 412\\nhello world: 413\\nhello world: 414\\nhello world: 415\\nhello world: 416\\nhello world: 417\\nhello world: 418\\nhello world: 419\\nhello world: 420\\nhello world: 421\\nhello world: 422\\nhello world: 423\\nhello world: 424\\nhello world: 425\\nhello world: 426\\nhello world: 427\\nhello world: 428\\nhello world: 429\\nhello world: 430\\nhello world: 431\\nhello world: 432\\nhello world: 433\\nhello world: 434\\nhello world: 435\\nhello world: 436\\nhello world: 437\\nhello world: 438\\nhello world: 439\\nhello world: 440\\nhello world: 441\\nhello world: 442\\nhello world: 443\\nhello world: 444\\nhello world: 445\\nhello world: 446\\nhello world: 447\\nhello world: 448\\nhello world: 449\\nhello world: 450\\nhello world: 451\\nhello world: 452\\nhello world: 453\\nhello world: 454\\nhello world: 455\\nhello world: 456\\nhello world: 457\\nhello world: 458\\nhello world: 459\\nhello world: 460\\nhello world: 461\\nhello world: 462\\nhello world: 463\\nhello world: 464\\nhello world: 465\\nhello world: 466\\nhello world: 467\\nhello world: 468\\nhello world: 469\\nhello world: 470\\nhello world: 471\\nhello world: 472\\nhello world: 473\\nhello world: 474\\nhello world: 475\\nhello world: 476\\nhello world: 477\\nhello world: 478\\nhello world: 479\\nhello world: 480\\nhello world: 481\\nhello world: 482\\nhello world: 483\\nhello world: 484\\nhello world: 485\\nhello world: 486\\nhello world: 487\\nhello world: 488\\nhello world: 489\\nhello world: 490\\nhello world: 491\\nhello world: 492\\nhello world: 493\\nhello world: 494\\nhello world: 495\\nhello world: 496\\nhello world: 497\\nhello world: 498\\nhello world: 499\\nhello world: 500\\nhello world: 501\\nhello world: 502\\nhello world: 503\\nhello world: 504\\nhello world: 505\\nhello world: 506\\nhello world: 507\\nhello world: 508\\nhello world: 509\\nhello world: 510\\nhello world: 511\\nhello world: 512\\nhello world: 513\\nhello world: 514\\nhello world: 515\\nhello world: 516\\nhello world: 517\\nhello world: 518\\nhello world: 519\\nhello world: 520\\nhello world: 521\\nhello world: 522\\nhello world: 523\\nhello world: 524\\nhello world: 525\\nhello world: 526\\nhello world: 527\\nhello world: 528\\nhello world: 529\\nhello world: 530\\nhello world: 531\\nhello world: 532\\nhello world: 533\\nhello world: 534\\nhello world: 535\\nhello world: 536\\nhello world: 537\\nhello world: 538\\nhello world: 539\\nhello world: 540\\nhello world: 541\\nhello world: 542\\nhello world: 543\\nhello world: 544\\nhello world: 545\\nhello world: 546\\nhello world: 547\\nhello world: 548\\nhello world: 549\\nhello world: 550\\nhello world: 551\\nhello world: 552\\nhello world: 553\\nhello world: 554\\nhello world: 555\\nhello world: 556\\nhello world: 557\\nhello world: 558\\nhello world: 559\\nhello world: 560\\nhello world: 561\\nhello world: 562\\nhello world: 563\\nhello world: 564\\nhello world: 565\\nhello world: 566\\nhello world: 567\\nhello world: 568\\nhello world: 569\\nhello world: 570\\nhello world: 571\\nhello world: 572\\nhello world: 573\\nhello world: 574\\nhello world: 575\\nhello world: 576\\nhello world: 577\\nhello world: 578\\nhello world: 579\\nhello world: 580\\nhello world: 581\\nhello world: 582\\nhello world: 583\\nhello world: 584\\nhello world: 585\\nhello world: 586\\nhello world: 587\\nhello world: 588\\nhello world: 589\\nhello world: 590\\nhello world: 591\\nhello world: 592\\nhello world: 593\\nhello world: 594\\nhello world: 595\\nhello world: 596\\nhello world: 597\\nhello world: 598\\nhello world: 599\\nhello world: 600\\nhello world: 601\\nhello world: 602\\nhello world: 603\\nhello world: 604\\nhello world: 605\\nhello world: 606\\nhello world: 607\\nhello world: 608\\nhello world: 609\\nhello world: 610\\nhello world: 611\\nhello world: 612\\nhello world: 613\\nhello world: 614\\nhello world: 615\\nhello world: 616\\nhello world: 617\\nhello world: 618\\nhello world: 619\\nhello world: 620\\nhello world: 621\\nhello world: 622\\nhello world: 623\\nhello world: 624\\nhello world: 625\\nhello world: 626\\nhello world: 627\\nhello world: 628\\nhello world: 629\\nhello world: 630\\nhello world: 631\\nhello world: 632\\nhello world: 633\\nhello world: 634\\nhello world: 635\\nhello world: 636\\nhello world: 637\\nhello world: 638\\nhello world: 639\\nhello world: 640\\nhello world: 641\\nhello world: 642\\nhello world: 643\\nhello world: 644\\nhello world: 645\\nhello world: 646\\nhello world: 647\\nhello world: 648\\nhello world: 649\\nhello world: 650\\nhello world: 651\\nhello world: 652\\nhello world: 653\\nhello world: 654\\nhello world: 655\\nhello world: 656\\nhello world: 657\\nhello world: 658\\nhello world: 659\\nhello world: 660\\nhello world: 661\\nhello world: 662\\nhello world: 663\\nhello world: 664\\nhello world: 665\\nhello world: 666\\nhello world: 667\\nhello world: 668\\nhello world: 669\\nhello world: 670\\nhello world: 671\\nhello world: 672\\nhello world: 673\\nhello world: 674\\nhello world: 675\\nhello world: 676\\nhello world: 677\\nhello world: 678\\nhello world: 679\\nhello world: 680\\nhello world: 681\\nhello world: 682\\nhello world: 683\\nhello world: 684\\nhello world: 685\\nhello world: 686\\nhello world: 687\\nhello world: 688\\nhello world: 689\\nhello world: 690\\nhello world: 691\\nhello world: 692\\nhello world: 693\\nhello world: 694\\nhello world: 695\\nhello world: 696\\nhello world: 697\\nhello world: 698\\nhello world: 699\\nhello world: 700\\nhello world: 701\\nhello world: 702\\nhello world: 703\\nhello world: 704\\nhello world: 705\\nhello world: 706\\nhello world: 707\\nhello world: 708\\nhello world: 709\\nhello world: 710\\nhello world: 711\\nhello world: 712\\nhello world: 713\\nhello world: 714\\nhello world: 715\\nhello world: 716\\nhello world: 717\\nhello world: 718\\nhello world: 719\\nhello world: 720\\nhello world: 721\\nhello world: 722\\nhello world: 723\\nhello world: 724\\nhello world: 725\\nhello world: 726\\nhello world: 727\\nhello world: 728\\nhello world: 729\\nhello world: 730\\nhello world: 731\\nhello world: 732\\nhello world: 733\\nhello world: 734\\nhello world: 735\\nhello world: 736\\nhello world: 737\\nhello world: 738\\nhello world: 739\\nhello world: 740\\nhello world: 741\\nhello world: 742\\nhello world: 743\\nhello world: 744\\nhello world: 745\\nhello world: 746\\nhello world: 747\\nhello world: 748\\nhello world: 749\\nhello world: 750\\nhello world: 751\\nhello world: 752\\nhello world: 753\\nhello world: 754\\nhello world: 755\\nhello world: 756\\nhello world: 757\\nhello world: 758\\nhello world: 759\\nhello world: 760\\nhello world: 761\\nhello world: 762\\nhello world: 763\\nhello world: 764\\nhello world: 765\\nhello world: 766\\nhello world: 767\\nhello world: 768\\nhello world: 769\\nhello world: 770\\nhello world: 771\\nhello world: 772\\nhello world: 773\\nhello world: 774\\nhello world: 775\\nhello world: 776\\nhello world: 777\\nhello world: 778\\nhello world: 779\\nhello world: 780\\nhello world: 781\\nhello world: 782\\nhello world: 783\\nhello world: 784\\nhello world: 785\\nhello world: 786\\nhello world: 787\\nhello world: 788\\nhello world: 789\\nhello world: 790\\nhello world: 791\\nhello world: 792\\nhello world: 793\\nhello world: 794\\nhello world: 795\\nhello world: 796\\nhello world: 797\\nhello world: 798\\nhello world: 799\\nhello world: 800\\nhello world: 801\\nhello world: 802\\nhello world: 803\\nhello world: 804\\nhello world: 805\\nhello world: 806\\nhello world: 807\\nhello world: 808\\nhello world: 809\\nhello world: 810\\nhello world: 811\\nhello world: 812\\nhello world: 813\\nhello world: 814\\nhello world: 815\\nhello world: 816\\nhello world: 817\\nhello world: 818\\nhello world: 819\\nhello world: 820\\nhello world: 821\\nhello world: 822\\nhello world: 823\\nhello world: 824\\nhello world: 825\\nhello world: 826\\nhello world: 827\\nhello world: 828\\nhello world: 829\\nhello world: 830\\nhello world: 831\\nhello world: 832\\nhello world: 833\\nhello world: 834\\nhello world: 835\\nhello world: 836\\nhello world: 837\\nhello world: 838\\nhello world: 839\\nhello world: 840\\nhello world: 841\\nhello world: 842\\nhello world: 843\\nhello world: 844\\nhello world: 845\\nhello world: 846\\nhello world: 847\\nhello world: 848\\nhello world: 849\\nhello world: 850\\nhello world: 851\\nhello world: 852\\nhello world: 853\\nhello world: 854\\nhello world: 855\\nhello world: 856\\nhello world: 857\\nhello world: 858\\nhello world: 859\\nhello world: 860\\nhello world: 861\\nhello world: 862\\nhello world: 863\\nhello world: 864\\nhello world: 865\\nhello world: 866\\nhello world: 867\\nhello world: 868\\nhello world: 869\\nhello world: 870\\nhello world: 871\\nhello world: 872\\nhello world: 873\\nhello world: 874\\nhello world: 875\\nhello world: 876\\nhello world: 877\\nhello world: 878\\nhello world: 879\\nhello world: 880\\nhello world: 881\\nhello world: 882\\nhello world: 883\\nhello world: 884\\nhello world: 885\\nhello world: 886\\nhello world: 887\\nhello world: 888\\nhello world: 889\\nhello world: 890\\nhello world: 891\\nhello world: 892\\nhello world: 893\\nhello world: 894\\nhello world: 895\\nhello world: 896\\nhello world: 897\\nhello world: 898\\nhello world: 899\\nhello world: 900\\nhello world: 901\\nhello world: 902\\nhello world: 903\\nhello world: 904\\nhello world: 905\\nhello world: 906\\nhello world: 907\\nhello world: 908\\nhello world: 909\\nhello world: 910\\nhello world: 911\\nhello world: 912\\nhello world: 913\\nhello world: 914\\nhello world: 915\\nhello world: 916\\nhello world: 917\\nhello world: 918\\nhello world: 919\\nhello world: 920\\nhello world: 921\\nhello world: 922\\nhello world: 923\\nhello world: 924\\nhello world: 925\\nhello world: 926\\nhello world: 927\\nhello world: 928\\nhello world: 929\\nhello world: 930\\nhello world: 931\\nhello world: 932\\nhello world: 933\\nhello world: 934\\nhello world: 935\\nhello world: 936\\nhello world: 937\\nhello world: 938\\nhello world: 939\\nhello world: 940\\nhello world: 941\\nhello world: 942\\nhello world: 943\\nhello world: 944\\nhello world: 945\\nhello world: 946\\nhello world: 947\\nhello world: 948\\nhello world: 949\\nhello world: 950\\nhello world: 951\\nhello world: 952\\nhello world: 953\\nhello world: 954\\nhello world: 955\\nhello world: 956\\nhello world: 957\\nhello world: 958\\nhello world: 959\\nhello world: 960\\nhello world: 961\\nhello world: 962\\nhello world: 963\\nhello world: 964\\nhello world: 965\\nhello world: 966\\nhello world: 967\\nhello world: 968\\nhello world: 969\\nhello world: 970\\nhello world: 971\\nhello world: 972\\nhello world: 973\\nhello world: 974\\nhello world: 975\\nhello world: 976\\nhello world: 977\\nhello world: 978\\nhello world: 979\\nhello world: 980\\nhello world: 981\\nhello world: 982\\nhello world: 983\\nhello world: 984\\nhello world: 985\\nhello world: 986\\nhello world: 987\\nhello world: 988\\nhello world: 989\\nhello world: 990\\nhello world: 991\\nhello world: 992\\nhello world: 993\\nhello world: 994\\nhello world: 995\\nhello world: 996\\nhello world: 997\\nhello world: 998\\nhello world: 999\\n'"
      ]
     },
     "execution_count": 32,
     "metadata": {},
     "output_type": "execute_result"
    }
   ],
   "source": [
    "open('newfile.txt').read()"
   ]
  },
  {
   "cell_type": "markdown",
   "metadata": {},
   "source": [
    "# with 方法"
   ]
  },
  {
   "cell_type": "markdown",
   "metadata": {},
   "source": [
    "实际上使用with方法才是最安全的读取写入文件的方法"
   ]
  },
  {
   "cell_type": "code",
   "execution_count": 33,
   "metadata": {},
   "outputs": [
    {
     "ename": "ZeroDivisionError",
     "evalue": "division by zero",
     "output_type": "error",
     "traceback": [
      "\u001b[0;31m---------------------------------------------------------------------------\u001b[0m",
      "\u001b[0;31mZeroDivisionError\u001b[0m                         Traceback (most recent call last)",
      "\u001b[0;32m<ipython-input-33-9a447ead4de8>\u001b[0m in \u001b[0;36m<module>\u001b[0;34m()\u001b[0m\n\u001b[1;32m      1\u001b[0m \u001b[0;32mwith\u001b[0m \u001b[0mopen\u001b[0m\u001b[0;34m(\u001b[0m\u001b[0;34m'newfile.txt'\u001b[0m\u001b[0;34m,\u001b[0m\u001b[0;34m'w'\u001b[0m\u001b[0;34m)\u001b[0m \u001b[0;32mas\u001b[0m \u001b[0mf\u001b[0m\u001b[0;34m:\u001b[0m\u001b[0;34m\u001b[0m\u001b[0m\n\u001b[1;32m      2\u001b[0m     \u001b[0;32mfor\u001b[0m \u001b[0mi\u001b[0m \u001b[0;32min\u001b[0m \u001b[0mrange\u001b[0m\u001b[0;34m(\u001b[0m\u001b[0;36m3000\u001b[0m\u001b[0;34m)\u001b[0m\u001b[0;34m:\u001b[0m\u001b[0;34m\u001b[0m\u001b[0m\n\u001b[0;32m----> 3\u001b[0;31m         \u001b[0mx\u001b[0m \u001b[0;34m=\u001b[0m \u001b[0;36m1\u001b[0m\u001b[0;34m/\u001b[0m\u001b[0;34m(\u001b[0m\u001b[0mi\u001b[0m\u001b[0;34m-\u001b[0m\u001b[0;36m1500\u001b[0m\u001b[0;34m)\u001b[0m\u001b[0;34m\u001b[0m\u001b[0m\n\u001b[0m\u001b[1;32m      4\u001b[0m         \u001b[0mf\u001b[0m\u001b[0;34m.\u001b[0m\u001b[0mwrite\u001b[0m\u001b[0;34m(\u001b[0m\u001b[0;34m'Hello world:%d'\u001b[0m\u001b[0;34m%\u001b[0m\u001b[0mi\u001b[0m\u001b[0;34m)\u001b[0m\u001b[0;34m\u001b[0m\u001b[0m\n",
      "\u001b[0;31mZeroDivisionError\u001b[0m: division by zero"
     ]
    }
   ],
   "source": [
    "with open('newfile.txt','w') as f:\n",
    "    for i in range(3000):\n",
    "        x = 1/(i-1500)\n",
    "        f.write('Hello world:%d'%i)"
   ]
  },
  {
   "cell_type": "code",
   "execution_count": 34,
   "metadata": {},
   "outputs": [
    {
     "name": "stdout",
     "output_type": "stream",
     "text": [
      "Hello world:0Hello world:1Hello world:2Hello world:3Hello world:4Hello world:5Hello world:6Hello world:7Hello world:8Hello world:9Hello world:10Hello world:11Hello world:12Hello world:13Hello world:14Hello world:15Hello world:16Hello world:17Hello world:18Hello world:19Hello world:20Hello world:21Hello world:22Hello world:23Hello world:24Hello world:25Hello world:26Hello world:27Hello world:28Hello world:29Hello world:30Hello world:31Hello world:32Hello world:33Hello world:34Hello world:35Hello world:36Hello world:37Hello world:38Hello world:39Hello world:40Hello world:41Hello world:42Hello world:43Hello world:44Hello world:45Hello world:46Hello world:47Hello world:48Hello world:49Hello world:50Hello world:51Hello world:52Hello world:53Hello world:54Hello world:55Hello world:56Hello world:57Hello world:58Hello world:59Hello world:60Hello world:61Hello world:62Hello world:63Hello world:64Hello world:65Hello world:66Hello world:67Hello world:68Hello world:69Hello world:70Hello world:71Hello world:72Hello world:73Hello world:74Hello world:75Hello world:76Hello world:77Hello world:78Hello world:79Hello world:80Hello world:81Hello world:82Hello world:83Hello world:84Hello world:85Hello world:86Hello world:87Hello world:88Hello world:89Hello world:90Hello world:91Hello world:92Hello world:93Hello world:94Hello world:95Hello world:96Hello world:97Hello world:98Hello world:99Hello world:100Hello world:101Hello world:102Hello world:103Hello world:104Hello world:105Hello world:106Hello world:107Hello world:108Hello world:109Hello world:110Hello world:111Hello world:112Hello world:113Hello world:114Hello world:115Hello world:116Hello world:117Hello world:118Hello world:119Hello world:120Hello world:121Hello world:122Hello world:123Hello world:124Hello world:125Hello world:126Hello world:127Hello world:128Hello world:129Hello world:130Hello world:131Hello world:132Hello world:133Hello world:134Hello world:135Hello world:136Hello world:137Hello world:138Hello world:139Hello world:140Hello world:141Hello world:142Hello world:143Hello world:144Hello world:145Hello world:146Hello world:147Hello world:148Hello world:149Hello world:150Hello world:151Hello world:152Hello world:153Hello world:154Hello world:155Hello world:156Hello world:157Hello world:158Hello world:159Hello world:160Hello world:161Hello world:162Hello world:163Hello world:164Hello world:165Hello world:166Hello world:167Hello world:168Hello world:169Hello world:170Hello world:171Hello world:172Hello world:173Hello world:174Hello world:175Hello world:176Hello world:177Hello world:178Hello world:179Hello world:180Hello world:181Hello world:182Hello world:183Hello world:184Hello world:185Hello world:186Hello world:187Hello world:188Hello world:189Hello world:190Hello world:191Hello world:192Hello world:193Hello world:194Hello world:195Hello world:196Hello world:197Hello world:198Hello world:199Hello world:200Hello world:201Hello world:202Hello world:203Hello world:204Hello world:205Hello world:206Hello world:207Hello world:208Hello world:209Hello world:210Hello world:211Hello world:212Hello world:213Hello world:214Hello world:215Hello world:216Hello world:217Hello world:218Hello world:219Hello world:220Hello world:221Hello world:222Hello world:223Hello world:224Hello world:225Hello world:226Hello world:227Hello world:228Hello world:229Hello world:230Hello world:231Hello world:232Hello world:233Hello world:234Hello world:235Hello world:236Hello world:237Hello world:238Hello world:239Hello world:240Hello world:241Hello world:242Hello world:243Hello world:244Hello world:245Hello world:246Hello world:247Hello world:248Hello world:249Hello world:250Hello world:251Hello world:252Hello world:253Hello world:254Hello world:255Hello world:256Hello world:257Hello world:258Hello world:259Hello world:260Hello world:261Hello world:262Hello world:263Hello world:264Hello world:265Hello world:266Hello world:267Hello world:268Hello world:269Hello world:270Hello world:271Hello world:272Hello world:273Hello world:274Hello world:275Hello world:276Hello world:277Hello world:278Hello world:279Hello world:280Hello world:281Hello world:282Hello world:283Hello world:284Hello world:285Hello world:286Hello world:287Hello world:288Hello world:289Hello world:290Hello world:291Hello world:292Hello world:293Hello world:294Hello world:295Hello world:296Hello world:297Hello world:298Hello world:299Hello world:300Hello world:301Hello world:302Hello world:303Hello world:304Hello world:305Hello world:306Hello world:307Hello world:308Hello world:309Hello world:310Hello world:311Hello world:312Hello world:313Hello world:314Hello world:315Hello world:316Hello world:317Hello world:318Hello world:319Hello world:320Hello world:321Hello world:322Hello world:323Hello world:324Hello world:325Hello world:326Hello world:327Hello world:328Hello world:329Hello world:330Hello world:331Hello world:332Hello world:333Hello world:334Hello world:335Hello world:336Hello world:337Hello world:338Hello world:339Hello world:340Hello world:341Hello world:342Hello world:343Hello world:344Hello world:345Hello world:346Hello world:347Hello world:348Hello world:349Hello world:350Hello world:351Hello world:352Hello world:353Hello world:354Hello world:355Hello world:356Hello world:357Hello world:358Hello world:359Hello world:360Hello world:361Hello world:362Hello world:363Hello world:364Hello world:365Hello world:366Hello world:367Hello world:368Hello world:369Hello world:370Hello world:371Hello world:372Hello world:373Hello world:374Hello world:375Hello world:376Hello world:377Hello world:378Hello world:379Hello world:380Hello world:381Hello world:382Hello world:383Hello world:384Hello world:385Hello world:386Hello world:387Hello world:388Hello world:389Hello world:390Hello world:391Hello world:392Hello world:393Hello world:394Hello world:395Hello world:396Hello world:397Hello world:398Hello world:399Hello world:400Hello world:401Hello world:402Hello world:403Hello world:404Hello world:405Hello world:406Hello world:407Hello world:408Hello world:409Hello world:410Hello world:411Hello world:412Hello world:413Hello world:414Hello world:415Hello world:416Hello world:417Hello world:418Hello world:419Hello world:420Hello world:421Hello world:422Hello world:423Hello world:424Hello world:425Hello world:426Hello world:427Hello world:428Hello world:429Hello world:430Hello world:431Hello world:432Hello world:433Hello world:434Hello world:435Hello world:436Hello world:437Hello world:438Hello world:439Hello world:440Hello world:441Hello world:442Hello world:443Hello world:444Hello world:445Hello world:446Hello world:447Hello world:448Hello world:449Hello world:450Hello world:451Hello world:452Hello world:453Hello world:454Hello world:455Hello world:456Hello world:457Hello world:458Hello world:459Hello world:460Hello world:461Hello world:462Hello world:463Hello world:464Hello world:465Hello world:466Hello world:467Hello world:468Hello world:469Hello world:470Hello world:471Hello world:472Hello world:473Hello world:474Hello world:475Hello world:476Hello world:477Hello world:478Hello world:479Hello world:480Hello world:481Hello world:482Hello world:483Hello world:484Hello world:485Hello world:486Hello world:487Hello world:488Hello world:489Hello world:490Hello world:491Hello world:492Hello world:493Hello world:494Hello world:495Hello world:496Hello world:497Hello world:498Hello world:499Hello world:500Hello world:501Hello world:502Hello world:503Hello world:504Hello world:505Hello world:506Hello world:507Hello world:508Hello world:509Hello world:510Hello world:511Hello world:512Hello world:513Hello world:514Hello world:515Hello world:516Hello world:517Hello world:518Hello world:519Hello world:520Hello world:521Hello world:522Hello world:523Hello world:524Hello world:525Hello world:526Hello world:527Hello world:528Hello world:529Hello world:530Hello world:531Hello world:532Hello world:533Hello world:534Hello world:535Hello world:536Hello world:537Hello world:538Hello world:539Hello world:540Hello world:541Hello world:542Hello world:543Hello world:544Hello world:545Hello world:546Hello world:547Hello world:548Hello world:549Hello world:550Hello world:551Hello world:552Hello world:553Hello world:554Hello world:555Hello world:556Hello world:557Hello world:558Hello world:559Hello world:560Hello world:561Hello world:562Hello world:563Hello world:564Hello world:565Hello world:566Hello world:567Hello world:568Hello world:569Hello world:570Hello world:571Hello world:572Hello world:573Hello world:574Hello world:575Hello world:576Hello world:577Hello world:578Hello world:579Hello world:580Hello world:581Hello world:582Hello world:583Hello world:584Hello world:585Hello world:586Hello world:587Hello world:588Hello world:589Hello world:590Hello world:591Hello world:592Hello world:593Hello world:594Hello world:595Hello world:596Hello world:597Hello world:598Hello world:599Hello world:600Hello world:601Hello world:602Hello world:603Hello world:604Hello world:605Hello world:606Hello world:607Hello world:608Hello world:609Hello world:610Hello world:611Hello world:612Hello world:613Hello world:614Hello world:615Hello world:616Hello world:617Hello world:618Hello world:619Hello world:620Hello world:621Hello world:622Hello world:623Hello world:624Hello world:625Hello world:626Hello world:627Hello world:628Hello world:629Hello world:630Hello world:631Hello world:632Hello world:633Hello world:634Hello world:635Hello world:636Hello world:637Hello world:638Hello world:639Hello world:640Hello world:641Hello world:642Hello world:643Hello world:644Hello world:645Hello world:646Hello world:647Hello world:648Hello world:649Hello world:650Hello world:651Hello world:652Hello world:653Hello world:654Hello world:655Hello world:656Hello world:657Hello world:658Hello world:659Hello world:660Hello world:661Hello world:662Hello world:663Hello world:664Hello world:665Hello world:666Hello world:667Hello world:668Hello world:669Hello world:670Hello world:671Hello world:672Hello world:673Hello world:674Hello world:675Hello world:676Hello world:677Hello world:678Hello world:679Hello world:680Hello world:681Hello world:682Hello world:683Hello world:684Hello world:685Hello world:686Hello world:687Hello world:688Hello world:689Hello world:690Hello world:691Hello world:692Hello world:693Hello world:694Hello world:695Hello world:696Hello world:697Hello world:698Hello world:699Hello world:700Hello world:701Hello world:702Hello world:703Hello world:704Hello world:705Hello world:706Hello world:707Hello world:708Hello world:709Hello world:710Hello world:711Hello world:712Hello world:713Hello world:714Hello world:715Hello world:716Hello world:717Hello world:718Hello world:719Hello world:720Hello world:721Hello world:722Hello world:723Hello world:724Hello world:725Hello world:726Hello world:727Hello world:728Hello world:729Hello world:730Hello world:731Hello world:732Hello world:733Hello world:734Hello world:735Hello world:736Hello world:737Hello world:738Hello world:739Hello world:740Hello world:741Hello world:742Hello world:743Hello world:744Hello world:745Hello world:746Hello world:747Hello world:748Hello world:749Hello world:750Hello world:751Hello world:752Hello world:753Hello world:754Hello world:755Hello world:756Hello world:757Hello world:758Hello world:759Hello world:760Hello world:761Hello world:762Hello world:763Hello world:764Hello world:765Hello world:766Hello world:767Hello world:768Hello world:769Hello world:770Hello world:771Hello world:772Hello world:773Hello world:774Hello world:775Hello world:776Hello world:777Hello world:778Hello world:779Hello world:780Hello world:781Hello world:782Hello world:783Hello world:784Hello world:785Hello world:786Hello world:787Hello world:788Hello world:789Hello world:790Hello world:791Hello world:792Hello world:793Hello world:794Hello world:795Hello world:796Hello world:797Hello world:798Hello world:799Hello world:800Hello world:801Hello world:802Hello world:803Hello world:804Hello world:805Hello world:806Hello world:807Hello world:808Hello world:809Hello world:810Hello world:811Hello world:812Hello world:813Hello world:814Hello world:815Hello world:816Hello world:817Hello world:818Hello world:819Hello world:820Hello world:821Hello world:822Hello world:823Hello world:824Hello world:825Hello world:826Hello world:827Hello world:828Hello world:829Hello world:830Hello world:831Hello world:832Hello world:833Hello world:834Hello world:835Hello world:836Hello world:837Hello world:838Hello world:839Hello world:840Hello world:841Hello world:842Hello world:843Hello world:844Hello world:845Hello world:846Hello world:847Hello world:848Hello world:849Hello world:850Hello world:851Hello world:852Hello world:853Hello world:854Hello world:855Hello world:856Hello world:857Hello world:858Hello world:859Hello world:860Hello world:861Hello world:862Hello world:863Hello world:864Hello world:865Hello world:866Hello world:867Hello world:868Hello world:869Hello world:870Hello world:871Hello world:872Hello world:873Hello world:874Hello world:875Hello world:876Hello world:877Hello world:878Hello world:879Hello world:880Hello world:881Hello world:882Hello world:883Hello world:884Hello world:885Hello world:886Hello world:887Hello world:888Hello world:889Hello world:890Hello world:891Hello world:892Hello world:893Hello world:894Hello world:895Hello world:896Hello world:897Hello world:898Hello world:899Hello world:900Hello world:901Hello world:902Hello world:903Hello world:904Hello world:905Hello world:906Hello world:907Hello world:908Hello world:909Hello world:910Hello world:911Hello world:912Hello world:913Hello world:914Hello world:915Hello world:916Hello world:917Hello world:918Hello world:919Hello world:920Hello world:921Hello world:922Hello world:923Hello world:924Hello world:925Hello world:926Hello world:927Hello world:928Hello world:929Hello world:930Hello world:931Hello world:932Hello world:933Hello world:934Hello world:935Hello world:936Hello world:937Hello world:938Hello world:939Hello world:940Hello world:941Hello world:942Hello world:943Hello world:944Hello world:945Hello world:946Hello world:947Hello world:948Hello world:949Hello world:950Hello world:951Hello world:952Hello world:953Hello world:954Hello world:955Hello world:956Hello world:957Hello world:958Hello world:959Hello world:960Hello world:961Hello world:962Hello world:963Hello world:964Hello world:965Hello world:966Hello world:967Hello world:968Hello world:969Hello world:970Hello world:971Hello world:972Hello world:973Hello world:974Hello world:975Hello world:976Hello world:977Hello world:978Hello world:979Hello world:980Hello world:981Hello world:982Hello world:983Hello world:984Hello world:985Hello world:986Hello world:987Hello world:988Hello world:989Hello world:990Hello world:991Hello world:992Hello world:993Hello world:994Hello world:995Hello world:996Hello world:997Hello world:998Hello world:999Hello world:1000Hello world:1001Hello world:1002Hello world:1003Hello world:1004Hello world:1005Hello world:1006Hello world:1007Hello world:1008Hello world:1009Hello world:1010Hello world:1011Hello world:1012Hello world:1013Hello world:1014Hello world:1015Hello world:1016Hello world:1017Hello world:1018Hello world:1019Hello world:1020Hello world:1021Hello world:1022Hello world:1023Hello world:1024Hello world:1025Hello world:1026Hello world:1027Hello world:1028Hello world:1029Hello world:1030Hello world:1031Hello world:1032Hello world:1033Hello world:1034Hello world:1035Hello world:1036Hello world:1037Hello world:1038Hello world:1039Hello world:1040Hello world:1041Hello world:1042Hello world:1043Hello world:1044Hello world:1045Hello world:1046Hello world:1047Hello world:1048Hello world:1049Hello world:1050Hello world:1051Hello world:1052Hello world:1053Hello world:1054Hello world:1055Hello world:1056Hello world:1057Hello world:1058Hello world:1059Hello world:1060Hello world:1061Hello world:1062Hello world:1063Hello world:1064Hello world:1065Hello world:1066Hello world:1067Hello world:1068Hello world:1069Hello world:1070Hello world:1071Hello world:1072Hello world:1073Hello world:1074Hello world:1075Hello world:1076Hello world:1077Hello world:1078Hello world:1079Hello world:1080Hello world:1081Hello world:1082Hello world:1083Hello world:1084Hello world:1085Hello world:1086Hello world:1087Hello world:1088Hello world:1089Hello world:1090Hello world:1091Hello world:1092Hello world:1093Hello world:1094Hello world:1095Hello world:1096Hello world:1097Hello world:1098Hello world:1099Hello world:1100Hello world:1101Hello world:1102Hello world:1103Hello world:1104Hello world:1105Hello world:1106Hello world:1107Hello world:1108Hello world:1109Hello world:1110Hello world:1111Hello world:1112Hello world:1113Hello world:1114Hello world:1115Hello world:1116Hello world:1117Hello world:1118Hello world:1119Hello world:1120Hello world:1121Hello world:1122Hello world:1123Hello world:1124Hello world:1125Hello world:1126Hello world:1127Hello world:1128Hello world:1129Hello world:1130Hello world:1131Hello world:1132Hello world:1133Hello world:1134Hello world:1135Hello world:1136Hello world:1137Hello world:1138Hello world:1139Hello world:1140Hello world:1141Hello world:1142Hello world:1143Hello world:1144Hello world:1145Hello world:1146Hello world:1147Hello world:1148Hello world:1149Hello world:1150Hello world:1151Hello world:1152Hello world:1153Hello world:1154Hello world:1155Hello world:1156Hello world:1157Hello world:1158Hello world:1159Hello world:1160Hello world:1161Hello world:1162Hello world:1163Hello world:1164Hello world:1165Hello world:1166Hello world:1167Hello world:1168Hello world:1169Hello world:1170Hello world:1171Hello world:1172Hello world:1173Hello world:1174Hello world:1175Hello world:1176Hello world:1177Hello world:1178Hello world:1179Hello world:1180Hello world:1181Hello world:1182Hello world:1183Hello world:1184Hello world:1185Hello world:1186Hello world:1187Hello world:1188Hello world:1189Hello world:1190Hello world:1191Hello world:1192Hello world:1193Hello world:1194Hello world:1195Hello world:1196Hello world:1197Hello world:1198Hello world:1199Hello world:1200Hello world:1201Hello world:1202Hello world:1203Hello world:1204Hello world:1205Hello world:1206Hello world:1207Hello world:1208Hello world:1209Hello world:1210Hello world:1211Hello world:1212Hello world:1213Hello world:1214Hello world:1215Hello world:1216Hello world:1217Hello world:1218Hello world:1219Hello world:1220Hello world:1221Hello world:1222Hello world:1223Hello world:1224Hello world:1225Hello world:1226Hello world:1227Hello world:1228Hello world:1229Hello world:1230Hello world:1231Hello world:1232Hello world:1233Hello world:1234Hello world:1235Hello world:1236Hello world:1237Hello world:1238Hello world:1239Hello world:1240Hello world:1241Hello world:1242Hello world:1243Hello world:1244Hello world:1245Hello world:1246Hello world:1247Hello world:1248Hello world:1249Hello world:1250Hello world:1251Hello world:1252Hello world:1253Hello world:1254Hello world:1255Hello world:1256Hello world:1257Hello world:1258Hello world:1259Hello world:1260Hello world:1261Hello world:1262Hello world:1263Hello world:1264Hello world:1265Hello world:1266Hello world:1267Hello world:1268Hello world:1269Hello world:1270Hello world:1271Hello world:1272Hello world:1273Hello world:1274Hello world:1275Hello world:1276Hello world:1277Hello world:1278Hello world:1279Hello world:1280Hello world:1281Hello world:1282Hello world:1283Hello world:1284Hello world:1285Hello world:1286Hello world:1287Hello world:1288Hello world:1289Hello world:1290Hello world:1291Hello world:1292Hello world:1293Hello world:1294Hello world:1295Hello world:1296Hello world:1297Hello world:1298Hello world:1299Hello world:1300Hello world:1301Hello world:1302Hello world:1303Hello world:1304Hello world:1305Hello world:1306Hello world:1307Hello world:1308Hello world:1309Hello world:1310Hello world:1311Hello world:1312Hello world:1313Hello world:1314Hello world:1315Hello world:1316Hello world:1317Hello world:1318Hello world:1319Hello world:1320Hello world:1321Hello world:1322Hello world:1323Hello world:1324Hello world:1325Hello world:1326Hello world:1327Hello world:1328Hello world:1329Hello world:1330Hello world:1331Hello world:1332Hello world:1333Hello world:1334Hello world:1335Hello world:1336Hello world:1337Hello world:1338Hello world:1339Hello world:1340Hello world:1341Hello world:1342Hello world:1343Hello world:1344Hello world:1345Hello world:1346Hello world:1347Hello world:1348Hello world:1349Hello world:1350Hello world:1351Hello world:1352Hello world:1353Hello world:1354Hello world:1355Hello world:1356Hello world:1357Hello world:1358Hello world:1359Hello world:1360Hello world:1361Hello world:1362Hello world:1363Hello world:1364Hello world:1365Hello world:1366Hello world:1367Hello world:1368Hello world:1369Hello world:1370Hello world:1371Hello world:1372Hello world:1373Hello world:1374Hello world:1375Hello world:1376Hello world:1377Hello world:1378Hello world:1379Hello world:1380Hello world:1381Hello world:1382Hello world:1383Hello world:1384Hello world:1385Hello world:1386Hello world:1387Hello world:1388Hello world:1389Hello world:1390Hello world:1391Hello world:1392Hello world:1393Hello world:1394Hello world:1395Hello world:1396Hello world:1397Hello world:1398Hello world:1399Hello world:1400Hello world:1401Hello world:1402Hello world:1403Hello world:1404Hello world:1405Hello world:1406Hello world:1407Hello world:1408Hello world:1409Hello world:1410Hello world:1411Hello world:1412Hello world:1413Hello world:1414Hello world:1415Hello world:1416Hello world:1417Hello world:1418Hello world:1419Hello world:1420Hello world:1421Hello world:1422Hello world:1423Hello world:1424Hello world:1425Hello world:1426Hello world:1427Hello world:1428Hello world:1429Hello world:1430Hello world:1431Hello world:1432Hello world:1433Hello world:1434Hello world:1435Hello world:1436Hello world:1437Hello world:1438Hello world:1439Hello world:1440Hello world:1441Hello world:1442Hello world:1443Hello world:1444Hello world:1445Hello world:1446Hello world:1447Hello world:1448Hello world:1449Hello world:1450Hello world:1451Hello world:1452Hello world:1453Hello world:1454Hello world:1455Hello world:1456Hello world:1457Hello world:1458Hello world:1459Hello world:1460Hello world:1461Hello world:1462Hello world:1463Hello world:1464Hello world:1465Hello world:1466Hello world:1467Hello world:1468Hello world:1469Hello world:1470Hello world:1471Hello world:1472Hello world:1473Hello world:1474Hello world:1475Hello world:1476Hello world:1477Hello world:1478Hello world:1479Hello world:1480Hello world:1481Hello world:1482Hello world:1483Hello world:1484Hello world:1485Hello world:1486Hello world:1487Hello world:1488Hello world:1489Hello world:1490Hello world:1491Hello world:1492Hello world:1493Hello world:1494Hello world:1495Hello world:1496Hello world:1497Hello world:1498Hello world:1499\n"
     ]
    }
   ],
   "source": [
    "f = open('newfile.txt')\n",
    "print(f.read()) # 这里所实现的功能实际上与上述的try-except-finally是一致的\n",
    "f.close()"
   ]
  }
 ],
 "metadata": {
  "kernelspec": {
   "display_name": "Python 3",
   "language": "python",
   "name": "python3"
  },
  "language_info": {
   "codemirror_mode": {
    "name": "ipython",
    "version": 3
   },
   "file_extension": ".py",
   "mimetype": "text/x-python",
   "name": "python",
   "nbconvert_exporter": "python",
   "pygments_lexer": "ipython3",
   "version": "3.6.3"
  }
 },
 "nbformat": 4,
 "nbformat_minor": 2
}
