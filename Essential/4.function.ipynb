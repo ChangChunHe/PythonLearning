{
 "cells": [
  {
   "cell_type": "markdown",
   "metadata": {},
   "source": [
    "# 函数"
   ]
  },
  {
   "cell_type": "markdown",
   "metadata": {},
   "source": [
    "# 位置参数"
   ]
  },
  {
   "cell_type": "markdown",
   "metadata": {},
   "source": [
    "定义一个简单的函数, 实现计算x^n的结果"
   ]
  },
  {
   "cell_type": "code",
   "execution_count": 1,
   "metadata": {},
   "outputs": [
    {
     "name": "stdout",
     "output_type": "stream",
     "text": [
      "27\n"
     ]
    }
   ],
   "source": [
    "def power(x, n):\n",
    "    return x**n\n",
    "\n",
    "print(power(3,3))"
   ]
  },
  {
   "cell_type": "markdown",
   "metadata": {},
   "source": [
    "# 默认参数"
   ]
  },
  {
   "cell_type": "markdown",
   "metadata": {},
   "source": [
    "如果我们对于平方的计算较为常用, 就可以使用默认参数"
   ]
  },
  {
   "cell_type": "code",
   "execution_count": 2,
   "metadata": {},
   "outputs": [
    {
     "name": "stdout",
     "output_type": "stream",
     "text": [
      "81 9\n"
     ]
    }
   ],
   "source": [
    "def power(x, n=2):\n",
    "    return x**n\n",
    "\n",
    "print(power(3,4), power(3))"
   ]
  },
  {
   "cell_type": "markdown",
   "metadata": {},
   "source": [
    "默认参数很有用，但使用不当，也会掉坑里。默认参数有个最大的坑，演示如下：\n",
    "先定义一个函数，传入一个list，添加一个END再返回："
   ]
  },
  {
   "cell_type": "code",
   "execution_count": 3,
   "metadata": {},
   "outputs": [
    {
     "name": "stdout",
     "output_type": "stream",
     "text": [
      "['end']\n",
      "['end', 'end']\n",
      "['end', 'end', 'end']\n"
     ]
    }
   ],
   "source": [
    "def add(l=[]):\n",
    "    l.append('end')\n",
    "    return l\n",
    "print(add())\n",
    "print(add())\n",
    "print(add())"
   ]
  },
  {
   "cell_type": "markdown",
   "metadata": {},
   "source": [
    "这是由于第一次运行add()的时候, l就变成了['end'], 此时l会变成类似全局变量的东西, 然后下一次调用的时候就在此基础上再增加一个'end'， 以此类推，\n",
    "所以默认参数一定需要是一个不变对象."
   ]
  },
  {
   "cell_type": "code",
   "execution_count": 4,
   "metadata": {},
   "outputs": [
    {
     "name": "stdout",
     "output_type": "stream",
     "text": [
      "id(l) is 140009843992136\n",
      "['end']\n",
      "id(l) is 140009843992136\n",
      "['end', 'end']\n",
      "id(l) is 140009843992136\n",
      "['end', 'end', 'end']\n"
     ]
    }
   ],
   "source": [
    "def add(l=[]):\n",
    "    l.append('end')\n",
    "    print('id(l) is', id(l))\n",
    "    return l\n",
    "print(add())\n",
    "print(add())\n",
    "print(add())"
   ]
  },
  {
   "cell_type": "markdown",
   "metadata": {},
   "source": [
    "l是可变对象，使用append方法添加新元素并不会造成list对象的重新创建，地址的重新分配。这样，‘恰好’就在默认参数指向的地址处修改了对象，\n",
    "下一次调用再次使用这个地址时，就可以看到上一次的修改了. 那么，出现上述的输出就不奇怪了，因为它们本来就是指向同一内存地址.\n",
    "\n",
    "因此默认参数一定需要是一个不变对象"
   ]
  },
  {
   "cell_type": "code",
   "execution_count": 5,
   "metadata": {},
   "outputs": [
    {
     "name": "stdout",
     "output_type": "stream",
     "text": [
      "before call function, id(l) is 94185505086800\n",
      "after call function, id(l) is 140009844014216\n",
      "['end']\n",
      "before call function, id(l) is 94185505086800\n",
      "after call function, id(l) is 140009843992136\n",
      "['end']\n",
      "before call function, id(l) is 94185505086800\n",
      "after call function, id(l) is 140009843945224\n",
      "['end']\n"
     ]
    }
   ],
   "source": [
    "def add(l=None):\n",
    "    if l is None:\n",
    "        print('before call function, id(l) is', id(l))\n",
    "        l = ['end']\n",
    "        print('after call function, id(l) is', id(l))\n",
    "    else:\n",
    "        print('before call function, id(l) is', id(l))\n",
    "        l.append('end')\n",
    "        print('after call function, id(l) is', id(l))\n",
    "    return l\n",
    "print(add())\n",
    "print(add())\n",
    "print(add())"
   ]
  },
  {
   "cell_type": "markdown",
   "metadata": {},
   "source": [
    "这样就可以看到, 默认参数是不变对象的时候, 对l进行append操作之后, 系统就会对l重新分配地址, 从而不会对默认参数的设置有任何影响, 在下一次运行\n",
    "函数的时候, 默认参数依旧是None, 而不会像之前的可变对象把l的默认值改变了."
   ]
  },
  {
   "cell_type": "markdown",
   "metadata": {},
   "source": [
    "# 可变参数"
   ]
  },
  {
   "cell_type": "markdown",
   "metadata": {},
   "source": [
    "如果我们希望计算x+y, 我们可以定义一个函数"
   ]
  },
  {
   "cell_type": "code",
   "execution_count": 6,
   "metadata": {},
   "outputs": [
    {
     "name": "stdout",
     "output_type": "stream",
     "text": [
      "7\n"
     ]
    }
   ],
   "source": [
    "def calc(x, y):\n",
    "    return x+y\n",
    "print(calc(3,4))"
   ]
  },
  {
   "cell_type": "markdown",
   "metadata": {},
   "source": [
    "但是如果我们希望计算x+y+z， 甚至是x+y+z+a+b+c, 这个时候就可以使用可变参数"
   ]
  },
  {
   "cell_type": "code",
   "execution_count": 7,
   "metadata": {},
   "outputs": [
    {
     "name": "stdout",
     "output_type": "stream",
     "text": [
      "10\n"
     ]
    }
   ],
   "source": [
    "def calc(*arg):\n",
    "    total = 0\n",
    "    for i in arg:\n",
    "        total += i\n",
    "    return total\n",
    "print(calc(1,2,3,4))"
   ]
  },
  {
   "cell_type": "markdown",
   "metadata": {},
   "source": [
    "我们还可以使用列表或者元组作为参数传入, 不过需要在前面加上*标识符"
   ]
  },
  {
   "cell_type": "code",
   "execution_count": 8,
   "metadata": {},
   "outputs": [
    {
     "name": "stdout",
     "output_type": "stream",
     "text": [
      "10 21\n"
     ]
    }
   ],
   "source": [
    "l1, l2 = [1,2,3,4], (1,2,3,4,5,6)\n",
    "print(calc(*l1), calc(*l2))"
   ]
  },
  {
   "cell_type": "markdown",
   "metadata": {},
   "source": [
    "# 关键字参数"
   ]
  },
  {
   "cell_type": "markdown",
   "metadata": {},
   "source": [
    "可变参数允许你传入0个或任意个参数, 这些可变参数在函数调用时自动组装为一个tuple. 而关键字参数允许你传入0个或任意个含参数名的参数, 这些关键字\n",
    "参数在函数内部自动组装为一个dict."
   ]
  },
  {
   "cell_type": "code",
   "execution_count": 9,
   "metadata": {
    "collapsed": true
   },
   "outputs": [],
   "source": [
    "def person(name, age, **kw):\n",
    "    print('name:', name)\n",
    "    print('age:', age)\n",
    "    print('other:', kw)"
   ]
  },
  {
   "cell_type": "code",
   "execution_count": 10,
   "metadata": {},
   "outputs": [
    {
     "name": "stdout",
     "output_type": "stream",
     "text": [
      "name: Bob\n",
      "age: 23\n",
      "other: {'city': 'GZ', 'job': 'teacher'}\n"
     ]
    }
   ],
   "source": [
    "# 调用方式为\n",
    "person('Bob', 23, city='GZ', job='teacher')"
   ]
  },
  {
   "cell_type": "markdown",
   "metadata": {},
   "source": [
    "同样地, 我们也可以将一个字典传递进去"
   ]
  },
  {
   "cell_type": "code",
   "execution_count": 11,
   "metadata": {},
   "outputs": [
    {
     "name": "stdout",
     "output_type": "stream",
     "text": [
      "name: Bob\n",
      "age: 23\n",
      "other: {'city': 'GZ', 'job': 'teacher'}\n"
     ]
    }
   ],
   "source": [
    "dic = {'city':'GZ', 'job':'teacher'}\n",
    "person('Bob', 23, **dic)"
   ]
  },
  {
   "cell_type": "markdown",
   "metadata": {},
   "source": [
    "# 命名关键字参数"
   ]
  },
  {
   "cell_type": "markdown",
   "metadata": {},
   "source": [
    "对于关键字参数，函数的调用者可以传入任意不受限制的关键字参数, 至于到底传入了哪些，就需要在函数内部通过kw检查.我们也可以使用命名关键字参数, 从而\n",
    "确定必须要传入的关键字参数."
   ]
  },
  {
   "cell_type": "code",
   "execution_count": 12,
   "metadata": {},
   "outputs": [
    {
     "name": "stdout",
     "output_type": "stream",
     "text": [
      "name: Bob\n",
      "age: 23\n",
      "city: GZ\n",
      "job: teacher\n"
     ]
    }
   ],
   "source": [
    "def person(name, age, *, city, job):\n",
    "    print('name:', name)\n",
    "    print('age:', age)\n",
    "    print('city:', city)\n",
    "    print('job:', job)\n",
    "person('Bob', 23, city='GZ', job='teacher')"
   ]
  },
  {
   "cell_type": "markdown",
   "metadata": {},
   "source": [
    "注意这里面, city, job 两个关键字参数必须传入, 而且不可以有其他的关键字参数\n",
    "\n",
    "当然我们在关键字参数中也可以使用默认参数"
   ]
  },
  {
   "cell_type": "code",
   "execution_count": 13,
   "metadata": {},
   "outputs": [
    {
     "name": "stdout",
     "output_type": "stream",
     "text": [
      "name: Bob\n",
      "age: 23\n",
      "city: GZ\n",
      "job: teacher\n"
     ]
    }
   ],
   "source": [
    "def person(name, age, *, city='GZ', job):\n",
    "    print('name:', name)\n",
    "    print('age:', age)\n",
    "    print('city:', city)\n",
    "    print('job:', job)\n",
    "person('Bob', 23, job='teacher')"
   ]
  },
  {
   "cell_type": "markdown",
   "metadata": {},
   "source": [
    "如果函数定义中已经有了一个可变参数，后面跟着的命名关键字参数就不再需要一个特殊分隔符*了"
   ]
  },
  {
   "cell_type": "code",
   "execution_count": 14,
   "metadata": {},
   "outputs": [
    {
     "name": "stdout",
     "output_type": "stream",
     "text": [
      "name: Bob\n",
      "age: 23\n",
      "other: (170, 125)\n",
      "city: GZ\n",
      "job: teacher\n"
     ]
    }
   ],
   "source": [
    "def person(name, age, *arg, city, job):\n",
    "    print('name:', name)\n",
    "    print('age:', age)\n",
    "    print('other:', arg)\n",
    "    print('city:', city)\n",
    "    print('job:', job)\n",
    "person('Bob', 23, 170, 125, city='GZ', job='teacher')"
   ]
  },
  {
   "cell_type": "markdown",
   "metadata": {},
   "source": [
    "在Python中定义函数，可以用必选参数、默认参数、可变参数、关键字参数和命名关键字参数，这5种参数都可以组合使用. 但是请注意，参数定义的顺序必须是:\n",
    "必选参数、默认参数、可变参数、命名关键字参数和关键字参数."
   ]
  },
  {
   "cell_type": "code",
   "execution_count": 15,
   "metadata": {
    "collapsed": true
   },
   "outputs": [],
   "source": [
    "def f1(a, b, c=0, *args, **kw):\n",
    "    print('a =', a, 'b =', b, 'c =', c, 'args =', args, 'kw =', kw)\n",
    "\n",
    "def f2(a, b, c=0, *, d, **kw):\n",
    "    print('a =', a, 'b =', b, 'c =', c, 'd =', d, 'kw =', kw)"
   ]
  },
  {
   "cell_type": "code",
   "execution_count": 16,
   "metadata": {},
   "outputs": [
    {
     "name": "stdout",
     "output_type": "stream",
     "text": [
      "a = 1 b = 2 c = 1 args = (1, 1, 1, 1, 1) kw = {'city': 'asddsa', 'job': 'werew'}\n"
     ]
    }
   ],
   "source": [
    "f1(1,2,1,1,1,1,1,1,city='asddsa', job='werew')"
   ]
  },
  {
   "cell_type": "code",
   "execution_count": 17,
   "metadata": {},
   "outputs": [
    {
     "name": "stdout",
     "output_type": "stream",
     "text": [
      "a = 1 b = 2 c = 4 d = 14 kw = {'city': 'HGYFCGVUH'}\n"
     ]
    }
   ],
   "source": [
    "f2(1,2,4, d=14, city='HGYFCGVUH')"
   ]
  },
  {
   "cell_type": "markdown",
   "metadata": {},
   "source": [
    "我们也可以使用列表, 元组, 字典传入参数"
   ]
  },
  {
   "cell_type": "code",
   "execution_count": 18,
   "metadata": {},
   "outputs": [
    {
     "name": "stdout",
     "output_type": "stream",
     "text": [
      "a = 1 b = 2 c = 3 args = (1, 2, 3, 4, 5) kw = {'city': 'GZ', 'job': 'asfgdsg'}\n"
     ]
    }
   ],
   "source": [
    "l1 = (1,2,3,4,5)\n",
    "dic1 = {'city':'GZ', 'job':'asfgdsg'}\n",
    "f1(1,2,3,*l1, **dic1)"
   ]
  },
  {
   "cell_type": "markdown",
   "metadata": {},
   "source": [
    "# 递归函数"
   ]
  },
  {
   "cell_type": "code",
   "execution_count": 19,
   "metadata": {},
   "outputs": [
    {
     "data": {
      "text/plain": [
       "3628800"
      ]
     },
     "execution_count": 19,
     "metadata": {},
     "output_type": "execute_result"
    }
   ],
   "source": [
    "def frac(n):\n",
    "    if n == 1:\n",
    "        return 1\n",
    "    else:\n",
    "        return n*frac(n-1)\n",
    "frac(10)"
   ]
  },
  {
   "cell_type": "code",
   "execution_count": 20,
   "metadata": {},
   "outputs": [
    {
     "name": "stdout",
     "output_type": "stream",
     "text": [
      "a ---> c\n",
      "a ---> b\n",
      "c ---> a\n",
      "a ---> c\n",
      "b ---> c\n",
      "b ---> a\n",
      "c ---> b\n"
     ]
    }
   ],
   "source": [
    "def hanio(n,a,b,c):\n",
    "    if n==1:\n",
    "        print(a,'--->', c)\n",
    "    else:\n",
    "        hanio(n-1, a, c, b)\n",
    "        print(a,'--->', c)\n",
    "        hanio(n-1, b, c, a)\n",
    "hanio(3,'a','b','c')"
   ]
  }
 ],
 "metadata": {
  "kernelspec": {
   "display_name": "Python 3",
   "language": "python",
   "name": "python3"
  },
  "language_info": {
   "codemirror_mode": {
    "name": "ipython",
    "version": 3
   },
   "file_extension": ".py",
   "mimetype": "text/x-python",
   "name": "python",
   "nbconvert_exporter": "python",
   "pygments_lexer": "ipython3",
   "version": "3.6.3"
  }
 },
 "nbformat": 4,
 "nbformat_minor": 2
}
