{
 "cells": [
  {
   "cell_type": "markdown",
   "metadata": {},
   "source": [
    "# 函数最小值的一维搜索"
   ]
  },
  {
   "cell_type": "code",
   "execution_count": 1,
   "metadata": {},
   "outputs": [],
   "source": [
    "import numpy as np\n",
    "\n",
    "class OneDOptAlgo(object):\n",
    "    \n",
    "    def __init__(self, f, except_inter=1e-3):\n",
    "        self.f = f # here f is a one dimension function \n",
    "        self.except_inter = except_inter"
   ]
  },
  {
   "cell_type": "markdown",
   "metadata": {},
   "source": [
    "### 1. 黄金分割法\n",
    "\n",
    "所谓黄金分割法也即为将区间按照黄金分割的比例压缩."
   ]
  },
  {
   "cell_type": "code",
   "execution_count": 2,
   "metadata": {},
   "outputs": [],
   "source": [
    "def golden_division(self, inter):\n",
    "    \"\"\"\n",
    "    f is the given function, iter is the interval that variable belongs to\n",
    "    and err is the error you can tolerate\n",
    "    \"\"\"\n",
    "    rho = (3 - np.sqrt(5))/2\n",
    "    old_inter = abs(inter[0]- inter[1])\n",
    "    while old_inter > self.except_inter:\n",
    "        interval = inter[1] - inter[0]\n",
    "        new_inter_0 = inter[0] + rho*interval\n",
    "        new_inter_1 = inter[0] + (1 - rho)*interval\n",
    "        if self.f(new_inter_0) < self.f(new_inter_1):\n",
    "            inter = [inter[0], new_inter_1]\n",
    "        else:\n",
    "            inter = [new_inter_0, inter[1]]\n",
    "        old_inter = abs(inter[0] - inter[1])\n",
    "    return inter"
   ]
  },
  {
   "cell_type": "code",
   "execution_count": 3,
   "metadata": {},
   "outputs": [],
   "source": [
    "OneDOptAlgo.golden_division = golden_division"
   ]
  },
  {
   "cell_type": "code",
   "execution_count": 4,
   "metadata": {},
   "outputs": [
    {
     "name": "stdout",
     "output_type": "stream",
     "text": [
      "The initiate interval is: \n",
      " [0, 2] \n",
      " and the width of the interval is:\n",
      " [0.780193260011777, 0.7810994677193467]\n"
     ]
    }
   ],
   "source": [
    "# 测试\n",
    "f = lambda x :x**4 - 14*x**3 +60*x**2 - 70*x\n",
    "inter = [0, 2]\n",
    "\n",
    " \n",
    "ODAG = OneDOptAlgo(f)\n",
    "except_interval = ODAG.golden_division(inter)\n",
    "print('The initiate interval is: \\n', inter,\n",
    "      '\\n and the width of the interval is:\\n', except_interval)"
   ]
  },
  {
   "cell_type": "markdown",
   "metadata": {},
   "source": [
    "### 2. 斐波那契数列分割法\n",
    "\n",
    "斐波那契数列分割法也即为将区间按照斐波那契数列前后数值的比值的比例进行压缩, 可以证明在保证压缩区间对称性的前提下, 斐波那契数列分割法是压缩区间比例最大的."
   ]
  },
  {
   "cell_type": "code",
   "execution_count": 5,
   "metadata": {},
   "outputs": [],
   "source": [
    "def fib_division(self, inter, epsilon = 0.05):\n",
    "    # calculate the Fib serial\n",
    "    width = inter[1] - inter[0]\n",
    "    iteration = np.ceil(np.log(width*np.sqrt(5)/self.except_inter)/np.log(1.618)-2)\n",
    "    count = 0\n",
    "    a, b = 1, 2\n",
    "    rho = [a/b]\n",
    "    for i in range(int(iteration)-1):\n",
    "        a, b = b, a+b\n",
    "        rho.append(a/b)\n",
    "    rho = rho[::-1]\n",
    "\n",
    "    while count < iteration:\n",
    "        interval = inter[1] - inter[0]\n",
    "        if count == iteration - 1: \n",
    "            new_inter_0 = inter[0] + (1 - rho[count]-epsilon)*interval\n",
    "            new_inter_1 = inter[0] + rho[count]*interval\n",
    "        else:\n",
    "            new_inter_0 = inter[0] + (1 - rho[count])*interval\n",
    "            new_inter_1 = inter[0] + rho[count]*interval\n",
    "\n",
    "        if self.f(new_inter_0) < self.f(new_inter_1):\n",
    "            inter = [inter[0], new_inter_1]\n",
    "        else:\n",
    "            inter = [new_inter_0, inter[1]]\n",
    "        count += 1\n",
    "    return inter"
   ]
  },
  {
   "cell_type": "code",
   "execution_count": 6,
   "metadata": {},
   "outputs": [],
   "source": [
    "OneDOptAlgo.fib_division = fib_division"
   ]
  },
  {
   "cell_type": "code",
   "execution_count": 7,
   "metadata": {},
   "outputs": [
    {
     "name": "stdout",
     "output_type": "stream",
     "text": [
      "The initiate interval is: \n",
      " [0, 2] \n",
      " and the width of the interval is:\n",
      " [0.780185758513932, 0.7809597523219816]\n"
     ]
    }
   ],
   "source": [
    "# 测试\n",
    "ODAG = OneDOptAlgo(f)\n",
    "except_interval = ODAG.fib_division(inter)\n",
    "print('The initiate interval is: \\n', inter,\n",
    "      '\\n and the width of the interval is:\\n', except_interval)"
   ]
  },
  {
   "cell_type": "markdown",
   "metadata": {},
   "source": [
    "### 3.二分法\n",
    "\n",
    "利用函数及其一阶导数, (实际上我们也可以直接比较区间端点的函数值), 来以压缩区间"
   ]
  },
  {
   "cell_type": "code",
   "execution_count": 8,
   "metadata": {},
   "outputs": [],
   "source": [
    "def bisection(self, inter, diff_f):\n",
    "    \"\"\"\n",
    "    here we use the differentiate of the fucntion f to calculate the argument\n",
    "    of the minimum value of f\n",
    "    \"\"\"\n",
    "    except_inter = self.except_inter\n",
    "    old_width = inter[1] - inter[0]\n",
    "    interation = np.ceil(np.log(old_width/except_inter)/np.log(2))\n",
    "    for ii in range(int(interation)):\n",
    "        mid_inter = (inter[0]+inter[1])/2\n",
    "        if diff_f(mid_inter) > 0:\n",
    "            inter = [inter[0], mid_inter]\n",
    "        else:\n",
    "            inter = [mid_inter, inter[1]]\n",
    "    return inter"
   ]
  },
  {
   "cell_type": "code",
   "execution_count": 9,
   "metadata": {},
   "outputs": [],
   "source": [
    "OneDOptAlgo.bisection = bisection"
   ]
  },
  {
   "cell_type": "code",
   "execution_count": 10,
   "metadata": {},
   "outputs": [
    {
     "name": "stdout",
     "output_type": "stream",
     "text": [
      "The initiate interval is: \n",
      " [0, 2] \n",
      " and the width of the interval is:\n",
      " [0.7802734375, 0.78125]\n"
     ]
    }
   ],
   "source": [
    "# 测试\n",
    "ODAG = OneDOptAlgo(f)\n",
    "except_interval = ODAG.bisection(inter, lambda x:4*x**3 - 14*3*x**2+120*x-70)\n",
    "print('The initiate interval is: \\n', inter,\n",
    "      '\\n and the width of the interval is:\\n', except_interval)"
   ]
  },
  {
   "cell_type": "markdown",
   "metadata": {},
   "source": [
    "### 4. 牛顿法\n",
    "\n",
    "实际上是用求导数等于零的点来计算极小值, 当然需要保证二阶导数大于零."
   ]
  },
  {
   "cell_type": "code",
   "execution_count": 11,
   "metadata": {},
   "outputs": [],
   "source": [
    "def newton_way(self, init_point, diff1_f, diff2_f):\n",
    "    except_inter = self.except_inter\n",
    "    new_point = init_point - diff1_f(init_point)/diff2_f(init_point)\n",
    "    while abs(new_point - init_point) > except_inter:\n",
    "        init_point = new_point\n",
    "        new_point = init_point - diff1_f(init_point)/diff2_f(init_point)\n",
    "    return new_point"
   ]
  },
  {
   "cell_type": "code",
   "execution_count": 12,
   "metadata": {},
   "outputs": [],
   "source": [
    "OneDOptAlgo.newton_way = newton_way"
   ]
  },
  {
   "cell_type": "code",
   "execution_count": 13,
   "metadata": {},
   "outputs": [
    {
     "name": "stdout",
     "output_type": "stream",
     "text": [
      "The initiate point is: \n",
      " 0.5 \n",
      " and the best point is:\n",
      " 0.7390851339208068\n"
     ]
    }
   ],
   "source": [
    "# 测试\n",
    "f = lambda x: x**2/2 - np.sin(x)\n",
    "diff1 = lambda x:x - np.cos(x)\n",
    "diff2 = lambda x:1+np.sin(x)\n",
    "point = OneDOptAlgo(f).newton_way(0.5, diff1, diff2)\n",
    "print('The initiate point is: \\n', 0.5,\n",
    "      '\\n and the best point is:\\n', point)"
   ]
  },
  {
   "cell_type": "markdown",
   "metadata": {},
   "source": [
    "### 5.割线法\n",
    "\n",
    "以割线近似代表切线, 替代牛顿法, 但是需要两个起始点, 但是不需要二阶导数. "
   ]
  },
  {
   "cell_type": "code",
   "execution_count": 14,
   "metadata": {},
   "outputs": [],
   "source": [
    "def secant_way(self, init_point, diff_f):\n",
    "    x0 =  init_point\n",
    "    if diff_f(x0) > 0:\n",
    "        x1 = x0 - 0.1\n",
    "    else:\n",
    "        x1 = x0 + 0.1\n",
    "    x2 = x1 - (x1 - x0)/(diff_f(x1) - diff_f(x0))*diff_f(x1)\n",
    "    while abs(x2 - x1) > self.except_inter:\n",
    "        x0, x1 = x1, x2\n",
    "        x2 = x1 - (x1 - x0)/(diff_f(x1) - diff_f(x0))*diff_f(x1)\n",
    "    return x2"
   ]
  },
  {
   "cell_type": "code",
   "execution_count": 15,
   "metadata": {},
   "outputs": [],
   "source": [
    "OneDOptAlgo.secant_way = secant_way"
   ]
  },
  {
   "cell_type": "code",
   "execution_count": 16,
   "metadata": {},
   "outputs": [
    {
     "name": "stdout",
     "output_type": "stream",
     "text": [
      "The initiate point is: \n",
      " 0.5 \n",
      " and the best point is:\n",
      " 0.7390845583128391\n"
     ]
    }
   ],
   "source": [
    "# 测试\n",
    "point = OneDOptAlgo(f).secant_way(0.5, diff1)\n",
    "print('The initiate point is: \\n', 0.5,\n",
    "      '\\n and the best point is:\\n', point)"
   ]
  },
  {
   "cell_type": "markdown",
   "metadata": {},
   "source": [
    "### comment\n",
    "### 6.逆抛物线插值法 \n",
    "更一般地, 注意到牛顿法是需要一个起始点, 及其一阶二阶导数来实现对函数的进行二阶近似, 割线法是通过两个点及其中一点的一阶导数来实现的二阶近似, 我们也可以通过三个点来插值一条抛物线, 从而实现对原函数的二阶近似. 该方法也被称为逆抛物线插值法. \n",
    "\n",
    "\\begin{equation}\n",
    "\\mathbf{xnew} = \\frac{(x_{1}^{2} - x_{2}^{2})f(x_{3}) + (x_{2}^{2} - x_{3}^{2})f(x_{1}) + (x_{3}^{2} - x_{1}^{2})f(x_{2})}{2f(x_{3})(x_{1}-x_{2}) + 2f(x_{1})(x_{2}-x_{3}) + 2f(x_{2})(x_{3}-x_{1})}\n",
    "\\end{equation}\n",
    "\n",
    "并以此类推, 我们还可以推导出更高阶的公式"
   ]
  },
  {
   "cell_type": "code",
   "execution_count": 17,
   "metadata": {},
   "outputs": [],
   "source": [
    "def reverse_parabola(self, init_point):\n",
    "    f = self.f\n",
    "    x3 = init_point\n",
    "    x1, x2 = init_point + 0.1, init_point - 0.1\n",
    "    err = self.except_inter*2\n",
    "    while err > self.except_inter:\n",
    "        sig12, sig23, sig31 = x1**2 - x2**2, x2**2 - x3**2, x3**2 - x1**2\n",
    "        delt12, delt23, delt31 = x1-x2, x2-x3, x3-x1\n",
    "        xnew = (sig12*f(x3)+sig23*f(x1)+sig31*f(x2))/(2*(delt12*f(x3)+delt23*f(x1)+delt31*f(x2)))\n",
    "        x3, x2,x1 = xnew, x3, x2\n",
    "        err = abs(x3-x2)\n",
    "    return x3"
   ]
  },
  {
   "cell_type": "code",
   "execution_count": 18,
   "metadata": {},
   "outputs": [],
   "source": [
    "OneDOptAlgo.reverse_parabola = reverse_parabola"
   ]
  },
  {
   "cell_type": "code",
   "execution_count": 19,
   "metadata": {},
   "outputs": [
    {
     "name": "stdout",
     "output_type": "stream",
     "text": [
      "The initiate point is: \n",
      " 0.5 \n",
      " and the best point is:\n",
      " 0.7390917542261743\n"
     ]
    }
   ],
   "source": [
    "point = OneDOptAlgo(f).reverse_parabola(0.5)\n",
    "print('The initiate point is: \\n', 0.5,\n",
    "      '\\n and the best point is:\\n', point)"
   ]
  }
 ],
 "metadata": {
  "kernelspec": {
   "display_name": "Python 3",
   "language": "python",
   "name": "python3"
  },
  "language_info": {
   "codemirror_mode": {
    "name": "ipython",
    "version": 3
   },
   "file_extension": ".py",
   "mimetype": "text/x-python",
   "name": "python",
   "nbconvert_exporter": "python",
   "pygments_lexer": "ipython3",
   "version": "3.6.4"
  }
 },
 "nbformat": 4,
 "nbformat_minor": 2
}
