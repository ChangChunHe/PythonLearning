{
 "cells": [
  {
   "cell_type": "markdown",
   "metadata": {},
   "source": [
    "# 数组的常见操作"
   ]
  },
  {
   "cell_type": "code",
   "execution_count": 1,
   "metadata": {
    "collapsed": true
   },
   "outputs": [],
   "source": [
    "import numpy as np\n",
    "a = np.array([[1,2,3,4],[5,6,7,8]])"
   ]
  },
  {
   "cell_type": "markdown",
   "metadata": {},
   "source": [
    "# 求和"
   ]
  },
  {
   "cell_type": "code",
   "execution_count": 2,
   "metadata": {},
   "outputs": [
    {
     "name": "stdout",
     "output_type": "stream",
     "text": [
      "36\n",
      "[ 6  8 10 12]\n",
      "[10 26]\n"
     ]
    }
   ],
   "source": [
    "print(np.sum(a)) #求和\n",
    "print(np.sum(a, axis=0))\n",
    "print(np.sum(a, axis=1))"
   ]
  },
  {
   "cell_type": "markdown",
   "metadata": {},
   "source": [
    "# 求积"
   ]
  },
  {
   "cell_type": "code",
   "execution_count": 3,
   "metadata": {},
   "outputs": [
    {
     "name": "stdout",
     "output_type": "stream",
     "text": [
      "40320\n",
      "[ 5 12 21 32]\n",
      "[  24 1680]\n"
     ]
    }
   ],
   "source": [
    "print(np.prod(a)) #求积\n",
    "print(np.prod(a, axis=0))\n",
    "print(np.prod(a, axis=1))"
   ]
  },
  {
   "cell_type": "markdown",
   "metadata": {},
   "source": [
    "# 求最大最小"
   ]
  },
  {
   "cell_type": "code",
   "execution_count": 4,
   "metadata": {},
   "outputs": [
    {
     "name": "stdout",
     "output_type": "stream",
     "text": [
      "1\n",
      "[1 2 3 4]\n",
      "[1 5]\n"
     ]
    }
   ],
   "source": [
    "print(np.min(a)) # 求最小\n",
    "print(np.min(a, axis=0))\n",
    "print(np.min(a, axis=1))"
   ]
  },
  {
   "cell_type": "code",
   "execution_count": 5,
   "metadata": {},
   "outputs": [
    {
     "name": "stdout",
     "output_type": "stream",
     "text": [
      "8\n",
      "[5 6 7 8]\n",
      "[4 8]\n"
     ]
    }
   ],
   "source": [
    "print(np.max(a)) # 求最大\n",
    "print(np.max(a, axis=0))\n",
    "print(np.max(a, axis=1))"
   ]
  },
  {
   "cell_type": "markdown",
   "metadata": {},
   "source": [
    "# 求最大最小位置"
   ]
  },
  {
   "cell_type": "code",
   "execution_count": 6,
   "metadata": {},
   "outputs": [
    {
     "name": "stdout",
     "output_type": "stream",
     "text": [
      "0\n",
      "7\n"
     ]
    }
   ],
   "source": [
    "print(np.argmin(a))\n",
    "print(np.argmax(a))"
   ]
  },
  {
   "cell_type": "markdown",
   "metadata": {},
   "source": [
    "我们使用一些运算将其变成索引"
   ]
  },
  {
   "cell_type": "code",
   "execution_count": 7,
   "metadata": {},
   "outputs": [
    {
     "data": {
      "text/plain": [
       "(1, 3)"
      ]
     },
     "execution_count": 7,
     "metadata": {},
     "output_type": "execute_result"
    }
   ],
   "source": [
    "pos = np.argmax(a)\n",
    "_,col = np.shape(a)\n",
    "posx,posy = pos//col, pos%col\n",
    "(posx, posy)#最大值的位置"
   ]
  },
  {
   "cell_type": "markdown",
   "metadata": {},
   "source": [
    "# 求平均值"
   ]
  },
  {
   "cell_type": "code",
   "execution_count": 8,
   "metadata": {},
   "outputs": [
    {
     "data": {
      "text/plain": [
       "4.5"
      ]
     },
     "execution_count": 8,
     "metadata": {},
     "output_type": "execute_result"
    }
   ],
   "source": [
    "np.mean(a)"
   ]
  },
  {
   "cell_type": "markdown",
   "metadata": {},
   "source": [
    "average函数, 还支持加权平均数"
   ]
  },
  {
   "cell_type": "code",
   "execution_count": 9,
   "metadata": {},
   "outputs": [
    {
     "data": {
      "text/plain": [
       "array([ 3.66666667,  4.66666667,  5.66666667,  6.66666667])"
      ]
     },
     "execution_count": 9,
     "metadata": {},
     "output_type": "execute_result"
    }
   ],
   "source": [
    "np.average(a, axis=0, weights=[1,2])"
   ]
  },
  {
   "cell_type": "markdown",
   "metadata": {},
   "source": [
    "# 求方差, 标准差"
   ]
  },
  {
   "cell_type": "code",
   "execution_count": 10,
   "metadata": {},
   "outputs": [
    {
     "name": "stdout",
     "output_type": "stream",
     "text": [
      "var 5.25\n",
      "std 2.29128784748\n"
     ]
    }
   ],
   "source": [
    "print('var', np.var(a))\n",
    "print('std', np.std(a))"
   ]
  },
  {
   "cell_type": "code",
   "execution_count": 11,
   "metadata": {},
   "outputs": [
    {
     "name": "stdout",
     "output_type": "stream",
     "text": [
      "var [ 4.  4.  4.  4.]\n",
      "std [ 1.11803399  1.11803399]\n"
     ]
    }
   ],
   "source": [
    "print('var', np.var(a, axis=0))\n",
    "print('std', np.std(a, axis=1))"
   ]
  },
  {
   "cell_type": "markdown",
   "metadata": {},
   "source": [
    "clip方法, 将数据限制在某个范围内"
   ]
  },
  {
   "cell_type": "code",
   "execution_count": 12,
   "metadata": {},
   "outputs": [
    {
     "data": {
      "text/plain": [
       "array([[0, 1],\n",
       "       [2, 3],\n",
       "       [4, 5],\n",
       "       [6, 7],\n",
       "       [8, 9]])"
      ]
     },
     "execution_count": 12,
     "metadata": {},
     "output_type": "execute_result"
    }
   ],
   "source": [
    "a = np.arange(10).reshape((5,2))\n",
    "a"
   ]
  },
  {
   "cell_type": "code",
   "execution_count": 13,
   "metadata": {},
   "outputs": [
    {
     "data": {
      "text/plain": [
       "array([[3, 3],\n",
       "       [3, 3],\n",
       "       [4, 5],\n",
       "       [5, 5],\n",
       "       [5, 5]])"
      ]
     },
     "execution_count": 13,
     "metadata": {},
     "output_type": "execute_result"
    }
   ],
   "source": [
    "a.clip(3,5)"
   ]
  },
  {
   "cell_type": "markdown",
   "metadata": {},
   "source": [
    "# ptp方法, 计算最大最小值的差值"
   ]
  },
  {
   "cell_type": "code",
   "execution_count": 14,
   "metadata": {},
   "outputs": [
    {
     "name": "stdout",
     "output_type": "stream",
     "text": [
      "9\n",
      "[8 8]\n"
     ]
    }
   ],
   "source": [
    "print(a.ptp())\n",
    "print(a.ptp(axis=0))"
   ]
  },
  {
   "cell_type": "markdown",
   "metadata": {},
   "source": [
    "# round 方法"
   ]
  },
  {
   "cell_type": "code",
   "execution_count": 15,
   "metadata": {},
   "outputs": [
    {
     "name": "stdout",
     "output_type": "stream",
     "text": [
      "[ 1.  2.  3.  2.  1.]\n",
      "float64\n"
     ]
    }
   ],
   "source": [
    "a = np.array([1,2.4,3.43536465,2.235,1.3467])\n",
    "b = np.round(a)\n",
    "print(b)#默认到整数, 实际上的浮点数\n",
    "print(b.dtype)"
   ]
  },
  {
   "cell_type": "code",
   "execution_count": 16,
   "metadata": {},
   "outputs": [
    {
     "name": "stdout",
     "output_type": "stream",
     "text": [
      "[ 1.    2.4   3.44  2.24  1.35]\n",
      "float64\n"
     ]
    }
   ],
   "source": [
    "b = np.round(a,decimals=2)\n",
    "print(b)#默认到整数, 实际上的浮点数\n",
    "print(b.dtype)"
   ]
  },
  {
   "cell_type": "markdown",
   "metadata": {},
   "source": [
    "# 排序"
   ]
  },
  {
   "cell_type": "code",
   "execution_count": 17,
   "metadata": {},
   "outputs": [
    {
     "name": "stdout",
     "output_type": "stream",
     "text": [
      "[ 1  2  3  4  5  6  9 10 11 12 13]\n",
      "[ 1  4  2  5  6  3  9 10 13 12 11]\n"
     ]
    }
   ],
   "source": [
    "a = np.array([1,4,2,5,6,3,9,10,13,12,11])\n",
    "print(np.sort(a))#输出排序后的结果\n",
    "print(a)"
   ]
  },
  {
   "cell_type": "code",
   "execution_count": 18,
   "metadata": {},
   "outputs": [
    {
     "data": {
      "text/plain": [
       "array([ 1,  2,  3,  4,  5,  6,  9, 10, 11, 12, 13])"
      ]
     },
     "execution_count": 18,
     "metadata": {},
     "output_type": "execute_result"
    }
   ],
   "source": [
    "index = np.argsort(a)\n",
    "a[index]\n",
    "#np.sort(a) == a[np.argsort(a)]"
   ]
  },
  {
   "cell_type": "code",
   "execution_count": 19,
   "metadata": {
    "collapsed": true
   },
   "outputs": [],
   "source": [
    "a = np.array([[3,1],[2,8]])"
   ]
  },
  {
   "cell_type": "code",
   "execution_count": 20,
   "metadata": {},
   "outputs": [
    {
     "data": {
      "text/plain": [
       "array([1, 2, 3, 8])"
      ]
     },
     "execution_count": 20,
     "metadata": {},
     "output_type": "execute_result"
    }
   ],
   "source": [
    "np.sort(a, axis=None)"
   ]
  },
  {
   "cell_type": "code",
   "execution_count": 21,
   "metadata": {},
   "outputs": [
    {
     "data": {
      "text/plain": [
       "array([[2, 1],\n",
       "       [3, 8]])"
      ]
     },
     "execution_count": 21,
     "metadata": {},
     "output_type": "execute_result"
    }
   ],
   "source": [
    "np.sort(a, axis=0)"
   ]
  },
  {
   "cell_type": "code",
   "execution_count": 22,
   "metadata": {},
   "outputs": [
    {
     "data": {
      "text/plain": [
       "array([[1, 3],\n",
       "       [2, 8]])"
      ]
     },
     "execution_count": 22,
     "metadata": {},
     "output_type": "execute_result"
    }
   ],
   "source": [
    "np.sort(a, axis=1)"
   ]
  },
  {
   "cell_type": "markdown",
   "metadata": {},
   "source": [
    "sort函数还可以实现关键字排序"
   ]
  },
  {
   "cell_type": "code",
   "execution_count": 23,
   "metadata": {
    "collapsed": true
   },
   "outputs": [],
   "source": [
    "key=[('name', 'S10'),('height','float'),('age', 'int')]\n",
    "person = np.array([('A',175.2, 20), ('B', 165.2, 25), ('C', 183, 26)],dtype=key)"
   ]
  },
  {
   "cell_type": "code",
   "execution_count": 24,
   "metadata": {},
   "outputs": [
    {
     "data": {
      "text/plain": [
       "array([(b'B',  165.2, 25), (b'A',  175.2, 20), (b'C',  183. , 26)],\n",
       "      dtype=[('name', 'S10'), ('height', '<f8'), ('age', '<i8')])"
      ]
     },
     "execution_count": 24,
     "metadata": {},
     "output_type": "execute_result"
    }
   ],
   "source": [
    "np.sort(person, order='height')"
   ]
  },
  {
   "cell_type": "markdown",
   "metadata": {},
   "source": [
    "实现类似matlab中sortrows的功能\n",
    "\n",
    "sortrows的功能在于可以实现有限排序, 例如对于一个二维数组, 我们可以优先第一列排序, 其次是第二列, 第三列, 知道最后一列"
   ]
  },
  {
   "cell_type": "code",
   "execution_count": 25,
   "metadata": {
    "collapsed": true
   },
   "outputs": [],
   "source": [
    "a = [(1,2,4,5,7),(1,3,4,6,9),(1,2,3,4,5),(1,3,5,6,8)]"
   ]
  },
  {
   "cell_type": "code",
   "execution_count": 26,
   "metadata": {},
   "outputs": [
    {
     "name": "stdout",
     "output_type": "stream",
     "text": [
      "[(1, 2, 3, 4, 5) (1, 2, 4, 5, 7) (1, 3, 4, 6, 9) (1, 3, 5, 6, 8)]\n"
     ]
    }
   ],
   "source": [
    "key = [(str(i), int) for i in range(5)]\n",
    "a = np.array(a, dtype=key)\n",
    "b = np.sort(a, order=[str(i) for i in range(5)])# 这个是实现从一列最高优先, 其次是第二列， 第三列，直到最后一列\n",
    "print(b)"
   ]
  },
  {
   "cell_type": "code",
   "execution_count": 27,
   "metadata": {},
   "outputs": [
    {
     "name": "stdout",
     "output_type": "stream",
     "text": [
      "[(1, 2, 3, 4, 5) (1, 2, 4, 5, 7) (1, 3, 5, 6, 8) (1, 3, 4, 6, 9)]\n"
     ]
    }
   ],
   "source": [
    "key = [(str(i), int) for i in range(5)]\n",
    "a = np.array(a, dtype=key)\n",
    "b = np.sort(a, order=[str(i) for i in [3, 4]])# 这个是实现优先第四列, 其次是第五列\n",
    "print(b)"
   ]
  },
  {
   "cell_type": "markdown",
   "metadata": {},
   "source": [
    "# searchsorted 函数"
   ]
  },
  {
   "cell_type": "markdown",
   "metadata": {},
   "source": [
    "    searchsorted(sorted_array, values)\n",
    "\n",
    "`searchsorted` 接受两个参数，其中，第一个必需是已排序的数组。"
   ]
  },
  {
   "cell_type": "code",
   "execution_count": 28,
   "metadata": {},
   "outputs": [
    {
     "data": {
      "text/plain": [
       "array([1, 4, 2, 1, 2, 1])"
      ]
     },
     "execution_count": 28,
     "metadata": {},
     "output_type": "execute_result"
    }
   ],
   "source": [
    "sorted_array = np.linspace(0,1,5)\n",
    "values = np.array([.1,.8,.3,.12,.5,.25])\n",
    "np.searchsorted(sorted_array, values)"
   ]
  },
  {
   "cell_type": "markdown",
   "metadata": {},
   "source": [
    "排序数组：\n",
    "\n",
    "|0|1|2|3|4|\n",
    "|-|-|-|-|-|\n",
    "|0.0|0.25|0.5|0.75|1.0\n",
    "\n",
    "数值：\n",
    "\n",
    "|值|0.1|0.8|0.3|0.12|0.5|0.25|\n",
    "|-|-|-|-|-|-|-|\n",
    "|插入位置|1|4|2|1|2|1|\n",
    "\n",
    "`searchsorted` 返回的值相当于保持第一个数组的排序性质不变，将第二个数组中的值插入第一个数组中的位置：\n",
    "\n",
    "例如 `0.1` 在 [0.0, 0.25) 之间，所以插入时应当放在第一个数组的索引 `1` 处，故第一个返回值为 `1`。"
   ]
  },
  {
   "cell_type": "code",
   "execution_count": 29,
   "metadata": {},
   "outputs": [
    {
     "data": {
      "text/plain": [
       "array([ 0.4,  0.5])"
      ]
     },
     "execution_count": 29,
     "metadata": {},
     "output_type": "execute_result"
    }
   ],
   "source": [
    "data = np.array([0.1,0.2,0.3,0.4,0.5,0.6,0.7,0.8,0.9,1.0])\n",
    "data.sort()\n",
    "bounds = .4, .6\n",
    "low_idx, high_idx = np.searchsorted(data, bounds)\n",
    "data[low_idx:high_idx]#输出在0.4到0.6之间的数据，左开右闭"
   ]
  }
 ],
 "metadata": {
  "kernelspec": {
   "display_name": "Python 3",
   "language": "python",
   "name": "python3"
  },
  "language_info": {
   "codemirror_mode": {
    "name": "ipython",
    "version": 3
   },
   "file_extension": ".py",
   "mimetype": "text/x-python",
   "name": "python",
   "nbconvert_exporter": "python",
   "pygments_lexer": "ipython3",
   "version": "3.6.3"
  }
 },
 "nbformat": 4,
 "nbformat_minor": 2
}
