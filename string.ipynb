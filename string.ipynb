{
 "cells": [
  {
   "cell_type": "markdown",
   "metadata": {},
   "source": [
    "# 字符串"
   ]
  },
  {
   "cell_type": "markdown",
   "metadata": {},
   "source": [
    "python转移字符, 例如\\t是制表符, 下面是一些常用的转义字符\n",
    "\n",
    "\\\\    反斜杠\n",
    "\n",
    "\\'    单引号\n",
    "\n",
    "\\\"    双引号\n",
    "\n",
    "\\a    响铃\n",
    "\n",
    "\\b    退格, (也就是删去最后一个字符)\n",
    "\n",
    "\\n    换行\n",
    "\n",
    "\\v    纵向制表符\n",
    "\n",
    "\\t    横向制表符\n",
    "\n",
    "\\r    回车\n",
    "\n",
    "\\f    换页"
   ]
  },
  {
   "cell_type": "code",
   "execution_count": 1,
   "metadata": {},
   "outputs": [
    {
     "name": "stdout",
     "output_type": "stream",
     "text": [
      "Hello world'\n"
     ]
    }
   ],
   "source": [
    "print('Hello world\\'')"
   ]
  },
  {
   "cell_type": "code",
   "execution_count": 2,
   "metadata": {},
   "outputs": [
    {
     "name": "stdout",
     "output_type": "stream",
     "text": [
      "Hello world\u0007\n"
     ]
    }
   ],
   "source": [
    "print('Hello world\\a')"
   ]
  },
  {
   "cell_type": "code",
   "execution_count": 3,
   "metadata": {},
   "outputs": [
    {
     "name": "stdout",
     "output_type": "stream",
     "text": [
      "Hellow world\b\n"
     ]
    }
   ],
   "source": [
    "print('Hellow world\\b')"
   ]
  },
  {
   "cell_type": "code",
   "execution_count": 4,
   "metadata": {},
   "outputs": [
    {
     "name": "stdout",
     "output_type": "stream",
     "text": [
      "Hello world\n",
      "abc\n"
     ]
    }
   ],
   "source": [
    "print('Hello world\\nabc')"
   ]
  },
  {
   "cell_type": "code",
   "execution_count": 5,
   "metadata": {},
   "outputs": [
    {
     "name": "stdout",
     "output_type": "stream",
     "text": [
      "Hello world\tabc\n"
     ]
    }
   ],
   "source": [
    "print('Hello world\\tabc')"
   ]
  },
  {
   "cell_type": "code",
   "execution_count": 6,
   "metadata": {},
   "outputs": [
    {
     "name": "stdout",
     "output_type": "stream",
     "text": [
      "Hello world\r",
      "abc\n"
     ]
    }
   ],
   "source": [
    "print('Hello world\\rabc')"
   ]
  },
  {
   "cell_type": "code",
   "execution_count": 7,
   "metadata": {},
   "outputs": [
    {
     "name": "stdout",
     "output_type": "stream",
     "text": [
      "Hello world\f",
      " abc\n"
     ]
    }
   ],
   "source": [
    "print('Hello world\\f abc')"
   ]
  },
  {
   "cell_type": "markdown",
   "metadata": {},
   "source": [
    "有时候我们并不希望输出转义的字符串, 那么就需要使用r来原始化字符串"
   ]
  },
  {
   "cell_type": "code",
   "execution_count": 8,
   "metadata": {},
   "outputs": [
    {
     "name": "stdout",
     "output_type": "stream",
     "text": [
      "\\n\\t\\r\\b\\a\n"
     ]
    }
   ],
   "source": [
    "print(r'\\n\\t\\r\\b\\a')"
   ]
  },
  {
   "cell_type": "markdown",
   "metadata": {},
   "source": [
    "python 字符串格式化"
   ]
  },
  {
   "cell_type": "code",
   "execution_count": 9,
   "metadata": {},
   "outputs": [
    {
     "name": "stdout",
     "output_type": "stream",
     "text": [
      "My name is zara and weight is 56 kg\n"
     ]
    }
   ],
   "source": [
    "print('My name is %s and weight is %d kg'%('zara', 56))"
   ]
  },
  {
   "cell_type": "markdown",
   "metadata": {},
   "source": [
    "%c\t 格式化字符及其ASCII码\n",
    "\n",
    "%s\t 格式化字符串\n",
    "\n",
    "%d\t 格式化整数\n",
    "\n",
    "%u\t 格式化无符号整型\n",
    "\n",
    "%o\t 格式化无符号八进制数\n",
    "\n",
    "%x\t 格式化无符号十六进制数\n",
    "\n",
    "%X\t 格式化无符号十六进制数（大写）\n",
    "\n",
    "%f\t 格式化浮点数字，可指定小数点后的精度\n",
    "\n",
    "%e\t 用科学计数法格式化浮点数\n",
    "\n",
    "%E\t 作用同%e，用科学计数法格式化浮点数\n",
    "\n",
    "%g\t %f和%e的简写\n",
    "\n",
    "%G\t %f 和 %E 的简写\n",
    "\n",
    "%p\t 用十六进制数格式化变量的地址"
   ]
  },
  {
   "cell_type": "markdown",
   "metadata": {},
   "source": [
    "# Python format 格式化函数"
   ]
  },
  {
   "cell_type": "code",
   "execution_count": 10,
   "metadata": {},
   "outputs": [
    {
     "name": "stdout",
     "output_type": "stream",
     "text": [
      "Hellow world\n"
     ]
    }
   ],
   "source": [
    "print('{} {}'.format('Hellow', 'world'))"
   ]
  },
  {
   "cell_type": "code",
   "execution_count": 11,
   "metadata": {},
   "outputs": [
    {
     "name": "stdout",
     "output_type": "stream",
     "text": [
      "Hello world\n"
     ]
    }
   ],
   "source": [
    "print('{0} {1}'.format('Hello', 'world'))"
   ]
  },
  {
   "cell_type": "code",
   "execution_count": 12,
   "metadata": {},
   "outputs": [
    {
     "name": "stdout",
     "output_type": "stream",
     "text": [
      "Hello world Hello ocean\n"
     ]
    }
   ],
   "source": [
    "print('{0} {1} {0} {2}'.format('Hello', 'world', 'ocean'))"
   ]
  },
  {
   "cell_type": "markdown",
   "metadata": {},
   "source": [
    "format函数也可以设置参数"
   ]
  },
  {
   "cell_type": "code",
   "execution_count": 13,
   "metadata": {},
   "outputs": [
    {
     "name": "stdout",
     "output_type": "stream",
     "text": [
      "web site :bird, address www.runoob.com\n"
     ]
    }
   ],
   "source": [
    "print('web site :{name}, address {url}'.format(name='bird', url='www.runoob.com'))"
   ]
  },
  {
   "cell_type": "markdown",
   "metadata": {},
   "source": [
    "通过字典设置参数"
   ]
  },
  {
   "cell_type": "code",
   "execution_count": 14,
   "metadata": {
    "scrolled": true
   },
   "outputs": [
    {
     "name": "stdout",
     "output_type": "stream",
     "text": [
      "web site:bird, address:www.runoob.com\n"
     ]
    }
   ],
   "source": [
    "site = {'name':'bird', 'url':'www.runoob.com'}\n",
    "print('web site:{name}, address:{url}'.format(**site))"
   ]
  },
  {
   "cell_type": "markdown",
   "metadata": {
    "collapsed": true
   },
   "source": [
    "# 数字格式化"
   ]
  },
  {
   "cell_type": "code",
   "execution_count": 16,
   "metadata": {},
   "outputs": [
    {
     "name": "stdout",
     "output_type": "stream",
     "text": [
      "3.14\n"
     ]
    }
   ],
   "source": [
    "print('{:.2f}'.format(3.141592653))"
   ]
  },
  {
   "cell_type": "markdown",
   "metadata": {},
   "source": [
    "数字        格式       输出            描述\n",
    "\n",
    "3.1415926  {:.2f}    3.14        保留小数点后两位\n",
    "\n",
    "3.1415926  {:+.2f}  +3.14        带符号保留小数点后两位\n",
    "\n",
    "-1         {:+.2f}  -1.00        带符号保留小数点后两位\n",
    "\n",
    "2.71828    {:.0f}    3           不带小数\n",
    "\n",
    "5          {:0>2d}   05          数字补零 (填充左边, 宽度为2)\n",
    "\n",
    "5          {:x<4d}   5xxx        数字补x (填充右边, 宽度为4)\n",
    "\n",
    "10         {:x<4d}   10xx        数字补x (填充右边, 宽度为4)\n",
    "\n",
    "1000000    {:,}      1,000,000   以逗号分隔的数字格式\n",
    "\n",
    "0.25       {:.2%}    25.00%      百分比格式\n",
    "\n",
    "1000000000 {:.2e}    1.00e+09    指数记法\n",
    "\n",
    "13         {:10d}         13     右对齐 (默认, 宽度为10)\n",
    "\n",
    "13         {:<10d}    13         左对齐 (宽度为10)\n",
    "\n",
    "13         {:^10d}      13       中间对齐 (宽度为10)"
   ]
  },
  {
   "cell_type": "code",
   "execution_count": 17,
   "metadata": {},
   "outputs": [
    {
     "name": "stdout",
     "output_type": "stream",
     "text": [
      "1003.14\n"
     ]
    }
   ],
   "source": [
    "print('{:3.2f}'.format(1003.141592653))"
   ]
  },
  {
   "cell_type": "code",
   "execution_count": 19,
   "metadata": {},
   "outputs": [
    {
     "name": "stdout",
     "output_type": "stream",
     "text": [
      "3.1416\n"
     ]
    }
   ],
   "source": [
    "print('{:2.4f}'.format(3.14159265354))"
   ]
  },
  {
   "cell_type": "code",
   "execution_count": 20,
   "metadata": {},
   "outputs": [
    {
     "name": "stdout",
     "output_type": "stream",
     "text": [
      "+3.142\n"
     ]
    }
   ],
   "source": [
    "print('{:+2.3f}'.format(3.1415926))"
   ]
  },
  {
   "cell_type": "code",
   "execution_count": 21,
   "metadata": {},
   "outputs": [
    {
     "name": "stdout",
     "output_type": "stream",
     "text": [
      "3\n"
     ]
    }
   ],
   "source": [
    "print('{:.0f}'.format(3.1415926))"
   ]
  },
  {
   "cell_type": "code",
   "execution_count": 24,
   "metadata": {},
   "outputs": [
    {
     "name": "stdout",
     "output_type": "stream",
     "text": [
      "05\n"
     ]
    }
   ],
   "source": [
    "print('{:0>2d}'.format(5)) # 少于两个宽度在左边补齐， 否则就原版输出"
   ]
  },
  {
   "cell_type": "code",
   "execution_count": 25,
   "metadata": {},
   "outputs": [
    {
     "name": "stdout",
     "output_type": "stream",
     "text": [
      "3200\n"
     ]
    }
   ],
   "source": [
    "print('{:0<4d}'.format(32))# 少于两个宽度在右边补齐， 否则就原版输出"
   ]
  },
  {
   "cell_type": "code",
   "execution_count": 26,
   "metadata": {},
   "outputs": [
    {
     "name": "stdout",
     "output_type": "stream",
     "text": [
      "100,000,000\n"
     ]
    }
   ],
   "source": [
    "print('{:,}'.format(100000000))"
   ]
  },
  {
   "cell_type": "code",
   "execution_count": 27,
   "metadata": {},
   "outputs": [
    {
     "name": "stdout",
     "output_type": "stream",
     "text": [
      "124.56%\n"
     ]
    }
   ],
   "source": [
    "print('{:.2%}'.format(1.2456)) # 保留小数点后两位的百分制记法"
   ]
  },
  {
   "cell_type": "code",
   "execution_count": 28,
   "metadata": {},
   "outputs": [
    {
     "name": "stdout",
     "output_type": "stream",
     "text": [
      "2.45e+14\n"
     ]
    }
   ],
   "source": [
    "print('{:.2e}'.format(245243934693406)) # 保留小数点后两位的科学计数法记法"
   ]
  },
  {
   "cell_type": "code",
   "execution_count": 29,
   "metadata": {},
   "outputs": [
    {
     "name": "stdout",
     "output_type": "stream",
     "text": [
      "        13\n"
     ]
    }
   ],
   "source": [
    "print('{:10d}'.format(13)) # 右对齐， 默认宽度为10"
   ]
  },
  {
   "cell_type": "code",
   "execution_count": 30,
   "metadata": {},
   "outputs": [
    {
     "name": "stdout",
     "output_type": "stream",
     "text": [
      "13        \n"
     ]
    }
   ],
   "source": [
    "print('{:<10d}'.format(13)) # 左对齐, 默认10个宽度"
   ]
  },
  {
   "cell_type": "code",
   "execution_count": 32,
   "metadata": {},
   "outputs": [
    {
     "name": "stdout",
     "output_type": "stream",
     "text": [
      "    13    \n"
     ]
    }
   ],
   "source": [
    "print('{:^10d}'.format(13)) # 中间对齐, 默认10个宽度"
   ]
  },
  {
   "cell_type": "code",
   "execution_count": 33,
   "metadata": {},
   "outputs": [
    {
     "name": "stdout",
     "output_type": "stream",
     "text": [
      "runoob 对应的位置是 {0}\n"
     ]
    }
   ],
   "source": [
    "print(\"{} 对应的位置是 {{0}}\".format(\"runoob\")) # 我我们可以使用大括号来作为转义字符"
   ]
  },
  {
   "cell_type": "markdown",
   "metadata": {},
   "source": [
    "Python的字符串的内建函数"
   ]
  },
  {
   "cell_type": "code",
   "execution_count": 34,
   "metadata": {
    "collapsed": true
   },
   "outputs": [],
   "source": [
    "a = 'helloworld'"
   ]
  },
  {
   "cell_type": "code",
   "execution_count": 35,
   "metadata": {
    "collapsed": true
   },
   "outputs": [],
   "source": [
    "a1 = a.capitalize()# 将第一个字符大写\n",
    "a2 = a.center(20,'*')"
   ]
  },
  {
   "cell_type": "code",
   "execution_count": 36,
   "metadata": {},
   "outputs": [
    {
     "name": "stdout",
     "output_type": "stream",
     "text": [
      "a1: Helloworld a2: *****helloworld*****\n"
     ]
    }
   ],
   "source": [
    "print('a1:', a1, 'a2:', a2)"
   ]
  },
  {
   "cell_type": "code",
   "execution_count": 38,
   "metadata": {},
   "outputs": [
    {
     "name": "stdout",
     "output_type": "stream",
     "text": [
      "2\n"
     ]
    }
   ],
   "source": [
    "a3 = a.count('o',0,len(a)) # 统计字符串中的字母出现的次数\n",
    "print(a3)"
   ]
  },
  {
   "cell_type": "code",
   "execution_count": 39,
   "metadata": {},
   "outputs": [
    {
     "name": "stdout",
     "output_type": "stream",
     "text": [
      "helloworld\n",
      "b'helloworld'\n",
      "helloworld\n"
     ]
    }
   ],
   "source": [
    "print(a)\n",
    "b = a.encode('ascii') # 用ascii编码\n",
    "print(b)\n",
    "c = b.decode('ascii')# 解码\n",
    "print(c)"
   ]
  },
  {
   "cell_type": "code",
   "execution_count": 40,
   "metadata": {},
   "outputs": [
    {
     "data": {
      "text/plain": [
       "True"
      ]
     },
     "execution_count": 40,
     "metadata": {},
     "output_type": "execute_result"
    }
   ],
   "source": [
    "a.endswith('d',0,len(a)) # 检测是否以某个字符结尾"
   ]
  },
  {
   "cell_type": "code",
   "execution_count": 41,
   "metadata": {},
   "outputs": [
    {
     "data": {
      "text/plain": [
       "'afdsa   asfdvdfb'"
      ]
     },
     "execution_count": 41,
     "metadata": {},
     "output_type": "execute_result"
    }
   ],
   "source": [
    "#把字符串 string 中的 tab 符号转为空格，tab 符号默认的空格数是 8\n",
    "'afdsa\\tasfdvdfb'.expandtabs()"
   ]
  },
  {
   "cell_type": "code",
   "execution_count": 42,
   "metadata": {},
   "outputs": [
    {
     "data": {
      "text/plain": [
       "4"
      ]
     },
     "execution_count": 42,
     "metadata": {},
     "output_type": "execute_result"
    }
   ],
   "source": [
    "#检测 str 是否包含在 string 中，如果 beg 和 end 指定范围，则检查是否包含在指定范围内，\n",
    "#如果是返回开始的索引值，否则返回-1\n",
    "a.find('o',0,len(a)) # 只返回第一个的索引"
   ]
  },
  {
   "cell_type": "code",
   "execution_count": 43,
   "metadata": {},
   "outputs": [
    {
     "data": {
      "text/plain": [
       "0"
      ]
     },
     "execution_count": 43,
     "metadata": {},
     "output_type": "execute_result"
    }
   ],
   "source": [
    "a.index('h') # 如果不存在会报错"
   ]
  },
  {
   "cell_type": "code",
   "execution_count": 44,
   "metadata": {},
   "outputs": [
    {
     "data": {
      "text/plain": [
       "True"
      ]
     },
     "execution_count": 44,
     "metadata": {},
     "output_type": "execute_result"
    }
   ],
   "source": [
    "#如果 string 至少有一个字符并且所有字符都是字母或数字则返\n",
    "#回 True,否则返回 False\n",
    "a.isalpha()"
   ]
  },
  {
   "cell_type": "code",
   "execution_count": 45,
   "metadata": {},
   "outputs": [
    {
     "data": {
      "text/plain": [
       "False"
      ]
     },
     "execution_count": 45,
     "metadata": {},
     "output_type": "execute_result"
    }
   ],
   "source": [
    "a.isdigit()#只包含数字"
   ]
  },
  {
   "cell_type": "code",
   "execution_count": 46,
   "metadata": {},
   "outputs": [
    {
     "data": {
      "text/plain": [
       "False"
      ]
     },
     "execution_count": 46,
     "metadata": {},
     "output_type": "execute_result"
    }
   ],
   "source": [
    "a.isdecimal() # 只包含十进制数"
   ]
  },
  {
   "cell_type": "code",
   "execution_count": 47,
   "metadata": {},
   "outputs": [
    {
     "data": {
      "text/plain": [
       "True"
      ]
     },
     "execution_count": 47,
     "metadata": {},
     "output_type": "execute_result"
    }
   ],
   "source": [
    "a.islower() # 存在区分大小写的字符，而且所有的这些都是小写才返回true\n",
    "#类似的有isupper, istitle"
   ]
  },
  {
   "cell_type": "code",
   "execution_count": 48,
   "metadata": {},
   "outputs": [
    {
     "data": {
      "text/plain": [
       "False"
      ]
     },
     "execution_count": 48,
     "metadata": {},
     "output_type": "execute_result"
    }
   ],
   "source": [
    "a.isnumeric()# 只包含数字字符"
   ]
  },
  {
   "cell_type": "markdown",
   "metadata": {},
   "source": [
    "在此特别说明isdigit, isnumeric, isdecimal三种方法的差别"
   ]
  },
  {
   "cell_type": "code",
   "execution_count": 50,
   "metadata": {},
   "outputs": [
    {
     "name": "stdout",
     "output_type": "stream",
     "text": [
      "True\n",
      "True\n",
      "True\n"
     ]
    }
   ],
   "source": [
    "s1 = '１1'# 这里两个1分别是Unicode编码和全角的, 都可以判断为true\n",
    "print(s1.isdigit())\n",
    "print(s1.isnumeric())\n",
    "print(s1.isdecimal())"
   ]
  },
  {
   "cell_type": "code",
   "execution_count": 51,
   "metadata": {},
   "outputs": [
    {
     "name": "stdout",
     "output_type": "stream",
     "text": [
      "True\n"
     ]
    },
    {
     "ename": "AttributeError",
     "evalue": "'bytes' object has no attribute 'isnumeric'",
     "output_type": "error",
     "traceback": [
      "\u001b[0;31m---------------------------------------------------------------------------\u001b[0m",
      "\u001b[0;31mAttributeError\u001b[0m                            Traceback (most recent call last)",
      "\u001b[0;32m<ipython-input-51-e6116cc1c12f>\u001b[0m in \u001b[0;36m<module>\u001b[0;34m()\u001b[0m\n\u001b[1;32m      1\u001b[0m \u001b[0ms2\u001b[0m \u001b[0;34m=\u001b[0m \u001b[0;34mb'1'\u001b[0m\u001b[0;34m\u001b[0m\u001b[0m\n\u001b[1;32m      2\u001b[0m \u001b[0mprint\u001b[0m\u001b[0;34m(\u001b[0m\u001b[0ms2\u001b[0m\u001b[0;34m.\u001b[0m\u001b[0misdigit\u001b[0m\u001b[0;34m(\u001b[0m\u001b[0;34m)\u001b[0m\u001b[0;34m)\u001b[0m\u001b[0;34m\u001b[0m\u001b[0m\n\u001b[0;32m----> 3\u001b[0;31m \u001b[0mprint\u001b[0m\u001b[0;34m(\u001b[0m\u001b[0ms2\u001b[0m\u001b[0;34m.\u001b[0m\u001b[0misnumeric\u001b[0m\u001b[0;34m(\u001b[0m\u001b[0;34m)\u001b[0m\u001b[0;34m)\u001b[0m\u001b[0;34m\u001b[0m\u001b[0m\n\u001b[0m\u001b[1;32m      4\u001b[0m \u001b[0mprint\u001b[0m\u001b[0;34m(\u001b[0m\u001b[0ms2\u001b[0m\u001b[0;34m.\u001b[0m\u001b[0misdecimal\u001b[0m\u001b[0;34m(\u001b[0m\u001b[0;34m)\u001b[0m\u001b[0;34m)\u001b[0m\u001b[0;34m\u001b[0m\u001b[0m\n",
      "\u001b[0;31mAttributeError\u001b[0m: 'bytes' object has no attribute 'isnumeric'"
     ]
    }
   ],
   "source": [
    "s2 = b'1'\n",
    "print(s2.isdigit()) \n",
    "# true\n",
    "print(s2.isnumeric())\n",
    "#AttributeError: 'bytes' object has no attribute 'isnumeric'\n",
    "print(s2.isdecimal())\n",
    "#AttributeError: 'bytes' object has no attribute 'isnumeric'"
   ]
  },
  {
   "cell_type": "code",
   "execution_count": 53,
   "metadata": {},
   "outputs": [
    {
     "name": "stdout",
     "output_type": "stream",
     "text": [
      "False\n",
      "False\n",
      "False\n"
     ]
    }
   ],
   "source": [
    "num = \"IV\" # 罗马数字\n",
    "print(num.isdigit())   # True\n",
    "print(num.isdecimal()) # False\n",
    "print(num.isnumeric()) # True\n",
    "# 本机没有罗马数字输入，很尴尬"
   ]
  },
  {
   "cell_type": "code",
   "execution_count": 54,
   "metadata": {},
   "outputs": [
    {
     "name": "stdout",
     "output_type": "stream",
     "text": [
      "False\n",
      "False\n",
      "True\n"
     ]
    }
   ],
   "source": [
    "num = \"四\" # 汉字\n",
    "print(num.isdigit())   # False\n",
    "print(num.isdecimal()) # False\n",
    "print(num.isnumeric()) # True"
   ]
  },
  {
   "cell_type": "markdown",
   "metadata": {},
   "source": [
    "isdigit()\n",
    "\n",
    "True: Unicode数字，byte数字（单字节），全角数字（双字节），罗马数字\n",
    "\n",
    "False: 汉字数字\n",
    "\n",
    "Error: 无\n",
    "\n",
    "\n",
    "isdecimal()\n",
    "\n",
    "True: Unicode数字，，全角数字（双字节）\n",
    "\n",
    "False: 罗马数字，汉字数字\n",
    "\n",
    "Error: byte数字（单字节）\n",
    "\n",
    "\n",
    "isnumeric()\n",
    "\n",
    "True: Unicode数字，全角数字（双字节），罗马数字，汉字数字\n",
    "\n",
    "False: 无\n",
    "\n",
    "Error: byte数字（单字节）"
   ]
  },
  {
   "cell_type": "code",
   "execution_count": 55,
   "metadata": {},
   "outputs": [
    {
     "data": {
      "text/plain": [
       "'asfsdag '"
      ]
     },
     "execution_count": 55,
     "metadata": {},
     "output_type": "execute_result"
    }
   ],
   "source": [
    "a = ' asfsdag '\n",
    "a.lstrip()"
   ]
  },
  {
   "cell_type": "code",
   "execution_count": 56,
   "metadata": {},
   "outputs": [
    {
     "data": {
      "text/plain": [
       "' asfsdag'"
      ]
     },
     "execution_count": 56,
     "metadata": {},
     "output_type": "execute_result"
    }
   ],
   "source": [
    "a.rstrip()"
   ]
  },
  {
   "cell_type": "code",
   "execution_count": 57,
   "metadata": {},
   "outputs": [
    {
     "data": {
      "text/plain": [
       "['asfd', 'sfad', 'asdf']"
      ]
     },
     "execution_count": 57,
     "metadata": {},
     "output_type": "execute_result"
    }
   ],
   "source": [
    "a = 'asfd-sfad-asdf'\n",
    "a.split('-')"
   ]
  },
  {
   "cell_type": "code",
   "execution_count": 58,
   "metadata": {
    "collapsed": true
   },
   "outputs": [],
   "source": [
    "s=\"hello world!<[www.google.com]>byebye\""
   ]
  },
  {
   "cell_type": "code",
   "execution_count": 59,
   "metadata": {},
   "outputs": [
    {
     "name": "stdout",
     "output_type": "stream",
     "text": [
      "www.google.com\n"
     ]
    }
   ],
   "source": [
    "s1 = s.split('[')[1]\n",
    "s2 = s1.split(']')[0]\n",
    "print(s2)"
   ]
  },
  {
   "cell_type": "code",
   "execution_count": 60,
   "metadata": {},
   "outputs": [
    {
     "data": {
      "text/plain": [
       "['www', 'google', 'com']"
      ]
     },
     "execution_count": 60,
     "metadata": {},
     "output_type": "execute_result"
    }
   ],
   "source": [
    "s2.split('.')"
   ]
  },
  {
   "cell_type": "code",
   "execution_count": 61,
   "metadata": {},
   "outputs": [
    {
     "data": {
      "text/plain": [
       "['www', 'google.com']"
      ]
     },
     "execution_count": 61,
     "metadata": {},
     "output_type": "execute_result"
    }
   ],
   "source": [
    "s2.split('.',1)"
   ]
  },
  {
   "cell_type": "code",
   "execution_count": null,
   "metadata": {
    "collapsed": true
   },
   "outputs": [],
   "source": []
  }
 ],
 "metadata": {
  "kernelspec": {
   "display_name": "Python 3",
   "language": "python",
   "name": "python3"
  },
  "language_info": {
   "codemirror_mode": {
    "name": "ipython",
    "version": 3
   },
   "file_extension": ".py",
   "mimetype": "text/x-python",
   "name": "python",
   "nbconvert_exporter": "python",
   "pygments_lexer": "ipython3",
   "version": "3.6.3"
  }
 },
 "nbformat": 4,
 "nbformat_minor": 2
}
