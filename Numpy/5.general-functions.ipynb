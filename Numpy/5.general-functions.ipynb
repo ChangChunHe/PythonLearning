{
 "cells": [
  {
   "cell_type": "markdown",
   "metadata": {},
   "source": [
    "# 一般函数"
   ]
  },
  {
   "cell_type": "code",
   "execution_count": 1,
   "metadata": {
    "collapsed": true
   },
   "outputs": [],
   "source": [
    "import numpy as np"
   ]
  },
  {
   "cell_type": "markdown",
   "metadata": {},
   "source": [
    "## 三角函数"
   ]
  },
  {
   "cell_type": "markdown",
   "metadata": {},
   "source": [
    "    sin(x)\n",
    "    cos(x)\n",
    "    tan(x)\n",
    "    sinh(x)\n",
    "    conh(x)\n",
    "    tanh(x)\n",
    "    arccos(x)\n",
    "    arctan(x)\n",
    "    arcsin(x)\n",
    "    arccosh(x)\n",
    "    arctanh(x)\n",
    "    arcsinh(x)\n",
    "    arctan2(x,y)\n",
    "\n",
    "`arctan2(x,y)` 返回 `arctan(x/y)` 。"
   ]
  },
  {
   "cell_type": "code",
   "execution_count": 2,
   "metadata": {},
   "outputs": [
    {
     "name": "stdout",
     "output_type": "stream",
     "text": [
      "sin(x1): [0.         0.19866933 0.38941834 0.56464247 0.71735609]\n",
      "cos(x1): [1.         0.98006658 0.92106099 0.82533561 0.69670671]\n",
      "tan(x1): [0.         0.20271004 0.42279322 0.68413681 1.02963856]\n",
      "sinh(x1): [0.         0.201336   0.41075233 0.63665358 0.88810598]\n",
      "cosh(x1): [1.         1.02006676 1.08107237 1.18546522 1.33743495]\n",
      "tanh(x1): [0.         0.19737532 0.37994896 0.53704957 0.66403677]\n",
      "arcsin(x1): [0.         0.20135792 0.41151685 0.64350111 0.92729522]\n",
      "arccos(x1): [1.57079633 1.36943841 1.15927948 0.92729522 0.64350111]\n",
      "arctan(x1): [0.         0.19739556 0.38050638 0.5404195  0.67474094]\n",
      "arcsinh(x1): [0.         0.19869011 0.39003532 0.5688249  0.73266826]\n",
      "arccosh(x1+1): [0.         0.6223625  0.86701473 1.04696792 1.19291073]\n",
      "arctanh(x1): [0.         0.20273255 0.42364893 0.69314718 1.09861229]\n",
      "arctan2(x,y): [0.46364761 0.5880026  0.71883    0.85196633 0.98279372]\n"
     ]
    }
   ],
   "source": [
    "x1 = np.arange(0,1,0.2)\n",
    "print('sin(x1):', np.sin(x1))\n",
    "print('cos(x1):', np.cos(x1))\n",
    "print('tan(x1):', np.tan(x1))\n",
    "print('sinh(x1):', np.sinh(x1))\n",
    "print('cosh(x1):', np.cosh(x1))\n",
    "print('tanh(x1):', np.tanh(x1))\n",
    "print('arcsin(x1):', np.arcsin(x1))\n",
    "print('arccos(x1):', np.arccos(x1))\n",
    "print('arctan(x1):', np.arctan(x1))\n",
    "print('arcsinh(x1):', np.arcsinh(x1))\n",
    "print('arccosh(x1+1):', np.arccosh(x1+1))\n",
    "print('arctanh(x1):', np.arctanh(x1))\n",
    "x = np.arange(1,2,0.2)\n",
    "y = np.arange(2,1,-0.2)\n",
    "print('arctan2(x,y):', np.arctan2(x,y))"
   ]
  },
  {
   "cell_type": "markdown",
   "metadata": {},
   "source": [
    "## 向量操作, 各种积的函数"
   ]
  },
  {
   "cell_type": "markdown",
   "metadata": {},
   "source": [
    "    dot(x,y)\n",
    "    inner(x,y)\n",
    "    cross(x,y)\n",
    "    vdot(x,y)\n",
    "    outer(x,y)\n",
    "    kron(x,y)\n",
    "    tensordot(x,y[,axis])"
   ]
  },
  {
   "cell_type": "markdown",
   "metadata": {},
   "source": [
    "## dot \n",
    "\n",
    "`numpy.dot(a, b, out=None)`\n",
    "Dot product of two arrays. Specifically,\n",
    "\n",
    "- If both a and b are 1-D arrays, it is inner product of vectors (without complex conjugation).\n",
    "\n",
    "- If both a and b are 2-D arrays, it is matrix multiplication, but using `matmul` or `a @ b` is preferred.\n",
    "\n",
    "- If either a or b is 0-D (scalar), it is equivalent to multiply and using `numpy.multiply(a, b)` or `a * b` is preferred.\n",
    "\n",
    "- If a is an N-D array and b is a 1-D array, it is a sum product over the last axis of a and b.\n",
    "\n",
    "- If a is an N-D array and b is an M-D array (where `M>=2`), it is a sum product over the last axis of a and the second-to-last axis of b:"
   ]
  },
  {
   "cell_type": "markdown",
   "metadata": {},
   "source": [
    "这里举最后两个例子说明一下即可"
   ]
  },
  {
   "cell_type": "code",
   "execution_count": 3,
   "metadata": {},
   "outputs": [
    {
     "data": {
      "text/plain": [
       "array([30, 40])"
      ]
     },
     "execution_count": 3,
     "metadata": {},
     "output_type": "execute_result"
    }
   ],
   "source": [
    "a = np.array([[1,2,3,4],[2,3,4,5,]])\n",
    "b = np.array([1,2,3,4])\n",
    "np.dot(a,b)"
   ]
  },
  {
   "cell_type": "code",
   "execution_count": 4,
   "metadata": {},
   "outputs": [
    {
     "data": {
      "text/plain": [
       "array([30, 40])"
      ]
     },
     "execution_count": 4,
     "metadata": {},
     "output_type": "execute_result"
    }
   ],
   "source": [
    "np.sum(a*b,axis=1)"
   ]
  },
  {
   "cell_type": "code",
   "execution_count": 5,
   "metadata": {
    "collapsed": true
   },
   "outputs": [],
   "source": [
    "a = np.arange(3*4*5*6).reshape((3,4,5,6))\n",
    "b = np.arange(3*4*5*6)[::-1].reshape((5,4,6,3))\n",
    "c = np.dot(a, b)"
   ]
  },
  {
   "cell_type": "code",
   "execution_count": 6,
   "metadata": {},
   "outputs": [
    {
     "data": {
      "text/plain": [
       "118443"
      ]
     },
     "execution_count": 6,
     "metadata": {},
     "output_type": "execute_result"
    }
   ],
   "source": [
    "c[1,2,3,3,2,1]"
   ]
  },
  {
   "cell_type": "code",
   "execution_count": 7,
   "metadata": {},
   "outputs": [
    {
     "data": {
      "text/plain": [
       "118443"
      ]
     },
     "execution_count": 7,
     "metadata": {},
     "output_type": "execute_result"
    }
   ],
   "source": [
    "sum(a[1,2,3,:]*b[3,2,:,1])"
   ]
  },
  {
   "cell_type": "markdown",
   "metadata": {},
   "source": [
    "## inner\n",
    "\n",
    "`numpy.inner(a, b)`\n",
    "\n",
    "Inner product of two arrays.\n",
    "\n",
    "Ordinary inner product of vectors for 1-D arrays (without complex conjugation), in higher dimensions a sum product over the last axes.\n",
    "\n",
    "- Parameters:\t\n",
    "    a, b : array_like\n",
    "\n",
    "    If a and b are nonscalar, their last dimensions must match.\n",
    "\n",
    "- Returns:\t\n",
    "    out : ndarray\n",
    "\n",
    "    out.shape = a.shape[:-1] + b.shape[:-1]\n",
    "\n",
    "- Raises:\t\n",
    "    ValueError\n",
    "\n",
    "    If the last dimension of a and b has different size."
   ]
  },
  {
   "cell_type": "code",
   "execution_count": 8,
   "metadata": {},
   "outputs": [
    {
     "data": {
      "text/plain": [
       "4330"
      ]
     },
     "execution_count": 8,
     "metadata": {},
     "output_type": "execute_result"
    }
   ],
   "source": [
    "x = np.arange(3*4*5).reshape(3,4,5)\n",
    "y = np.arange(3*4*5).reshape(4,3,5)\n",
    "z = np.inner(x, y)\n",
    "z[1,2,1,2]"
   ]
  },
  {
   "cell_type": "code",
   "execution_count": 9,
   "metadata": {},
   "outputs": [
    {
     "data": {
      "text/plain": [
       "4330"
      ]
     },
     "execution_count": 9,
     "metadata": {},
     "output_type": "execute_result"
    }
   ],
   "source": [
    "sum(x[1,2,:]*y[1,2,:])"
   ]
  },
  {
   "cell_type": "markdown",
   "metadata": {},
   "source": [
    "## cross\n",
    "\n",
    "叉乘 cross(x, y) = $ x \\times y$"
   ]
  },
  {
   "cell_type": "code",
   "execution_count": 10,
   "metadata": {},
   "outputs": [
    {
     "data": {
      "text/plain": [
       "array([-1,  2, -1])"
      ]
     },
     "execution_count": 10,
     "metadata": {},
     "output_type": "execute_result"
    }
   ],
   "source": [
    "x = np.array([1,2,3])\n",
    "y = np.array([2,3,4])\n",
    "np.cross(x, y)"
   ]
  },
  {
   "cell_type": "markdown",
   "metadata": {},
   "source": [
    "## vdot\n",
    "\n",
    "- Return the dot product of two vectors. If the input argument is higher dimensions, it will be flattened first, and \n",
    "then, do the dot product."
   ]
  },
  {
   "cell_type": "code",
   "execution_count": 11,
   "metadata": {},
   "outputs": [
    {
     "data": {
      "text/plain": [
       "22"
      ]
     },
     "execution_count": 11,
     "metadata": {},
     "output_type": "execute_result"
    }
   ],
   "source": [
    "a = np.array([[1,2],[3,4]])\n",
    "b = np.array([[3,4],[1,2]])\n",
    "np.vdot(a,b)"
   ]
  },
  {
   "cell_type": "markdown",
   "metadata": {},
   "source": [
    "## outer\n",
    "\n",
    "outer是a的第一个元素跟b的每一个元素相乘作为第一行，第二个元素跟b的每一个元素相乘作为第二个元素..."
   ]
  },
  {
   "cell_type": "code",
   "execution_count": 12,
   "metadata": {},
   "outputs": [
    {
     "data": {
      "text/plain": [
       "array([[ 0,  0,  0,  0,  0,  0],\n",
       "       [ 0,  1,  2,  3,  4,  5],\n",
       "       [ 0,  2,  4,  6,  8, 10],\n",
       "       [ 0,  3,  6,  9, 12, 15],\n",
       "       [ 0,  4,  8, 12, 16, 20],\n",
       "       [ 0,  5, 10, 15, 20, 25]])"
      ]
     },
     "execution_count": 12,
     "metadata": {},
     "output_type": "execute_result"
    }
   ],
   "source": [
    "a = np.arange(6).reshape(3, 2)\n",
    "b = np.arange(6).reshape(2, 3)\n",
    "np.outer(a, b)"
   ]
  },
  {
   "cell_type": "markdown",
   "metadata": {},
   "source": [
    "## kron\n",
    "如果A是一个m×n的矩阵，而B是一个p×q的矩阵，克罗内克积则是一个mp×nq的分块矩阵\n",
    "\n",
    "A = [a11, a12;\n",
    "     a21, a22]\n",
    "     \n",
    "kron(A, B) = [a11B, a12B;\n",
    "              a21B, a22B]"
   ]
  },
  {
   "cell_type": "code",
   "execution_count": 13,
   "metadata": {},
   "outputs": [
    {
     "data": {
      "text/plain": [
       "array([[ 1,  3,  2,  6],\n",
       "       [ 2,  4,  4,  8],\n",
       "       [ 3,  9,  4, 12],\n",
       "       [ 6, 12,  8, 16]])"
      ]
     },
     "execution_count": 13,
     "metadata": {},
     "output_type": "execute_result"
    }
   ],
   "source": [
    "A = np.array([[1,2], [3,4]])\n",
    "B = np.array([[1,3], [2,4]])\n",
    "np.kron(A, B)"
   ]
  },
  {
   "cell_type": "markdown",
   "metadata": {},
   "source": [
    "kron积还可以实现repeat功能"
   ]
  },
  {
   "cell_type": "code",
   "execution_count": 14,
   "metadata": {},
   "outputs": [
    {
     "data": {
      "text/plain": [
       "array([[1, 2, 1, 2],\n",
       "       [3, 4, 3, 4],\n",
       "       [1, 2, 1, 2],\n",
       "       [3, 4, 3, 4]])"
      ]
     },
     "execution_count": 14,
     "metadata": {},
     "output_type": "execute_result"
    }
   ],
   "source": [
    "A = np.array([[1,2],[3,4]])\n",
    "np.kron(np.ones((2,2)), A).astype('int')"
   ]
  },
  {
   "cell_type": "markdown",
   "metadata": {},
   "source": [
    "## tensordot"
   ]
  },
  {
   "cell_type": "markdown",
   "metadata": {},
   "source": [
    "## 其他操作"
   ]
  },
  {
   "cell_type": "markdown",
   "metadata": {},
   "source": [
    "    exp(x)\n",
    "    log(x)\n",
    "    log10(x)\n",
    "    sqrt(x)\n",
    "    absolute(x)\n",
    "    conjugate(x)\n",
    "    negative(x)\n",
    "    ceil(x)\n",
    "    floor(x)\n",
    "    fabs(x)\n",
    "    hypot(x)\n",
    "    fmod(x)\n",
    "    maximum(x,y)\n",
    "    minimum(x,y)\n",
    "\n",
    "`hypot` 返回对应点 `(x,y)` 到原点的距离。"
   ]
  },
  {
   "cell_type": "code",
   "execution_count": 15,
   "metadata": {},
   "outputs": [
    {
     "data": {
      "text/plain": [
       "array([4.12310563, 5.38516481, 5.        ])"
      ]
     },
     "execution_count": 15,
     "metadata": {},
     "output_type": "execute_result"
    }
   ],
   "source": [
    "x = np.array([1,2,3])\n",
    "y = np.array([4,5,4])\n",
    "np.hypot(x,y)"
   ]
  },
  {
   "cell_type": "code",
   "execution_count": 16,
   "metadata": {},
   "outputs": [
    {
     "data": {
      "text/plain": [
       "array([1, 0, 1, 0, 1, 0, 1])"
      ]
     },
     "execution_count": 16,
     "metadata": {},
     "output_type": "execute_result"
    }
   ],
   "source": [
    "np.fmod([1,2,3,4,5,6,7],2) #求余"
   ]
  },
  {
   "cell_type": "code",
   "execution_count": 17,
   "metadata": {},
   "outputs": [
    {
     "data": {
      "text/plain": [
       "array([-1,  0, -1,  1,  0,  1,  0,  1,  0,  1])"
      ]
     },
     "execution_count": 17,
     "metadata": {},
     "output_type": "execute_result"
    }
   ],
   "source": [
    "np.fmod([-1,-2,-3, 1, 2,3,4,5,6,7],2)"
   ]
  },
  {
   "cell_type": "code",
   "execution_count": 18,
   "metadata": {},
   "outputs": [
    {
     "data": {
      "text/plain": [
       "array([1, 0, 1, 1, 0, 1, 0, 1, 0, 1])"
      ]
     },
     "execution_count": 18,
     "metadata": {},
     "output_type": "execute_result"
    }
   ],
   "source": [
    "np.remainder([-1,-2,-3, 1, 2,3,4,5,6,7],2)"
   ]
  },
  {
   "cell_type": "markdown",
   "metadata": {},
   "source": [
    "## 类型处理"
   ]
  },
  {
   "cell_type": "markdown",
   "metadata": {},
   "source": [
    "    iscomplexobj\n",
    "    iscomplex\n",
    "    isrealobj\n",
    "    isreal\n",
    "    imag\n",
    "    real\n",
    "    real_if_close\n",
    "    isscalar\n",
    "    isneginf\n",
    "    isposinf\n",
    "    isinf\n",
    "    isfinite\n",
    "    isnan\n",
    "    nan_to_num\n",
    "    common_type\n",
    "    typename\n",
    "\n",
    "正无穷："
   ]
  },
  {
   "cell_type": "code",
   "execution_count": 19,
   "metadata": {},
   "outputs": [
    {
     "data": {
      "text/plain": [
       "inf"
      ]
     },
     "execution_count": 19,
     "metadata": {},
     "output_type": "execute_result"
    }
   ],
   "source": [
    "np.inf"
   ]
  },
  {
   "cell_type": "markdown",
   "metadata": {},
   "source": [
    "负无穷："
   ]
  },
  {
   "cell_type": "code",
   "execution_count": 20,
   "metadata": {},
   "outputs": [
    {
     "data": {
      "text/plain": [
       "-inf"
      ]
     },
     "execution_count": 20,
     "metadata": {},
     "output_type": "execute_result"
    }
   ],
   "source": [
    "-np.inf"
   ]
  },
  {
   "cell_type": "markdown",
   "metadata": {},
   "source": [
    "非法值（Not a number）："
   ]
  },
  {
   "cell_type": "code",
   "execution_count": 21,
   "metadata": {
    "scrolled": true
   },
   "outputs": [
    {
     "data": {
      "text/plain": [
       "nan"
      ]
     },
     "execution_count": 21,
     "metadata": {},
     "output_type": "execute_result"
    }
   ],
   "source": [
    "np.nan"
   ]
  },
  {
   "cell_type": "markdown",
   "metadata": {},
   "source": [
    "检查是否为无穷："
   ]
  },
  {
   "cell_type": "code",
   "execution_count": 22,
   "metadata": {
    "scrolled": true
   },
   "outputs": [
    {
     "data": {
      "text/plain": [
       "False"
      ]
     },
     "execution_count": 22,
     "metadata": {},
     "output_type": "execute_result"
    }
   ],
   "source": [
    "np.isinf(1.0)"
   ]
  },
  {
   "cell_type": "code",
   "execution_count": 23,
   "metadata": {},
   "outputs": [
    {
     "data": {
      "text/plain": [
       "True"
      ]
     },
     "execution_count": 23,
     "metadata": {},
     "output_type": "execute_result"
    }
   ],
   "source": [
    "np.isinf(np.inf)"
   ]
  },
  {
   "cell_type": "code",
   "execution_count": 24,
   "metadata": {},
   "outputs": [
    {
     "data": {
      "text/plain": [
       "True"
      ]
     },
     "execution_count": 24,
     "metadata": {},
     "output_type": "execute_result"
    }
   ],
   "source": [
    "np.isinf(-np.inf)"
   ]
  },
  {
   "cell_type": "markdown",
   "metadata": {},
   "source": [
    "非法值："
   ]
  },
  {
   "cell_type": "code",
   "execution_count": 25,
   "metadata": {},
   "outputs": [
    {
     "name": "stderr",
     "output_type": "stream",
     "text": [
      "/home/hecc/anaconda3/lib/python3.6/site-packages/ipykernel_launcher.py:1: RuntimeWarning: invalid value encountered in true_divide\n",
      "  \"\"\"Entry point for launching an IPython kernel.\n"
     ]
    },
    {
     "data": {
      "text/plain": [
       "array([nan])"
      ]
     },
     "execution_count": 25,
     "metadata": {},
     "output_type": "execute_result"
    }
   ],
   "source": [
    "np.array([0]) / 0.0"
   ]
  },
  {
   "cell_type": "markdown",
   "metadata": {},
   "source": [
    "这并不会报错，而是返回一个非法值。"
   ]
  },
  {
   "cell_type": "markdown",
   "metadata": {},
   "source": [
    "只有 `0/0` 会得到 `nan`，非0值除以0会得到无穷："
   ]
  },
  {
   "cell_type": "code",
   "execution_count": 26,
   "metadata": {},
   "outputs": [
    {
     "name": "stderr",
     "output_type": "stream",
     "text": [
      "/home/hecc/anaconda3/lib/python3.6/site-packages/ipykernel_launcher.py:2: RuntimeWarning: divide by zero encountered in true_divide\n",
      "  \n",
      "/home/hecc/anaconda3/lib/python3.6/site-packages/ipykernel_launcher.py:2: RuntimeWarning: invalid value encountered in true_divide\n",
      "  \n"
     ]
    },
    {
     "data": {
      "text/plain": [
       "array([nan, inf, inf, inf, inf])"
      ]
     },
     "execution_count": 26,
     "metadata": {},
     "output_type": "execute_result"
    }
   ],
   "source": [
    "a = np.arange(5.0)\n",
    "b = a / 0.0\n",
    "b"
   ]
  },
  {
   "cell_type": "markdown",
   "metadata": {},
   "source": [
    "`nan` 与任何数进行比较都是 `False`："
   ]
  },
  {
   "cell_type": "code",
   "execution_count": 27,
   "metadata": {},
   "outputs": [
    {
     "data": {
      "text/plain": [
       "array([False, False, False, False, False])"
      ]
     },
     "execution_count": 27,
     "metadata": {},
     "output_type": "execute_result"
    }
   ],
   "source": [
    "b == np.nan"
   ]
  },
  {
   "cell_type": "markdown",
   "metadata": {},
   "source": [
    "想要找出 `nan` 值需要使用 `isnan`："
   ]
  },
  {
   "cell_type": "code",
   "execution_count": 28,
   "metadata": {},
   "outputs": [
    {
     "data": {
      "text/plain": [
       "array([ True, False, False, False, False])"
      ]
     },
     "execution_count": 28,
     "metadata": {},
     "output_type": "execute_result"
    }
   ],
   "source": [
    "np.isnan(b)"
   ]
  },
  {
   "cell_type": "markdown",
   "metadata": {},
   "source": [
    "## 修改形状"
   ]
  },
  {
   "cell_type": "markdown",
   "metadata": {},
   "source": [
    "    atleast_1d\n",
    "    atleast_2d\n",
    "    atleast_3d\n",
    "    expand_dims\n",
    "    apply_over_axes\n",
    "    apply_along_axis\n",
    "    hstack\n",
    "    vstack\n",
    "    dstack\n",
    "    column_stack\n",
    "    hsplit\n",
    "    vsplit\n",
    "    dsplit\n",
    "    split\n",
    "    squeeze"
   ]
  },
  {
   "cell_type": "markdown",
   "metadata": {},
   "source": [
    "## apply_over_axes"
   ]
  },
  {
   "cell_type": "code",
   "execution_count": 29,
   "metadata": {},
   "outputs": [
    {
     "name": "stdout",
     "output_type": "stream",
     "text": [
      "[[[ 0  1  2  3  4]\n",
      "  [ 5  6  7  8  9]]\n",
      "\n",
      " [[10 11 12 13 14]\n",
      "  [15 16 17 18 19]]]\n"
     ]
    },
    {
     "data": {
      "text/plain": [
       "array([[[ 70],\n",
       "        [120]]])"
      ]
     },
     "execution_count": 29,
     "metadata": {},
     "output_type": "execute_result"
    }
   ],
   "source": [
    "a = np.arange(20).reshape(2,2,5)\n",
    "print(a)\n",
    "np.apply_over_axes(np.sum, a, (0,2))#将axis=0,2的两个方向加起来"
   ]
  },
  {
   "cell_type": "markdown",
   "metadata": {},
   "source": [
    "## apply_along_axis"
   ]
  },
  {
   "cell_type": "code",
   "execution_count": 30,
   "metadata": {},
   "outputs": [
    {
     "name": "stdout",
     "output_type": "stream",
     "text": [
      "[[ 0  1  2  3  4]\n",
      " [ 5  6  7  8  9]\n",
      " [10 11 12 13 14]\n",
      " [15 16 17 18 19]]\n"
     ]
    },
    {
     "data": {
      "text/plain": [
       "array([ 7.5,  8.5,  9.5, 10.5, 11.5])"
      ]
     },
     "execution_count": 30,
     "metadata": {},
     "output_type": "execute_result"
    }
   ],
   "source": [
    "a = np.arange(20).reshape(4,5)\n",
    "print(a)\n",
    "f = lambda x:(x[0]+x[-1])/2\n",
    "\n",
    "np.apply_along_axis(f, 0, a)#将axis=0,2的两个方向加起来"
   ]
  },
  {
   "cell_type": "markdown",
   "metadata": {},
   "source": [
    "## column_stack"
   ]
  },
  {
   "cell_type": "code",
   "execution_count": 31,
   "metadata": {},
   "outputs": [
    {
     "data": {
      "text/plain": [
       "array([[1, 1, 1, 1],\n",
       "       [2, 2, 2, 2],\n",
       "       [3, 3, 3, 3],\n",
       "       [3, 3, 3, 3]])"
      ]
     },
     "execution_count": 31,
     "metadata": {},
     "output_type": "execute_result"
    }
   ],
   "source": [
    "a = np.array([1,2,3,3])#合并列向量为一个array\n",
    "np.column_stack((a,a,a,a))"
   ]
  },
  {
   "cell_type": "markdown",
   "metadata": {},
   "source": [
    "## split, hsplit, vsplit, array_split"
   ]
  },
  {
   "cell_type": "code",
   "execution_count": 32,
   "metadata": {
    "collapsed": true
   },
   "outputs": [],
   "source": [
    "a = np.arange(10)"
   ]
  },
  {
   "cell_type": "code",
   "execution_count": 33,
   "metadata": {},
   "outputs": [
    {
     "data": {
      "text/plain": [
       "[array([0, 1]), array([2, 3]), array([4, 5]), array([6, 7]), array([8, 9])]"
      ]
     },
     "execution_count": 33,
     "metadata": {},
     "output_type": "execute_result"
    }
   ],
   "source": [
    "np.split(a, 5)#必须是相等的维度, np.split(a, 3)会报错"
   ]
  },
  {
   "cell_type": "code",
   "execution_count": 34,
   "metadata": {},
   "outputs": [
    {
     "name": "stdout",
     "output_type": "stream",
     "text": [
      "[array([0]), array([1]), array([2]), array([3]), array([4, 5, 6, 7, 8, 9])]\n",
      "[array([0]), array([1]), array([2]), array([3, 4]), array([5, 6, 7, 8, 9]), array([], dtype=int64)]\n"
     ]
    }
   ],
   "source": [
    "print(np.split(a, [1,2,3,4]))\n",
    "print(np.split(a, [1,2,3,5,12]))"
   ]
  },
  {
   "cell_type": "code",
   "execution_count": 35,
   "metadata": {
    "collapsed": true
   },
   "outputs": [],
   "source": [
    "a = np.arange(12).reshape(3,4)"
   ]
  },
  {
   "cell_type": "code",
   "execution_count": 36,
   "metadata": {},
   "outputs": [
    {
     "data": {
      "text/plain": [
       "[array([[0, 1],\n",
       "        [4, 5],\n",
       "        [8, 9]]), array([[ 2,  3],\n",
       "        [ 6,  7],\n",
       "        [10, 11]])]"
      ]
     },
     "execution_count": 36,
     "metadata": {},
     "output_type": "execute_result"
    }
   ],
   "source": [
    "np.split(a, 2, axis=1)"
   ]
  },
  {
   "cell_type": "code",
   "execution_count": 37,
   "metadata": {},
   "outputs": [
    {
     "data": {
      "text/plain": [
       "[array([[0, 1],\n",
       "        [4, 5],\n",
       "        [8, 9]]), array([[ 2,  3],\n",
       "        [ 6,  7],\n",
       "        [10, 11]])]"
      ]
     },
     "execution_count": 37,
     "metadata": {},
     "output_type": "execute_result"
    }
   ],
   "source": [
    "np.hsplit(a, 2)"
   ]
  },
  {
   "cell_type": "code",
   "execution_count": 38,
   "metadata": {},
   "outputs": [
    {
     "data": {
      "text/plain": [
       "[array([[0, 1, 2, 3]]), array([[4, 5, 6, 7]]), array([[ 8,  9, 10, 11]])]"
      ]
     },
     "execution_count": 38,
     "metadata": {},
     "output_type": "execute_result"
    }
   ],
   "source": [
    "np.vsplit(a, 3)"
   ]
  },
  {
   "cell_type": "code",
   "execution_count": 39,
   "metadata": {},
   "outputs": [
    {
     "data": {
      "text/plain": [
       "[array([[0, 1, 2, 3]]), array([[4, 5, 6, 7]]), array([[ 8,  9, 10, 11]])]"
      ]
     },
     "execution_count": 39,
     "metadata": {},
     "output_type": "execute_result"
    }
   ],
   "source": [
    "np.split(a, 3, axis=0)"
   ]
  },
  {
   "cell_type": "code",
   "execution_count": 40,
   "metadata": {},
   "outputs": [
    {
     "data": {
      "text/plain": [
       "[array([0, 1, 2]), array([3, 4, 5, 6])]"
      ]
     },
     "execution_count": 40,
     "metadata": {},
     "output_type": "execute_result"
    }
   ],
   "source": [
    "a = np.arange(7)\n",
    "np.array_split(a, [3])#可以分割成多个不同维度的, 尽可能多的分的均匀"
   ]
  },
  {
   "cell_type": "code",
   "execution_count": 41,
   "metadata": {},
   "outputs": [
    {
     "data": {
      "text/plain": [
       "[array([0, 1]), array([2, 3]), array([4, 5]), array([6])]"
      ]
     },
     "execution_count": 41,
     "metadata": {},
     "output_type": "execute_result"
    }
   ],
   "source": [
    "np.array_split(a, 4)"
   ]
  },
  {
   "cell_type": "markdown",
   "metadata": {},
   "source": [
    "## 其他有用函数"
   ]
  },
  {
   "cell_type": "markdown",
   "metadata": {},
   "source": [
    "|函数|主要功能|函数|主要功能|\n",
    "|--|--|--|--|\n",
    "|`fix`|取离零最近的整数|`trim_zeros`|删除头尾的零|\n",
    "|`mod`|余数|`fliplr`|左右翻转|\n",
    "|`amax`|最大值|`flipud`|上下翻转|\n",
    "|`amin`|最小值|`rot90`|逆时针旋转90°|\n",
    "|`ptp`|最大最小值的差|`diag`|对角线|\n",
    "|`sum`|求和|`eye`|单位矩阵|\n",
    "|`cumsum`|累积和|`select`|选择(下面具体解释)|\n",
    "|`prod|求积`|`insert`|插入元素(感觉这个方法不咋常用)|\n",
    "|`cumprod`|累积积|`extract`|筛选|\n",
    "|`diff`|n阶差分|`roots`|返回多项式方程的根|\n",
    "|`angle`|求复数的幅角|`poly`|由根推系数|\n",
    "|`unwrap`|去除周期性的相位, 默认是2pi的周期|`any`|全部为零才为False|\n",
    "|`sort_complex`|优先实部, 其次是虚部|`all`|全部为一才为True|\n",
    "|`disp`|print|`unique`|唯一元素|\n",
    "\n",
    "nansum, nanmax, nanargmax, nanargmin, nanmin, `nan` 开头的函数会进行相应的操作，但是忽略 `nan` 值。"
   ]
  },
  {
   "cell_type": "markdown",
   "metadata": {},
   "source": [
    "## select"
   ]
  },
  {
   "cell_type": "code",
   "execution_count": 42,
   "metadata": {},
   "outputs": [
    {
     "data": {
      "text/plain": [
       "array([ 0,  1,  2,  0,  0,  0,  0, 49, 64, 81])"
      ]
     },
     "execution_count": 42,
     "metadata": {},
     "output_type": "execute_result"
    }
   ],
   "source": [
    "a = np.arange(10)\n",
    "condlist = [a<3, a>6]\n",
    "choicelist = [a, a**2]\n",
    "np.select(condlist, choicelist)#两个彼此对应的操作, 小于3的还是a, 大于6的取平方, 其余地方为零"
   ]
  },
  {
   "cell_type": "markdown",
   "metadata": {},
   "source": [
    "## extract"
   ]
  },
  {
   "cell_type": "code",
   "execution_count": 43,
   "metadata": {},
   "outputs": [
    {
     "data": {
      "text/plain": [
       "array([ 1,  4,  7, 10, 13])"
      ]
     },
     "execution_count": 43,
     "metadata": {},
     "output_type": "execute_result"
    }
   ],
   "source": [
    "a = np.arange(16).reshape(4,4)\n",
    "ind = np.mod(a, 3) == 1\n",
    "np.extract(ind, a)"
   ]
  },
  {
   "cell_type": "code",
   "execution_count": 44,
   "metadata": {},
   "outputs": [
    {
     "data": {
      "text/plain": [
       "array([ 1,  4,  7, 10, 13])"
      ]
     },
     "execution_count": 44,
     "metadata": {},
     "output_type": "execute_result"
    }
   ],
   "source": [
    "a[ind]"
   ]
  },
  {
   "cell_type": "markdown",
   "metadata": {},
   "source": [
    "## insert"
   ]
  },
  {
   "cell_type": "code",
   "execution_count": 45,
   "metadata": {},
   "outputs": [
    {
     "data": {
      "text/plain": [
       "array([  0, 100,   1,   2,   3,   4,   5,   6,   7,   8,   9,  10,  11])"
      ]
     },
     "execution_count": 45,
     "metadata": {},
     "output_type": "execute_result"
    }
   ],
   "source": [
    "a = np.arange(12).reshape((3,4))\n",
    "np.insert(a, 1, 100)"
   ]
  },
  {
   "cell_type": "code",
   "execution_count": 46,
   "metadata": {},
   "outputs": [
    {
     "data": {
      "text/plain": [
       "array([[  0,   1,   2,   3],\n",
       "       [100, 100, 100, 100],\n",
       "       [  4,   5,   6,   7],\n",
       "       [100, 100, 100, 100],\n",
       "       [  8,   9,  10,  11]])"
      ]
     },
     "execution_count": 46,
     "metadata": {},
     "output_type": "execute_result"
    }
   ],
   "source": [
    "np.insert(a, (1, 2), 100, axis=0)"
   ]
  },
  {
   "cell_type": "markdown",
   "metadata": {},
   "source": [
    "## root\n",
    "\n",
    "`numpy.roots(p)`\n",
    "- Return the roots of a polynomial with coefficients given in p.\n",
    "\n",
    "The values in the rank-1 array p are coefficients of a polynomial. If the length of p is n+1 then the polynomial is described by:\n",
    "\n",
    " `p[0] * x**n + p[1] * x**(n-1) + ... + p[n-1]*x + p[n]`"
   ]
  },
  {
   "cell_type": "code",
   "execution_count": 47,
   "metadata": {},
   "outputs": [
    {
     "data": {
      "text/plain": [
       "array([1., 1.])"
      ]
     },
     "execution_count": 47,
     "metadata": {},
     "output_type": "execute_result"
    }
   ],
   "source": [
    "np.roots((1, -2, 1))"
   ]
  },
  {
   "cell_type": "markdown",
   "metadata": {},
   "source": [
    "## poly\n",
    "`numpy.poly`\n",
    "`numpy.poly(seq_of_zeros)`\n",
    "\n",
    "Find the coefficients of a polynomial with the given sequence of roots.\n",
    "\n",
    "- Returns the coefficients of the polynomial whose leading coefficient is one for the given sequence of zeros (multiple roots must be included in the sequence as many times as their multiplicity; see Examples). A square matrix (or array, which will be treated as a matrix) can also be given, in which case the coefficients of the characteristic polynomial of the matrix are returned.\n",
    "\n",
    "- Parameters:\t\n",
    "seq_of_zeros : array_like, shape (N,) or (N, N)\n",
    "\n",
    "A sequence of polynomial roots, or a square array or matrix object.\n",
    "\n",
    "- Returns:\n",
    "c : ndarray\n",
    "\n",
    "1D array of polynomial coefficients from highest to lowest degree:\n",
    "\n",
    "c[0] * x**(N) + c[1] * x**(N-1) + ... + c[N-1] * x + c[N] where c[0] always equals 1.\n",
    "\n",
    "- Raises:\n",
    "ValueError\n",
    "\n",
    "If input is the wrong shape (the input must be a 1-D or square 2-D array)."
   ]
  },
  {
   "cell_type": "code",
   "execution_count": 48,
   "metadata": {},
   "outputs": [
    {
     "data": {
      "text/plain": [
       "array([ 1., -2.,  1.])"
      ]
     },
     "execution_count": 48,
     "metadata": {},
     "output_type": "execute_result"
    }
   ],
   "source": [
    "np.poly((1,1))"
   ]
  },
  {
   "cell_type": "markdown",
   "metadata": {},
   "source": [
    "## unique\n",
    "`numpy.unique`(ar, return_index=False, return_inverse=False, return_counts=False, axis=None)"
   ]
  },
  {
   "cell_type": "code",
   "execution_count": 49,
   "metadata": {
    "collapsed": true
   },
   "outputs": [],
   "source": [
    "a = np.array([10,3,2,5,4,5,5,5,5,5,6,7,8,9])"
   ]
  },
  {
   "cell_type": "code",
   "execution_count": 50,
   "metadata": {
    "collapsed": true
   },
   "outputs": [],
   "source": [
    "au, indice, inverse_indice, count= np.unique(a, return_index=True, return_inverse=True, return_counts=True)"
   ]
  },
  {
   "cell_type": "code",
   "execution_count": 51,
   "metadata": {},
   "outputs": [
    {
     "data": {
      "text/plain": [
       "array([ 2,  3,  4,  5,  6,  7,  8,  9, 10])"
      ]
     },
     "execution_count": 51,
     "metadata": {},
     "output_type": "execute_result"
    }
   ],
   "source": [
    "au"
   ]
  },
  {
   "cell_type": "code",
   "execution_count": 52,
   "metadata": {},
   "outputs": [
    {
     "data": {
      "text/plain": [
       "array([ 2,  3,  4,  5,  6,  7,  8,  9, 10])"
      ]
     },
     "execution_count": 52,
     "metadata": {},
     "output_type": "execute_result"
    }
   ],
   "source": [
    "a[indice]"
   ]
  },
  {
   "cell_type": "code",
   "execution_count": 53,
   "metadata": {},
   "outputs": [
    {
     "data": {
      "text/plain": [
       "array([10,  3,  2,  5,  4,  5,  5,  5,  5,  5,  6,  7,  8,  9])"
      ]
     },
     "execution_count": 53,
     "metadata": {},
     "output_type": "execute_result"
    }
   ],
   "source": [
    "au[inverse_indice]#将unique以后的数组返回到之前的数组"
   ]
  },
  {
   "cell_type": "code",
   "execution_count": 54,
   "metadata": {},
   "outputs": [
    {
     "data": {
      "text/plain": [
       "array([1, 1, 1, 6, 1, 1, 1, 1, 1])"
      ]
     },
     "execution_count": 54,
     "metadata": {},
     "output_type": "execute_result"
    }
   ],
   "source": [
    "count #各个元素出现的次数, 对应的是unique以后的数组"
   ]
  },
  {
   "cell_type": "code",
   "execution_count": 55,
   "metadata": {
    "collapsed": true
   },
   "outputs": [],
   "source": [
    "a = np.array([[1,2,3,4],[1,4,2,1],[1,2,3,4],[1,2,3,5],[1,4,2,1]])"
   ]
  },
  {
   "cell_type": "code",
   "execution_count": 56,
   "metadata": {
    "collapsed": true
   },
   "outputs": [],
   "source": [
    "au, indice, inverse_indice, count= np.unique(a, return_index=True, return_inverse=True, return_counts=True, axis=0)"
   ]
  },
  {
   "cell_type": "code",
   "execution_count": 57,
   "metadata": {},
   "outputs": [
    {
     "data": {
      "text/plain": [
       "array([[1, 2, 3, 4],\n",
       "       [1, 2, 3, 5],\n",
       "       [1, 4, 2, 1]])"
      ]
     },
     "execution_count": 57,
     "metadata": {},
     "output_type": "execute_result"
    }
   ],
   "source": [
    "au#这是对于数组的unique, 设定axis就可以, 其余参数完全一致"
   ]
  }
 ],
 "metadata": {
  "kernelspec": {
   "display_name": "Python 3",
   "language": "python",
   "name": "python3"
  },
  "language_info": {
   "codemirror_mode": {
    "name": "ipython",
    "version": 3
   },
   "file_extension": ".py",
   "mimetype": "text/x-python",
   "name": "python",
   "nbconvert_exporter": "python",
   "pygments_lexer": "ipython3",
   "version": "3.6.3"
  }
 },
 "nbformat": 4,
 "nbformat_minor": 1
}
