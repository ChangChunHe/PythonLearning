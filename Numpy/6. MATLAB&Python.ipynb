{
 "cells": [
  {
   "cell_type": "markdown",
   "metadata": {},
   "source": [
    "## Common mathematic function in MATLAB\n",
    "MATLAB中的一些常用函数, 与Python中的对应函数"
   ]
  },
  {
   "cell_type": "code",
   "execution_count": null,
   "metadata": {
    "collapsed": true
   },
   "outputs": [],
   "source": [
    "import numpy as np"
   ]
  },
  {
   "cell_type": "markdown",
   "metadata": {},
   "source": [
    "## find , ismember (MATLAB), where (Python)"
   ]
  },
  {
   "cell_type": "code",
   "execution_count": 9,
   "metadata": {},
   "outputs": [
    {
     "data": {
      "text/plain": [
       "(array([1, 5]),)"
      ]
     },
     "execution_count": 9,
     "metadata": {},
     "output_type": "execute_result"
    }
   ],
   "source": [
    "a = np.array([3,4,5,1,2,4,6])\n",
    "np.where(a==4)"
   ]
  },
  {
   "cell_type": "code",
   "execution_count": 10,
   "metadata": {},
   "outputs": [
    {
     "data": {
      "text/plain": [
       "(array([2, 6]),)"
      ]
     },
     "execution_count": 10,
     "metadata": {},
     "output_type": "execute_result"
    }
   ],
   "source": [
    "np.where(a>4)"
   ]
  },
  {
   "cell_type": "code",
   "execution_count": 11,
   "metadata": {},
   "outputs": [
    {
     "data": {
      "text/plain": [
       "(array([1]), array([1]))"
      ]
     },
     "execution_count": 11,
     "metadata": {},
     "output_type": "execute_result"
    }
   ],
   "source": [
    "a = np.arange(12).reshape(4,3)\n",
    "np.where(a==4)"
   ]
  },
  {
   "cell_type": "code",
   "execution_count": 12,
   "metadata": {},
   "outputs": [
    {
     "data": {
      "text/plain": [
       "(array([3, 3]), array([1, 2]))"
      ]
     },
     "execution_count": 12,
     "metadata": {},
     "output_type": "execute_result"
    }
   ],
   "source": [
    "np.where(a>9)"
   ]
  },
  {
   "cell_type": "markdown",
   "metadata": {},
   "source": [
    "返回的实际上分别为两个方向的索引,ij两个, 这里也即为(3,1), (3,2)两个索引, 所以如果为了和MATLAB保持一致, 我们可以使用zip函数"
   ]
  },
  {
   "cell_type": "code",
   "execution_count": 19,
   "metadata": {},
   "outputs": [
    {
     "data": {
      "text/plain": [
       "[(3, 1), (3, 2)]"
      ]
     },
     "execution_count": 19,
     "metadata": {},
     "output_type": "execute_result"
    }
   ],
   "source": [
    "i, j = np.where(a>9)\n",
    "list(zip(list(i), list(j)))"
   ]
  },
  {
   "cell_type": "markdown",
   "metadata": {},
   "source": [
    "尝试实现ismember(A, B, 'rows')"
   ]
  },
  {
   "cell_type": "code",
   "execution_count": 25,
   "metadata": {},
   "outputs": [
    {
     "data": {
      "text/plain": [
       "(array([1, 1, 1]), array([0, 1, 2]))"
      ]
     },
     "execution_count": 25,
     "metadata": {},
     "output_type": "execute_result"
    }
   ],
   "source": [
    "a = np.array([[1,2,3],[3,4,5],[4,5,6],[6,7,8]])\n",
    "b = np.array([[3,4,5]])\n",
    "b = np.repeat(b, 4, axis=0)\n",
    "np.where(a==b)"
   ]
  },
  {
   "cell_type": "markdown",
   "metadata": {},
   "source": [
    "返回的实际上即为condition对应的索引, 也即为a对应condition的索引, 所以如果为了返回是那一行对应相等就得再加一点条件"
   ]
  },
  {
   "cell_type": "code",
   "execution_count": 34,
   "metadata": {},
   "outputs": [
    {
     "name": "stdout",
     "output_type": "stream",
     "text": [
      "The 1rd rows match\n"
     ]
    }
   ],
   "source": [
    "c = np.where(a==b)\n",
    "if np.size(c[0]) == np.shape(a)[1]:\n",
    "    print('The %drd rows match'%c[0][0])\n",
    "else:\n",
    "    print('No match')"
   ]
  },
  {
   "cell_type": "markdown",
   "metadata": {},
   "source": [
    "## repmat (MATLAB) & repeat (Python)"
   ]
  },
  {
   "cell_type": "markdown",
   "metadata": {},
   "source": [
    "上述的代码中, 我使用到了repeat函数, 实际上与MATLAB中的repmat函数是一致的.\n",
    "\n",
    "`numpy.repeat`\n",
    "`numpy.repeat(a, repeats, axis=None)`\n",
    "\n",
    "Repeat elements of an array.\n",
    "\n",
    "- Parameters:\t\n",
    "a : array_like\n",
    "\n",
    "- Input array.\n",
    "\n",
    "- repeats : int or array of ints\n",
    "\n",
    "The number of repetitions for each element. repeats is broadcasted to fit the shape of the given axis.\n",
    "\n",
    "- axis : int, optional\n",
    "\n",
    "The axis along which to repeat values. By default, use the flattened input array, and return a flat output array.\n",
    "\n",
    "- Returns:\t\n",
    "repeated_array : ndarray\n",
    "\n",
    "- Output array which has the same shape as a, except along the given axis."
   ]
  },
  {
   "cell_type": "code",
   "execution_count": 36,
   "metadata": {},
   "outputs": [
    {
     "data": {
      "text/plain": [
       "array([3, 3, 3, 3])"
      ]
     },
     "execution_count": 36,
     "metadata": {},
     "output_type": "execute_result"
    }
   ],
   "source": [
    "np.repeat(3,4)"
   ]
  },
  {
   "cell_type": "code",
   "execution_count": 37,
   "metadata": {},
   "outputs": [
    {
     "data": {
      "text/plain": [
       "array([1, 1, 1, 1, 2, 2, 2, 2, 3, 3, 3, 3])"
      ]
     },
     "execution_count": 37,
     "metadata": {},
     "output_type": "execute_result"
    }
   ],
   "source": [
    "np.repeat([1,2,3], 4) "
   ]
  },
  {
   "cell_type": "code",
   "execution_count": 39,
   "metadata": {},
   "outputs": [
    {
     "data": {
      "text/plain": [
       "array([1, 1, 1, 1, 2, 2, 2, 2, 3, 3, 3, 3])"
      ]
     },
     "execution_count": 39,
     "metadata": {},
     "output_type": "execute_result"
    }
   ],
   "source": [
    "np.repeat(np.array([1,2,3]), 4)"
   ]
  },
  {
   "cell_type": "code",
   "execution_count": 40,
   "metadata": {},
   "outputs": [
    {
     "data": {
      "text/plain": [
       "array([[1, 2, 3, 4],\n",
       "       [1, 2, 3, 4],\n",
       "       [1, 2, 3, 4],\n",
       "       [1, 2, 3, 4]])"
      ]
     },
     "execution_count": 40,
     "metadata": {},
     "output_type": "execute_result"
    }
   ],
   "source": [
    "a = np.array([[1,2,3,4]])\n",
    "np.repeat(a, 4, axis=0)"
   ]
  },
  {
   "cell_type": "code",
   "execution_count": 45,
   "metadata": {},
   "outputs": [
    {
     "data": {
      "text/plain": [
       "array([[1, 1, 1, 1, 2, 2, 2, 2, 3, 3, 3, 3, 4, 4, 4, 4]])"
      ]
     },
     "execution_count": 45,
     "metadata": {},
     "output_type": "execute_result"
    }
   ],
   "source": [
    "np.repeat(a, 4, axis=1)"
   ]
  },
  {
   "cell_type": "code",
   "execution_count": 46,
   "metadata": {},
   "outputs": [
    {
     "data": {
      "text/plain": [
       "array([0, 0, 1, 1, 2, 2, 3, 3, 4, 4, 5, 5, 6, 6, 7, 7])"
      ]
     },
     "execution_count": 46,
     "metadata": {},
     "output_type": "execute_result"
    }
   ],
   "source": [
    "a = np.arange(2*2*2).reshape(2,2,2)\n",
    "np.repeat(a, 2)#不设置axis就先把它flat， 然后进行repeat"
   ]
  },
  {
   "cell_type": "code",
   "execution_count": 55,
   "metadata": {},
   "outputs": [
    {
     "data": {
      "text/plain": [
       "array([[ 0,  1,  2],\n",
       "       [ 3,  4,  5],\n",
       "       [ 3,  4,  5],\n",
       "       [ 6,  7,  8],\n",
       "       [ 6,  7,  8],\n",
       "       [ 6,  7,  8],\n",
       "       [ 9, 10, 11],\n",
       "       [ 9, 10, 11],\n",
       "       [ 9, 10, 11],\n",
       "       [ 9, 10, 11]])"
      ]
     },
     "execution_count": 55,
     "metadata": {},
     "output_type": "execute_result"
    }
   ],
   "source": [
    "a = np.arange(12).reshape(4,3)\n",
    "np.repeat(a, [1,2,3,4], axis=0)#设定每一行repeat的次数"
   ]
  },
  {
   "cell_type": "markdown",
   "metadata": {},
   "source": [
    "## sort, sortrows (MATLAB)  & sort (Python) 相关函数\n",
    "\n",
    "`numpy.sort(a, axis=-1, kind='quicksort', order=None)[source]`\n",
    "- Return a sorted copy of an array.\n",
    "\n",
    "- Parameters:\t\n",
    "  a : array_like\n",
    "\n",
    "  Array to be sorted.\n",
    "\n",
    "- axis : int or None, optional\n",
    "\n",
    "  Axis along which to sort. If None, the array is flattened before sorting. The default is -1, which sorts along the last axis.\n",
    "\n",
    "- kind : {‘quicksort’, ‘mergesort’, ‘heapsort’}, optional\n",
    "\n",
    "  Sorting algorithm. Default is ‘quicksort’.\n",
    "\n",
    "- order : str or list of str, optional\n",
    "\n",
    "  When a is an array with fields defined, this argument specifies which fields to compare first, second, etc. A single field can be specified as a string, and not all fields need be specified, but unspecified fields will still be used, in the order in which they come up in the dtype, to break ties.\n",
    "\n",
    "- Returns:\t\n",
    "  sorted_array : ndarray\n",
    "\n",
    "Array of the same type and shape as a."
   ]
  },
  {
   "cell_type": "code",
   "execution_count": 56,
   "metadata": {},
   "outputs": [
    {
     "data": {
      "text/plain": [
       "array([0, 1, 1, 2, 2, 3, 3, 4, 6, 8, 9])"
      ]
     },
     "execution_count": 56,
     "metadata": {},
     "output_type": "execute_result"
    }
   ],
   "source": [
    "a = np.array([1,3,2,6,4,8,3,9,1,0,2])\n",
    "np.sort(a)"
   ]
  },
  {
   "cell_type": "code",
   "execution_count": 64,
   "metadata": {},
   "outputs": [
    {
     "name": "stdout",
     "output_type": "stream",
     "text": [
      "a:\n",
      " [[ 4  9 12  1]\n",
      " [ 0  2  7 14]\n",
      " [ 5  6 13  3]\n",
      " [11 15 10  8]]\n"
     ]
    }
   ],
   "source": [
    "import random\n",
    "a = list(range(16))\n",
    "random.shuffle(a)\n",
    "a = np.array(a).reshape(4,4)\n",
    "print('a:\\n', a)"
   ]
  },
  {
   "cell_type": "code",
   "execution_count": 65,
   "metadata": {},
   "outputs": [
    {
     "data": {
      "text/plain": [
       "array([[ 1,  4,  9, 12],\n",
       "       [ 0,  2,  7, 14],\n",
       "       [ 3,  5,  6, 13],\n",
       "       [ 8, 10, 11, 15]])"
      ]
     },
     "execution_count": 65,
     "metadata": {},
     "output_type": "execute_result"
    }
   ],
   "source": [
    "np.sort(a)#未指明axis, 按照最后一个axis进行排序"
   ]
  },
  {
   "cell_type": "code",
   "execution_count": 66,
   "metadata": {},
   "outputs": [
    {
     "data": {
      "text/plain": [
       "array([[ 0,  2,  7,  1],\n",
       "       [ 4,  6, 10,  3],\n",
       "       [ 5,  9, 12,  8],\n",
       "       [11, 15, 13, 14]])"
      ]
     },
     "execution_count": 66,
     "metadata": {},
     "output_type": "execute_result"
    }
   ],
   "source": [
    "np.sort(a, axis=0)"
   ]
  },
  {
   "cell_type": "markdown",
   "metadata": {},
   "source": [
    "## sortrows\n",
    "numpy v1.14 出现了order的参数, 可以实现优先级排序, 也即为类似于sortrows\n",
    "\n",
    "所以我们自行构造一个标签就可以了"
   ]
  },
  {
   "cell_type": "code",
   "execution_count": 71,
   "metadata": {},
   "outputs": [
    {
     "name": "stdout",
     "output_type": "stream",
     "text": [
      "[(1, 2, 3, 4, 5) (1, 2, 4, 5, 6) (1, 4, 6, 3, 2) (2, 1, 3, 4, 5)]\n"
     ]
    }
   ],
   "source": [
    "a = [(1,2,4,5,6), (1,2,3,4,5), (1,4,6,3,2), (2,1,3,4,5)]\n",
    "order = [(str(i), int) for i in range(5)]\n",
    "a = np.array(a, dtype=order)\n",
    "b = np.sort(a, order=[str(i) for i in range(5)])\n",
    "print(b)"
   ]
  },
  {
   "cell_type": "markdown",
   "metadata": {},
   "source": [
    "有一个lexsort函数专门来实现这个功能"
   ]
  },
  {
   "cell_type": "markdown",
   "metadata": {},
   "source": [
    "##  lexsort\n",
    "`numpy.lexsort`\n",
    "`numpy.lexsort(keys, axis=-1)`\n",
    "- Perform an indirect sort using a sequence of keys.\n",
    "\n",
    "- Given multiple sorting keys, which can be interpreted as columns in a spreadsheet, lexsort returns an array of integer indices that describes the sort order by multiple columns. The last key in the sequence is used for the primary sort order, the second-to-last key for the secondary sort order, and so on. The keys argument must be a sequence of objects that can be converted to arrays of the same shape. If a 2D array is provided for the keys argument, it’s rows are interpreted as the sorting keys and sorting is according to the last row, second last row etc.\n",
    "\n",
    "- Parameters:\t\n",
    "- keys : (k, N) array or tuple containing k (N,)-shaped sequences\n",
    "\n",
    "  The k different “columns” to be sorted. The last column (or row if keys is a 2D array) is the primary sort key.\n",
    "\n",
    "- axis : int, optional\n",
    "\n",
    "  Axis to be indirectly sorted. By default, sort over the last axis.\n",
    "\n",
    "- Returns:\t\n",
    "- indices : (N,) ndarray of ints\n",
    "\n",
    "Array of indices that sort the keys along the specified axis."
   ]
  },
  {
   "cell_type": "code",
   "execution_count": 85,
   "metadata": {},
   "outputs": [
    {
     "data": {
      "text/plain": [
       "[[1, 0], [1, 9], [3, 0], [4, 1], [4, 2], [4, 4], [5, 4]]"
      ]
     },
     "execution_count": 85,
     "metadata": {},
     "output_type": "execute_result"
    }
   ],
   "source": [
    "a = [1,5,1,4,3,4,4] # First column\n",
    "b = [9,4,0,4,0,2,1] # Second column\n",
    "ind = np.lexsort((b,a)) # Sort by a, then by b\n",
    "[[a[i], b[i]] for i in ind]"
   ]
  }
 ],
 "metadata": {
  "kernelspec": {
   "display_name": "Python 3",
   "language": "python",
   "name": "python3"
  },
  "language_info": {
   "codemirror_mode": {
    "name": "ipython",
    "version": 3
   },
   "file_extension": ".py",
   "mimetype": "text/x-python",
   "name": "python",
   "nbconvert_exporter": "python",
   "pygments_lexer": "ipython3",
   "version": "3.6.3"
  }
 },
 "nbformat": 4,
 "nbformat_minor": 2
}
